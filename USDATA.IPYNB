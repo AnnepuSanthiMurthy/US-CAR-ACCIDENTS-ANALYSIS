{
 "cells": [
  {
   "cell_type": "code",
   "execution_count": 81,
   "metadata": {},
   "outputs": [],
   "source": [
    "import pandas as pd"
   ]
  },
  {
   "cell_type": "code",
   "execution_count": 82,
   "metadata": {},
   "outputs": [],
   "source": [
    "df = pd.read_csv(r'C:\\Users\\Asus\\Desktop\\Mani\\Skills\\Data analytics\\EDA PROJECT\\US_Accidents_March23.csv')"
   ]
  },
  {
   "cell_type": "code",
   "execution_count": 83,
   "metadata": {},
   "outputs": [
    {
     "data": {
      "text/html": [
       "<div>\n",
       "<style scoped>\n",
       "    .dataframe tbody tr th:only-of-type {\n",
       "        vertical-align: middle;\n",
       "    }\n",
       "\n",
       "    .dataframe tbody tr th {\n",
       "        vertical-align: top;\n",
       "    }\n",
       "\n",
       "    .dataframe thead th {\n",
       "        text-align: right;\n",
       "    }\n",
       "</style>\n",
       "<table border=\"1\" class=\"dataframe\">\n",
       "  <thead>\n",
       "    <tr style=\"text-align: right;\">\n",
       "      <th></th>\n",
       "      <th>ID</th>\n",
       "      <th>Source</th>\n",
       "      <th>Severity</th>\n",
       "      <th>Start_Time</th>\n",
       "      <th>End_Time</th>\n",
       "      <th>Start_Lat</th>\n",
       "      <th>Start_Lng</th>\n",
       "      <th>End_Lat</th>\n",
       "      <th>End_Lng</th>\n",
       "      <th>Distance(mi)</th>\n",
       "      <th>...</th>\n",
       "      <th>Roundabout</th>\n",
       "      <th>Station</th>\n",
       "      <th>Stop</th>\n",
       "      <th>Traffic_Calming</th>\n",
       "      <th>Traffic_Signal</th>\n",
       "      <th>Turning_Loop</th>\n",
       "      <th>Sunrise_Sunset</th>\n",
       "      <th>Civil_Twilight</th>\n",
       "      <th>Nautical_Twilight</th>\n",
       "      <th>Astronomical_Twilight</th>\n",
       "    </tr>\n",
       "  </thead>\n",
       "  <tbody>\n",
       "    <tr>\n",
       "      <th>0</th>\n",
       "      <td>A-1</td>\n",
       "      <td>Source2</td>\n",
       "      <td>3</td>\n",
       "      <td>2016-02-08 05:46:00</td>\n",
       "      <td>2016-02-08 11:00:00</td>\n",
       "      <td>39.865147</td>\n",
       "      <td>-84.058723</td>\n",
       "      <td>NaN</td>\n",
       "      <td>NaN</td>\n",
       "      <td>0.01</td>\n",
       "      <td>...</td>\n",
       "      <td>False</td>\n",
       "      <td>False</td>\n",
       "      <td>False</td>\n",
       "      <td>False</td>\n",
       "      <td>False</td>\n",
       "      <td>False</td>\n",
       "      <td>Night</td>\n",
       "      <td>Night</td>\n",
       "      <td>Night</td>\n",
       "      <td>Night</td>\n",
       "    </tr>\n",
       "    <tr>\n",
       "      <th>1</th>\n",
       "      <td>A-2</td>\n",
       "      <td>Source2</td>\n",
       "      <td>2</td>\n",
       "      <td>2016-02-08 06:07:59</td>\n",
       "      <td>2016-02-08 06:37:59</td>\n",
       "      <td>39.928059</td>\n",
       "      <td>-82.831184</td>\n",
       "      <td>NaN</td>\n",
       "      <td>NaN</td>\n",
       "      <td>0.01</td>\n",
       "      <td>...</td>\n",
       "      <td>False</td>\n",
       "      <td>False</td>\n",
       "      <td>False</td>\n",
       "      <td>False</td>\n",
       "      <td>False</td>\n",
       "      <td>False</td>\n",
       "      <td>Night</td>\n",
       "      <td>Night</td>\n",
       "      <td>Night</td>\n",
       "      <td>Day</td>\n",
       "    </tr>\n",
       "    <tr>\n",
       "      <th>2</th>\n",
       "      <td>A-3</td>\n",
       "      <td>Source2</td>\n",
       "      <td>2</td>\n",
       "      <td>2016-02-08 06:49:27</td>\n",
       "      <td>2016-02-08 07:19:27</td>\n",
       "      <td>39.063148</td>\n",
       "      <td>-84.032608</td>\n",
       "      <td>NaN</td>\n",
       "      <td>NaN</td>\n",
       "      <td>0.01</td>\n",
       "      <td>...</td>\n",
       "      <td>False</td>\n",
       "      <td>False</td>\n",
       "      <td>False</td>\n",
       "      <td>False</td>\n",
       "      <td>True</td>\n",
       "      <td>False</td>\n",
       "      <td>Night</td>\n",
       "      <td>Night</td>\n",
       "      <td>Day</td>\n",
       "      <td>Day</td>\n",
       "    </tr>\n",
       "    <tr>\n",
       "      <th>3</th>\n",
       "      <td>A-4</td>\n",
       "      <td>Source2</td>\n",
       "      <td>3</td>\n",
       "      <td>2016-02-08 07:23:34</td>\n",
       "      <td>2016-02-08 07:53:34</td>\n",
       "      <td>39.747753</td>\n",
       "      <td>-84.205582</td>\n",
       "      <td>NaN</td>\n",
       "      <td>NaN</td>\n",
       "      <td>0.01</td>\n",
       "      <td>...</td>\n",
       "      <td>False</td>\n",
       "      <td>False</td>\n",
       "      <td>False</td>\n",
       "      <td>False</td>\n",
       "      <td>False</td>\n",
       "      <td>False</td>\n",
       "      <td>Night</td>\n",
       "      <td>Day</td>\n",
       "      <td>Day</td>\n",
       "      <td>Day</td>\n",
       "    </tr>\n",
       "    <tr>\n",
       "      <th>4</th>\n",
       "      <td>A-5</td>\n",
       "      <td>Source2</td>\n",
       "      <td>2</td>\n",
       "      <td>2016-02-08 07:39:07</td>\n",
       "      <td>2016-02-08 08:09:07</td>\n",
       "      <td>39.627781</td>\n",
       "      <td>-84.188354</td>\n",
       "      <td>NaN</td>\n",
       "      <td>NaN</td>\n",
       "      <td>0.01</td>\n",
       "      <td>...</td>\n",
       "      <td>False</td>\n",
       "      <td>False</td>\n",
       "      <td>False</td>\n",
       "      <td>False</td>\n",
       "      <td>True</td>\n",
       "      <td>False</td>\n",
       "      <td>Day</td>\n",
       "      <td>Day</td>\n",
       "      <td>Day</td>\n",
       "      <td>Day</td>\n",
       "    </tr>\n",
       "  </tbody>\n",
       "</table>\n",
       "<p>5 rows × 46 columns</p>\n",
       "</div>"
      ],
      "text/plain": [
       "    ID   Source  Severity           Start_Time             End_Time  \\\n",
       "0  A-1  Source2         3  2016-02-08 05:46:00  2016-02-08 11:00:00   \n",
       "1  A-2  Source2         2  2016-02-08 06:07:59  2016-02-08 06:37:59   \n",
       "2  A-3  Source2         2  2016-02-08 06:49:27  2016-02-08 07:19:27   \n",
       "3  A-4  Source2         3  2016-02-08 07:23:34  2016-02-08 07:53:34   \n",
       "4  A-5  Source2         2  2016-02-08 07:39:07  2016-02-08 08:09:07   \n",
       "\n",
       "   Start_Lat  Start_Lng  End_Lat  End_Lng  Distance(mi)  ... Roundabout  \\\n",
       "0  39.865147 -84.058723      NaN      NaN          0.01  ...      False   \n",
       "1  39.928059 -82.831184      NaN      NaN          0.01  ...      False   \n",
       "2  39.063148 -84.032608      NaN      NaN          0.01  ...      False   \n",
       "3  39.747753 -84.205582      NaN      NaN          0.01  ...      False   \n",
       "4  39.627781 -84.188354      NaN      NaN          0.01  ...      False   \n",
       "\n",
       "  Station   Stop Traffic_Calming Traffic_Signal Turning_Loop Sunrise_Sunset  \\\n",
       "0   False  False           False          False        False          Night   \n",
       "1   False  False           False          False        False          Night   \n",
       "2   False  False           False           True        False          Night   \n",
       "3   False  False           False          False        False          Night   \n",
       "4   False  False           False           True        False            Day   \n",
       "\n",
       "  Civil_Twilight Nautical_Twilight Astronomical_Twilight  \n",
       "0          Night             Night                 Night  \n",
       "1          Night             Night                   Day  \n",
       "2          Night               Day                   Day  \n",
       "3            Day               Day                   Day  \n",
       "4            Day               Day                   Day  \n",
       "\n",
       "[5 rows x 46 columns]"
      ]
     },
     "execution_count": 83,
     "metadata": {},
     "output_type": "execute_result"
    }
   ],
   "source": [
    "df.head()"
   ]
  },
  {
   "cell_type": "code",
   "execution_count": 84,
   "metadata": {},
   "outputs": [
    {
     "data": {
      "text/html": [
       "<div>\n",
       "<style scoped>\n",
       "    .dataframe tbody tr th:only-of-type {\n",
       "        vertical-align: middle;\n",
       "    }\n",
       "\n",
       "    .dataframe tbody tr th {\n",
       "        vertical-align: top;\n",
       "    }\n",
       "\n",
       "    .dataframe thead th {\n",
       "        text-align: right;\n",
       "    }\n",
       "</style>\n",
       "<table border=\"1\" class=\"dataframe\">\n",
       "  <thead>\n",
       "    <tr style=\"text-align: right;\">\n",
       "      <th></th>\n",
       "      <th>ID</th>\n",
       "      <th>Source</th>\n",
       "      <th>Severity</th>\n",
       "      <th>Start_Time</th>\n",
       "      <th>End_Time</th>\n",
       "      <th>Start_Lat</th>\n",
       "      <th>Start_Lng</th>\n",
       "      <th>End_Lat</th>\n",
       "      <th>End_Lng</th>\n",
       "      <th>Distance(mi)</th>\n",
       "      <th>...</th>\n",
       "      <th>Roundabout</th>\n",
       "      <th>Station</th>\n",
       "      <th>Stop</th>\n",
       "      <th>Traffic_Calming</th>\n",
       "      <th>Traffic_Signal</th>\n",
       "      <th>Turning_Loop</th>\n",
       "      <th>Sunrise_Sunset</th>\n",
       "      <th>Civil_Twilight</th>\n",
       "      <th>Nautical_Twilight</th>\n",
       "      <th>Astronomical_Twilight</th>\n",
       "    </tr>\n",
       "  </thead>\n",
       "  <tbody>\n",
       "    <tr>\n",
       "      <th>7728389</th>\n",
       "      <td>A-7777757</td>\n",
       "      <td>Source1</td>\n",
       "      <td>2</td>\n",
       "      <td>2019-08-23 18:03:25</td>\n",
       "      <td>2019-08-23 18:32:01</td>\n",
       "      <td>34.00248</td>\n",
       "      <td>-117.37936</td>\n",
       "      <td>33.99888</td>\n",
       "      <td>-117.37094</td>\n",
       "      <td>0.543</td>\n",
       "      <td>...</td>\n",
       "      <td>False</td>\n",
       "      <td>False</td>\n",
       "      <td>False</td>\n",
       "      <td>False</td>\n",
       "      <td>False</td>\n",
       "      <td>False</td>\n",
       "      <td>Day</td>\n",
       "      <td>Day</td>\n",
       "      <td>Day</td>\n",
       "      <td>Day</td>\n",
       "    </tr>\n",
       "    <tr>\n",
       "      <th>7728390</th>\n",
       "      <td>A-7777758</td>\n",
       "      <td>Source1</td>\n",
       "      <td>2</td>\n",
       "      <td>2019-08-23 19:11:30</td>\n",
       "      <td>2019-08-23 19:38:23</td>\n",
       "      <td>32.76696</td>\n",
       "      <td>-117.14806</td>\n",
       "      <td>32.76555</td>\n",
       "      <td>-117.15363</td>\n",
       "      <td>0.338</td>\n",
       "      <td>...</td>\n",
       "      <td>False</td>\n",
       "      <td>False</td>\n",
       "      <td>False</td>\n",
       "      <td>False</td>\n",
       "      <td>False</td>\n",
       "      <td>False</td>\n",
       "      <td>Day</td>\n",
       "      <td>Day</td>\n",
       "      <td>Day</td>\n",
       "      <td>Day</td>\n",
       "    </tr>\n",
       "    <tr>\n",
       "      <th>7728391</th>\n",
       "      <td>A-7777759</td>\n",
       "      <td>Source1</td>\n",
       "      <td>2</td>\n",
       "      <td>2019-08-23 19:00:21</td>\n",
       "      <td>2019-08-23 19:28:49</td>\n",
       "      <td>33.77545</td>\n",
       "      <td>-117.84779</td>\n",
       "      <td>33.77740</td>\n",
       "      <td>-117.85727</td>\n",
       "      <td>0.561</td>\n",
       "      <td>...</td>\n",
       "      <td>False</td>\n",
       "      <td>False</td>\n",
       "      <td>False</td>\n",
       "      <td>False</td>\n",
       "      <td>False</td>\n",
       "      <td>False</td>\n",
       "      <td>Day</td>\n",
       "      <td>Day</td>\n",
       "      <td>Day</td>\n",
       "      <td>Day</td>\n",
       "    </tr>\n",
       "    <tr>\n",
       "      <th>7728392</th>\n",
       "      <td>A-7777760</td>\n",
       "      <td>Source1</td>\n",
       "      <td>2</td>\n",
       "      <td>2019-08-23 19:00:21</td>\n",
       "      <td>2019-08-23 19:29:42</td>\n",
       "      <td>33.99246</td>\n",
       "      <td>-118.40302</td>\n",
       "      <td>33.98311</td>\n",
       "      <td>-118.39565</td>\n",
       "      <td>0.772</td>\n",
       "      <td>...</td>\n",
       "      <td>False</td>\n",
       "      <td>False</td>\n",
       "      <td>False</td>\n",
       "      <td>False</td>\n",
       "      <td>False</td>\n",
       "      <td>False</td>\n",
       "      <td>Day</td>\n",
       "      <td>Day</td>\n",
       "      <td>Day</td>\n",
       "      <td>Day</td>\n",
       "    </tr>\n",
       "    <tr>\n",
       "      <th>7728393</th>\n",
       "      <td>A-7777761</td>\n",
       "      <td>Source1</td>\n",
       "      <td>2</td>\n",
       "      <td>2019-08-23 18:52:06</td>\n",
       "      <td>2019-08-23 19:21:31</td>\n",
       "      <td>34.13393</td>\n",
       "      <td>-117.23092</td>\n",
       "      <td>34.13736</td>\n",
       "      <td>-117.23934</td>\n",
       "      <td>0.537</td>\n",
       "      <td>...</td>\n",
       "      <td>False</td>\n",
       "      <td>False</td>\n",
       "      <td>False</td>\n",
       "      <td>False</td>\n",
       "      <td>False</td>\n",
       "      <td>False</td>\n",
       "      <td>Day</td>\n",
       "      <td>Day</td>\n",
       "      <td>Day</td>\n",
       "      <td>Day</td>\n",
       "    </tr>\n",
       "  </tbody>\n",
       "</table>\n",
       "<p>5 rows × 46 columns</p>\n",
       "</div>"
      ],
      "text/plain": [
       "                ID   Source  Severity           Start_Time  \\\n",
       "7728389  A-7777757  Source1         2  2019-08-23 18:03:25   \n",
       "7728390  A-7777758  Source1         2  2019-08-23 19:11:30   \n",
       "7728391  A-7777759  Source1         2  2019-08-23 19:00:21   \n",
       "7728392  A-7777760  Source1         2  2019-08-23 19:00:21   \n",
       "7728393  A-7777761  Source1         2  2019-08-23 18:52:06   \n",
       "\n",
       "                    End_Time  Start_Lat  Start_Lng   End_Lat    End_Lng  \\\n",
       "7728389  2019-08-23 18:32:01   34.00248 -117.37936  33.99888 -117.37094   \n",
       "7728390  2019-08-23 19:38:23   32.76696 -117.14806  32.76555 -117.15363   \n",
       "7728391  2019-08-23 19:28:49   33.77545 -117.84779  33.77740 -117.85727   \n",
       "7728392  2019-08-23 19:29:42   33.99246 -118.40302  33.98311 -118.39565   \n",
       "7728393  2019-08-23 19:21:31   34.13393 -117.23092  34.13736 -117.23934   \n",
       "\n",
       "         Distance(mi)  ... Roundabout Station   Stop Traffic_Calming  \\\n",
       "7728389         0.543  ...      False   False  False           False   \n",
       "7728390         0.338  ...      False   False  False           False   \n",
       "7728391         0.561  ...      False   False  False           False   \n",
       "7728392         0.772  ...      False   False  False           False   \n",
       "7728393         0.537  ...      False   False  False           False   \n",
       "\n",
       "        Traffic_Signal Turning_Loop Sunrise_Sunset Civil_Twilight  \\\n",
       "7728389          False        False            Day            Day   \n",
       "7728390          False        False            Day            Day   \n",
       "7728391          False        False            Day            Day   \n",
       "7728392          False        False            Day            Day   \n",
       "7728393          False        False            Day            Day   \n",
       "\n",
       "        Nautical_Twilight Astronomical_Twilight  \n",
       "7728389               Day                   Day  \n",
       "7728390               Day                   Day  \n",
       "7728391               Day                   Day  \n",
       "7728392               Day                   Day  \n",
       "7728393               Day                   Day  \n",
       "\n",
       "[5 rows x 46 columns]"
      ]
     },
     "execution_count": 84,
     "metadata": {},
     "output_type": "execute_result"
    }
   ],
   "source": [
    "df.tail()"
   ]
  },
  {
   "cell_type": "code",
   "execution_count": 85,
   "metadata": {},
   "outputs": [
    {
     "data": {
      "text/html": [
       "<div>\n",
       "<style scoped>\n",
       "    .dataframe tbody tr th:only-of-type {\n",
       "        vertical-align: middle;\n",
       "    }\n",
       "\n",
       "    .dataframe tbody tr th {\n",
       "        vertical-align: top;\n",
       "    }\n",
       "\n",
       "    .dataframe thead th {\n",
       "        text-align: right;\n",
       "    }\n",
       "</style>\n",
       "<table border=\"1\" class=\"dataframe\">\n",
       "  <thead>\n",
       "    <tr style=\"text-align: right;\">\n",
       "      <th></th>\n",
       "      <th>Severity</th>\n",
       "      <th>Start_Lat</th>\n",
       "      <th>Start_Lng</th>\n",
       "      <th>End_Lat</th>\n",
       "      <th>End_Lng</th>\n",
       "      <th>Distance(mi)</th>\n",
       "      <th>Temperature(F)</th>\n",
       "      <th>Wind_Chill(F)</th>\n",
       "      <th>Humidity(%)</th>\n",
       "      <th>Pressure(in)</th>\n",
       "      <th>Visibility(mi)</th>\n",
       "      <th>Wind_Speed(mph)</th>\n",
       "      <th>Precipitation(in)</th>\n",
       "    </tr>\n",
       "  </thead>\n",
       "  <tbody>\n",
       "    <tr>\n",
       "      <th>count</th>\n",
       "      <td>7.728394e+06</td>\n",
       "      <td>7.728394e+06</td>\n",
       "      <td>7.728394e+06</td>\n",
       "      <td>4.325632e+06</td>\n",
       "      <td>4.325632e+06</td>\n",
       "      <td>7.728394e+06</td>\n",
       "      <td>7.564541e+06</td>\n",
       "      <td>5.729375e+06</td>\n",
       "      <td>7.554250e+06</td>\n",
       "      <td>7.587715e+06</td>\n",
       "      <td>7.551296e+06</td>\n",
       "      <td>7.157161e+06</td>\n",
       "      <td>5.524808e+06</td>\n",
       "    </tr>\n",
       "    <tr>\n",
       "      <th>mean</th>\n",
       "      <td>2.212384e+00</td>\n",
       "      <td>3.620119e+01</td>\n",
       "      <td>-9.470255e+01</td>\n",
       "      <td>3.626183e+01</td>\n",
       "      <td>-9.572557e+01</td>\n",
       "      <td>5.618423e-01</td>\n",
       "      <td>6.166329e+01</td>\n",
       "      <td>5.825105e+01</td>\n",
       "      <td>6.483104e+01</td>\n",
       "      <td>2.953899e+01</td>\n",
       "      <td>9.090376e+00</td>\n",
       "      <td>7.685490e+00</td>\n",
       "      <td>8.407210e-03</td>\n",
       "    </tr>\n",
       "    <tr>\n",
       "      <th>std</th>\n",
       "      <td>4.875313e-01</td>\n",
       "      <td>5.076079e+00</td>\n",
       "      <td>1.739176e+01</td>\n",
       "      <td>5.272905e+00</td>\n",
       "      <td>1.810793e+01</td>\n",
       "      <td>1.776811e+00</td>\n",
       "      <td>1.901365e+01</td>\n",
       "      <td>2.238983e+01</td>\n",
       "      <td>2.282097e+01</td>\n",
       "      <td>1.006190e+00</td>\n",
       "      <td>2.688316e+00</td>\n",
       "      <td>5.424983e+00</td>\n",
       "      <td>1.102246e-01</td>\n",
       "    </tr>\n",
       "    <tr>\n",
       "      <th>min</th>\n",
       "      <td>1.000000e+00</td>\n",
       "      <td>2.455480e+01</td>\n",
       "      <td>-1.246238e+02</td>\n",
       "      <td>2.456601e+01</td>\n",
       "      <td>-1.245457e+02</td>\n",
       "      <td>0.000000e+00</td>\n",
       "      <td>-8.900000e+01</td>\n",
       "      <td>-8.900000e+01</td>\n",
       "      <td>1.000000e+00</td>\n",
       "      <td>0.000000e+00</td>\n",
       "      <td>0.000000e+00</td>\n",
       "      <td>0.000000e+00</td>\n",
       "      <td>0.000000e+00</td>\n",
       "    </tr>\n",
       "    <tr>\n",
       "      <th>25%</th>\n",
       "      <td>2.000000e+00</td>\n",
       "      <td>3.339963e+01</td>\n",
       "      <td>-1.172194e+02</td>\n",
       "      <td>3.346207e+01</td>\n",
       "      <td>-1.177543e+02</td>\n",
       "      <td>0.000000e+00</td>\n",
       "      <td>4.900000e+01</td>\n",
       "      <td>4.300000e+01</td>\n",
       "      <td>4.800000e+01</td>\n",
       "      <td>2.937000e+01</td>\n",
       "      <td>1.000000e+01</td>\n",
       "      <td>4.600000e+00</td>\n",
       "      <td>0.000000e+00</td>\n",
       "    </tr>\n",
       "    <tr>\n",
       "      <th>50%</th>\n",
       "      <td>2.000000e+00</td>\n",
       "      <td>3.582397e+01</td>\n",
       "      <td>-8.776662e+01</td>\n",
       "      <td>3.618349e+01</td>\n",
       "      <td>-8.802789e+01</td>\n",
       "      <td>3.000000e-02</td>\n",
       "      <td>6.400000e+01</td>\n",
       "      <td>6.200000e+01</td>\n",
       "      <td>6.700000e+01</td>\n",
       "      <td>2.986000e+01</td>\n",
       "      <td>1.000000e+01</td>\n",
       "      <td>7.000000e+00</td>\n",
       "      <td>0.000000e+00</td>\n",
       "    </tr>\n",
       "    <tr>\n",
       "      <th>75%</th>\n",
       "      <td>2.000000e+00</td>\n",
       "      <td>4.008496e+01</td>\n",
       "      <td>-8.035368e+01</td>\n",
       "      <td>4.017892e+01</td>\n",
       "      <td>-8.024709e+01</td>\n",
       "      <td>4.640000e-01</td>\n",
       "      <td>7.600000e+01</td>\n",
       "      <td>7.500000e+01</td>\n",
       "      <td>8.400000e+01</td>\n",
       "      <td>3.003000e+01</td>\n",
       "      <td>1.000000e+01</td>\n",
       "      <td>1.040000e+01</td>\n",
       "      <td>0.000000e+00</td>\n",
       "    </tr>\n",
       "    <tr>\n",
       "      <th>max</th>\n",
       "      <td>4.000000e+00</td>\n",
       "      <td>4.900220e+01</td>\n",
       "      <td>-6.711317e+01</td>\n",
       "      <td>4.907500e+01</td>\n",
       "      <td>-6.710924e+01</td>\n",
       "      <td>4.417500e+02</td>\n",
       "      <td>2.070000e+02</td>\n",
       "      <td>2.070000e+02</td>\n",
       "      <td>1.000000e+02</td>\n",
       "      <td>5.863000e+01</td>\n",
       "      <td>1.400000e+02</td>\n",
       "      <td>1.087000e+03</td>\n",
       "      <td>3.647000e+01</td>\n",
       "    </tr>\n",
       "  </tbody>\n",
       "</table>\n",
       "</div>"
      ],
      "text/plain": [
       "           Severity     Start_Lat     Start_Lng       End_Lat       End_Lng  \\\n",
       "count  7.728394e+06  7.728394e+06  7.728394e+06  4.325632e+06  4.325632e+06   \n",
       "mean   2.212384e+00  3.620119e+01 -9.470255e+01  3.626183e+01 -9.572557e+01   \n",
       "std    4.875313e-01  5.076079e+00  1.739176e+01  5.272905e+00  1.810793e+01   \n",
       "min    1.000000e+00  2.455480e+01 -1.246238e+02  2.456601e+01 -1.245457e+02   \n",
       "25%    2.000000e+00  3.339963e+01 -1.172194e+02  3.346207e+01 -1.177543e+02   \n",
       "50%    2.000000e+00  3.582397e+01 -8.776662e+01  3.618349e+01 -8.802789e+01   \n",
       "75%    2.000000e+00  4.008496e+01 -8.035368e+01  4.017892e+01 -8.024709e+01   \n",
       "max    4.000000e+00  4.900220e+01 -6.711317e+01  4.907500e+01 -6.710924e+01   \n",
       "\n",
       "       Distance(mi)  Temperature(F)  Wind_Chill(F)   Humidity(%)  \\\n",
       "count  7.728394e+06    7.564541e+06   5.729375e+06  7.554250e+06   \n",
       "mean   5.618423e-01    6.166329e+01   5.825105e+01  6.483104e+01   \n",
       "std    1.776811e+00    1.901365e+01   2.238983e+01  2.282097e+01   \n",
       "min    0.000000e+00   -8.900000e+01  -8.900000e+01  1.000000e+00   \n",
       "25%    0.000000e+00    4.900000e+01   4.300000e+01  4.800000e+01   \n",
       "50%    3.000000e-02    6.400000e+01   6.200000e+01  6.700000e+01   \n",
       "75%    4.640000e-01    7.600000e+01   7.500000e+01  8.400000e+01   \n",
       "max    4.417500e+02    2.070000e+02   2.070000e+02  1.000000e+02   \n",
       "\n",
       "       Pressure(in)  Visibility(mi)  Wind_Speed(mph)  Precipitation(in)  \n",
       "count  7.587715e+06    7.551296e+06     7.157161e+06       5.524808e+06  \n",
       "mean   2.953899e+01    9.090376e+00     7.685490e+00       8.407210e-03  \n",
       "std    1.006190e+00    2.688316e+00     5.424983e+00       1.102246e-01  \n",
       "min    0.000000e+00    0.000000e+00     0.000000e+00       0.000000e+00  \n",
       "25%    2.937000e+01    1.000000e+01     4.600000e+00       0.000000e+00  \n",
       "50%    2.986000e+01    1.000000e+01     7.000000e+00       0.000000e+00  \n",
       "75%    3.003000e+01    1.000000e+01     1.040000e+01       0.000000e+00  \n",
       "max    5.863000e+01    1.400000e+02     1.087000e+03       3.647000e+01  "
      ]
     },
     "execution_count": 85,
     "metadata": {},
     "output_type": "execute_result"
    }
   ],
   "source": [
    "df.describe()"
   ]
  },
  {
   "cell_type": "code",
   "execution_count": 86,
   "metadata": {},
   "outputs": [
    {
     "data": {
      "text/plain": [
       "0          Source2\n",
       "1          Source2\n",
       "2          Source2\n",
       "3          Source2\n",
       "4          Source2\n",
       "            ...   \n",
       "7728389    Source1\n",
       "7728390    Source1\n",
       "7728391    Source1\n",
       "7728392    Source1\n",
       "7728393    Source1\n",
       "Name: Source, Length: 7728394, dtype: object"
      ]
     },
     "execution_count": 86,
     "metadata": {},
     "output_type": "execute_result"
    }
   ],
   "source": [
    "df['Source']"
   ]
  },
  {
   "cell_type": "code",
   "execution_count": 87,
   "metadata": {},
   "outputs": [
    {
     "data": {
      "text/plain": [
       "Index(['ID', 'Source', 'Severity', 'Start_Time', 'End_Time', 'Start_Lat',\n",
       "       'Start_Lng', 'End_Lat', 'End_Lng', 'Distance(mi)', 'Description',\n",
       "       'Street', 'City', 'County', 'State', 'Zipcode', 'Country', 'Timezone',\n",
       "       'Airport_Code', 'Weather_Timestamp', 'Temperature(F)', 'Wind_Chill(F)',\n",
       "       'Humidity(%)', 'Pressure(in)', 'Visibility(mi)', 'Wind_Direction',\n",
       "       'Wind_Speed(mph)', 'Precipitation(in)', 'Weather_Condition', 'Amenity',\n",
       "       'Bump', 'Crossing', 'Give_Way', 'Junction', 'No_Exit', 'Railway',\n",
       "       'Roundabout', 'Station', 'Stop', 'Traffic_Calming', 'Traffic_Signal',\n",
       "       'Turning_Loop', 'Sunrise_Sunset', 'Civil_Twilight', 'Nautical_Twilight',\n",
       "       'Astronomical_Twilight'],\n",
       "      dtype='object')"
      ]
     },
     "execution_count": 87,
     "metadata": {},
     "output_type": "execute_result"
    }
   ],
   "source": [
    "df.columns"
   ]
  },
  {
   "cell_type": "code",
   "execution_count": 88,
   "metadata": {},
   "outputs": [
    {
     "data": {
      "text/plain": [
       "46"
      ]
     },
     "execution_count": 88,
     "metadata": {},
     "output_type": "execute_result"
    }
   ],
   "source": [
    "len(df.columns)"
   ]
  },
  {
   "cell_type": "code",
   "execution_count": 89,
   "metadata": {},
   "outputs": [
    {
     "name": "stdout",
     "output_type": "stream",
     "text": [
      "<class 'pandas.core.frame.DataFrame'>\n",
      "RangeIndex: 7728394 entries, 0 to 7728393\n",
      "Data columns (total 46 columns):\n",
      " #   Column                 Dtype  \n",
      "---  ------                 -----  \n",
      " 0   ID                     object \n",
      " 1   Source                 object \n",
      " 2   Severity               int64  \n",
      " 3   Start_Time             object \n",
      " 4   End_Time               object \n",
      " 5   Start_Lat              float64\n",
      " 6   Start_Lng              float64\n",
      " 7   End_Lat                float64\n",
      " 8   End_Lng                float64\n",
      " 9   Distance(mi)           float64\n",
      " 10  Description            object \n",
      " 11  Street                 object \n",
      " 12  City                   object \n",
      " 13  County                 object \n",
      " 14  State                  object \n",
      " 15  Zipcode                object \n",
      " 16  Country                object \n",
      " 17  Timezone               object \n",
      " 18  Airport_Code           object \n",
      " 19  Weather_Timestamp      object \n",
      " 20  Temperature(F)         float64\n",
      " 21  Wind_Chill(F)          float64\n",
      " 22  Humidity(%)            float64\n",
      " 23  Pressure(in)           float64\n",
      " 24  Visibility(mi)         float64\n",
      " 25  Wind_Direction         object \n",
      " 26  Wind_Speed(mph)        float64\n",
      " 27  Precipitation(in)      float64\n",
      " 28  Weather_Condition      object \n",
      " 29  Amenity                bool   \n",
      " 30  Bump                   bool   \n",
      " 31  Crossing               bool   \n",
      " 32  Give_Way               bool   \n",
      " 33  Junction               bool   \n",
      " 34  No_Exit                bool   \n",
      " 35  Railway                bool   \n",
      " 36  Roundabout             bool   \n",
      " 37  Station                bool   \n",
      " 38  Stop                   bool   \n",
      " 39  Traffic_Calming        bool   \n",
      " 40  Traffic_Signal         bool   \n",
      " 41  Turning_Loop           bool   \n",
      " 42  Sunrise_Sunset         object \n",
      " 43  Civil_Twilight         object \n",
      " 44  Nautical_Twilight      object \n",
      " 45  Astronomical_Twilight  object \n",
      "dtypes: bool(13), float64(12), int64(1), object(20)\n",
      "memory usage: 2.0+ GB\n"
     ]
    }
   ],
   "source": [
    "df.info()"
   ]
  },
  {
   "cell_type": "code",
   "execution_count": 90,
   "metadata": {},
   "outputs": [],
   "source": [
    "numerics = ['int16','int32','int64','float32','float64']\n",
    "newdf = df.select_dtypes(include=numerics)"
   ]
  },
  {
   "cell_type": "code",
   "execution_count": 91,
   "metadata": {},
   "outputs": [
    {
     "data": {
      "text/html": [
       "<div>\n",
       "<style scoped>\n",
       "    .dataframe tbody tr th:only-of-type {\n",
       "        vertical-align: middle;\n",
       "    }\n",
       "\n",
       "    .dataframe tbody tr th {\n",
       "        vertical-align: top;\n",
       "    }\n",
       "\n",
       "    .dataframe thead th {\n",
       "        text-align: right;\n",
       "    }\n",
       "</style>\n",
       "<table border=\"1\" class=\"dataframe\">\n",
       "  <thead>\n",
       "    <tr style=\"text-align: right;\">\n",
       "      <th></th>\n",
       "      <th>Severity</th>\n",
       "      <th>Start_Lat</th>\n",
       "      <th>Start_Lng</th>\n",
       "      <th>End_Lat</th>\n",
       "      <th>End_Lng</th>\n",
       "      <th>Distance(mi)</th>\n",
       "      <th>Temperature(F)</th>\n",
       "      <th>Wind_Chill(F)</th>\n",
       "      <th>Humidity(%)</th>\n",
       "      <th>Pressure(in)</th>\n",
       "      <th>Visibility(mi)</th>\n",
       "      <th>Wind_Speed(mph)</th>\n",
       "      <th>Precipitation(in)</th>\n",
       "    </tr>\n",
       "  </thead>\n",
       "  <tbody>\n",
       "    <tr>\n",
       "      <th>0</th>\n",
       "      <td>3</td>\n",
       "      <td>39.865147</td>\n",
       "      <td>-84.058723</td>\n",
       "      <td>NaN</td>\n",
       "      <td>NaN</td>\n",
       "      <td>0.010</td>\n",
       "      <td>36.9</td>\n",
       "      <td>NaN</td>\n",
       "      <td>91.0</td>\n",
       "      <td>29.68</td>\n",
       "      <td>10.0</td>\n",
       "      <td>NaN</td>\n",
       "      <td>0.02</td>\n",
       "    </tr>\n",
       "    <tr>\n",
       "      <th>1</th>\n",
       "      <td>2</td>\n",
       "      <td>39.928059</td>\n",
       "      <td>-82.831184</td>\n",
       "      <td>NaN</td>\n",
       "      <td>NaN</td>\n",
       "      <td>0.010</td>\n",
       "      <td>37.9</td>\n",
       "      <td>NaN</td>\n",
       "      <td>100.0</td>\n",
       "      <td>29.65</td>\n",
       "      <td>10.0</td>\n",
       "      <td>NaN</td>\n",
       "      <td>0.00</td>\n",
       "    </tr>\n",
       "    <tr>\n",
       "      <th>2</th>\n",
       "      <td>2</td>\n",
       "      <td>39.063148</td>\n",
       "      <td>-84.032608</td>\n",
       "      <td>NaN</td>\n",
       "      <td>NaN</td>\n",
       "      <td>0.010</td>\n",
       "      <td>36.0</td>\n",
       "      <td>33.3</td>\n",
       "      <td>100.0</td>\n",
       "      <td>29.67</td>\n",
       "      <td>10.0</td>\n",
       "      <td>3.5</td>\n",
       "      <td>NaN</td>\n",
       "    </tr>\n",
       "    <tr>\n",
       "      <th>3</th>\n",
       "      <td>3</td>\n",
       "      <td>39.747753</td>\n",
       "      <td>-84.205582</td>\n",
       "      <td>NaN</td>\n",
       "      <td>NaN</td>\n",
       "      <td>0.010</td>\n",
       "      <td>35.1</td>\n",
       "      <td>31.0</td>\n",
       "      <td>96.0</td>\n",
       "      <td>29.64</td>\n",
       "      <td>9.0</td>\n",
       "      <td>4.6</td>\n",
       "      <td>NaN</td>\n",
       "    </tr>\n",
       "    <tr>\n",
       "      <th>4</th>\n",
       "      <td>2</td>\n",
       "      <td>39.627781</td>\n",
       "      <td>-84.188354</td>\n",
       "      <td>NaN</td>\n",
       "      <td>NaN</td>\n",
       "      <td>0.010</td>\n",
       "      <td>36.0</td>\n",
       "      <td>33.3</td>\n",
       "      <td>89.0</td>\n",
       "      <td>29.65</td>\n",
       "      <td>6.0</td>\n",
       "      <td>3.5</td>\n",
       "      <td>NaN</td>\n",
       "    </tr>\n",
       "    <tr>\n",
       "      <th>...</th>\n",
       "      <td>...</td>\n",
       "      <td>...</td>\n",
       "      <td>...</td>\n",
       "      <td>...</td>\n",
       "      <td>...</td>\n",
       "      <td>...</td>\n",
       "      <td>...</td>\n",
       "      <td>...</td>\n",
       "      <td>...</td>\n",
       "      <td>...</td>\n",
       "      <td>...</td>\n",
       "      <td>...</td>\n",
       "      <td>...</td>\n",
       "    </tr>\n",
       "    <tr>\n",
       "      <th>7728389</th>\n",
       "      <td>2</td>\n",
       "      <td>34.002480</td>\n",
       "      <td>-117.379360</td>\n",
       "      <td>33.99888</td>\n",
       "      <td>-117.37094</td>\n",
       "      <td>0.543</td>\n",
       "      <td>86.0</td>\n",
       "      <td>86.0</td>\n",
       "      <td>40.0</td>\n",
       "      <td>28.92</td>\n",
       "      <td>10.0</td>\n",
       "      <td>13.0</td>\n",
       "      <td>0.00</td>\n",
       "    </tr>\n",
       "    <tr>\n",
       "      <th>7728390</th>\n",
       "      <td>2</td>\n",
       "      <td>32.766960</td>\n",
       "      <td>-117.148060</td>\n",
       "      <td>32.76555</td>\n",
       "      <td>-117.15363</td>\n",
       "      <td>0.338</td>\n",
       "      <td>70.0</td>\n",
       "      <td>70.0</td>\n",
       "      <td>73.0</td>\n",
       "      <td>29.39</td>\n",
       "      <td>10.0</td>\n",
       "      <td>6.0</td>\n",
       "      <td>0.00</td>\n",
       "    </tr>\n",
       "    <tr>\n",
       "      <th>7728391</th>\n",
       "      <td>2</td>\n",
       "      <td>33.775450</td>\n",
       "      <td>-117.847790</td>\n",
       "      <td>33.77740</td>\n",
       "      <td>-117.85727</td>\n",
       "      <td>0.561</td>\n",
       "      <td>73.0</td>\n",
       "      <td>73.0</td>\n",
       "      <td>64.0</td>\n",
       "      <td>29.74</td>\n",
       "      <td>10.0</td>\n",
       "      <td>10.0</td>\n",
       "      <td>0.00</td>\n",
       "    </tr>\n",
       "    <tr>\n",
       "      <th>7728392</th>\n",
       "      <td>2</td>\n",
       "      <td>33.992460</td>\n",
       "      <td>-118.403020</td>\n",
       "      <td>33.98311</td>\n",
       "      <td>-118.39565</td>\n",
       "      <td>0.772</td>\n",
       "      <td>71.0</td>\n",
       "      <td>71.0</td>\n",
       "      <td>81.0</td>\n",
       "      <td>29.62</td>\n",
       "      <td>10.0</td>\n",
       "      <td>8.0</td>\n",
       "      <td>0.00</td>\n",
       "    </tr>\n",
       "    <tr>\n",
       "      <th>7728393</th>\n",
       "      <td>2</td>\n",
       "      <td>34.133930</td>\n",
       "      <td>-117.230920</td>\n",
       "      <td>34.13736</td>\n",
       "      <td>-117.23934</td>\n",
       "      <td>0.537</td>\n",
       "      <td>79.0</td>\n",
       "      <td>79.0</td>\n",
       "      <td>47.0</td>\n",
       "      <td>28.63</td>\n",
       "      <td>7.0</td>\n",
       "      <td>7.0</td>\n",
       "      <td>0.00</td>\n",
       "    </tr>\n",
       "  </tbody>\n",
       "</table>\n",
       "<p>7728394 rows × 13 columns</p>\n",
       "</div>"
      ],
      "text/plain": [
       "         Severity  Start_Lat   Start_Lng   End_Lat    End_Lng  Distance(mi)  \\\n",
       "0               3  39.865147  -84.058723       NaN        NaN         0.010   \n",
       "1               2  39.928059  -82.831184       NaN        NaN         0.010   \n",
       "2               2  39.063148  -84.032608       NaN        NaN         0.010   \n",
       "3               3  39.747753  -84.205582       NaN        NaN         0.010   \n",
       "4               2  39.627781  -84.188354       NaN        NaN         0.010   \n",
       "...           ...        ...         ...       ...        ...           ...   \n",
       "7728389         2  34.002480 -117.379360  33.99888 -117.37094         0.543   \n",
       "7728390         2  32.766960 -117.148060  32.76555 -117.15363         0.338   \n",
       "7728391         2  33.775450 -117.847790  33.77740 -117.85727         0.561   \n",
       "7728392         2  33.992460 -118.403020  33.98311 -118.39565         0.772   \n",
       "7728393         2  34.133930 -117.230920  34.13736 -117.23934         0.537   \n",
       "\n",
       "         Temperature(F)  Wind_Chill(F)  Humidity(%)  Pressure(in)  \\\n",
       "0                  36.9            NaN         91.0         29.68   \n",
       "1                  37.9            NaN        100.0         29.65   \n",
       "2                  36.0           33.3        100.0         29.67   \n",
       "3                  35.1           31.0         96.0         29.64   \n",
       "4                  36.0           33.3         89.0         29.65   \n",
       "...                 ...            ...          ...           ...   \n",
       "7728389            86.0           86.0         40.0         28.92   \n",
       "7728390            70.0           70.0         73.0         29.39   \n",
       "7728391            73.0           73.0         64.0         29.74   \n",
       "7728392            71.0           71.0         81.0         29.62   \n",
       "7728393            79.0           79.0         47.0         28.63   \n",
       "\n",
       "         Visibility(mi)  Wind_Speed(mph)  Precipitation(in)  \n",
       "0                  10.0              NaN               0.02  \n",
       "1                  10.0              NaN               0.00  \n",
       "2                  10.0              3.5                NaN  \n",
       "3                   9.0              4.6                NaN  \n",
       "4                   6.0              3.5                NaN  \n",
       "...                 ...              ...                ...  \n",
       "7728389            10.0             13.0               0.00  \n",
       "7728390            10.0              6.0               0.00  \n",
       "7728391            10.0             10.0               0.00  \n",
       "7728392            10.0              8.0               0.00  \n",
       "7728393             7.0              7.0               0.00  \n",
       "\n",
       "[7728394 rows x 13 columns]"
      ]
     },
     "execution_count": 91,
     "metadata": {},
     "output_type": "execute_result"
    }
   ],
   "source": [
    "newdf"
   ]
  },
  {
   "cell_type": "code",
   "execution_count": 92,
   "metadata": {},
   "outputs": [
    {
     "data": {
      "text/plain": [
       "End_Lat                  3402762\n",
       "End_Lng                  3402762\n",
       "Precipitation(in)        2203586\n",
       "Wind_Chill(F)            1999019\n",
       "Wind_Speed(mph)           571233\n",
       "Visibility(mi)            177098\n",
       "Wind_Direction            175206\n",
       "Humidity(%)               174144\n",
       "Weather_Condition         173459\n",
       "Temperature(F)            163853\n",
       "Pressure(in)              140679\n",
       "Weather_Timestamp         120228\n",
       "Nautical_Twilight          23246\n",
       "Civil_Twilight             23246\n",
       "Sunrise_Sunset             23246\n",
       "Astronomical_Twilight      23246\n",
       "Airport_Code               22635\n",
       "Street                     10869\n",
       "Timezone                    7808\n",
       "Zipcode                     1915\n",
       "City                         253\n",
       "Description                    5\n",
       "Traffic_Signal                 0\n",
       "Roundabout                     0\n",
       "Station                        0\n",
       "Stop                           0\n",
       "Traffic_Calming                0\n",
       "Country                        0\n",
       "Turning_Loop                   0\n",
       "No_Exit                        0\n",
       "End_Time                       0\n",
       "Start_Time                     0\n",
       "Severity                       0\n",
       "Railway                        0\n",
       "Crossing                       0\n",
       "Junction                       0\n",
       "Give_Way                       0\n",
       "Bump                           0\n",
       "Amenity                        0\n",
       "Start_Lat                      0\n",
       "Start_Lng                      0\n",
       "Distance(mi)                   0\n",
       "Source                         0\n",
       "County                         0\n",
       "State                          0\n",
       "ID                             0\n",
       "dtype: int64"
      ]
     },
     "execution_count": 92,
     "metadata": {},
     "output_type": "execute_result"
    }
   ],
   "source": [
    "df.isna().sum().sort_values(ascending=False)"
   ]
  },
  {
   "cell_type": "code",
   "execution_count": 93,
   "metadata": {},
   "outputs": [],
   "source": [
    "missing_percentages = df.isna().sum().sort_values(ascending=False)/len(df)"
   ]
  },
  {
   "cell_type": "code",
   "execution_count": 94,
   "metadata": {},
   "outputs": [
    {
     "data": {
      "text/plain": [
       "pandas.core.series.Series"
      ]
     },
     "execution_count": 94,
     "metadata": {},
     "output_type": "execute_result"
    }
   ],
   "source": [
    "type(missing_percentages)"
   ]
  },
  {
   "cell_type": "code",
   "execution_count": 95,
   "metadata": {},
   "outputs": [
    {
     "data": {
      "text/plain": [
       "<Axes: >"
      ]
     },
     "execution_count": 95,
     "metadata": {},
     "output_type": "execute_result"
    },
    {
     "data": {
      "image/png": "[encoded data removed]",
      "text/plain": [
       "<Figure size 640x480 with 1 Axes>"
      ]
     },
     "metadata": {},
     "output_type": "display_data"
    }
   ],
   "source": [
    "missing_percentages[missing_percentages!=0].plot(kind='barh')"
   ]
  },
  {
   "cell_type": "markdown",
   "metadata": {},
   "source": [
    "REMOVE COLUMNS THAT YOU DONT WANT TO USE"
   ]
  },
  {
   "cell_type": "markdown",
   "metadata": {},
   "source": [
    "EXPLORATORY DATA ANALYSIS"
   ]
  },
  {
   "cell_type": "markdown",
   "metadata": {
    "slideshow": {
     "slide_type": "subslide"
    }
   },
   "source": [
    "COLUMNS THAT ARE USING\n",
    "1.CITY\n",
    "2.START TIME\n",
    "3.START LAT AND START LONG\n",
    "4.TEMPERATUE\n",
    "5.WEATHER CONDITION"
   ]
  },
  {
   "cell_type": "code",
   "execution_count": 96,
   "metadata": {},
   "outputs": [
    {
     "data": {
      "text/plain": [
       "Index(['ID', 'Source', 'Severity', 'Start_Time', 'End_Time', 'Start_Lat',\n",
       "       'Start_Lng', 'End_Lat', 'End_Lng', 'Distance(mi)', 'Description',\n",
       "       'Street', 'City', 'County', 'State', 'Zipcode', 'Country', 'Timezone',\n",
       "       'Airport_Code', 'Weather_Timestamp', 'Temperature(F)', 'Wind_Chill(F)',\n",
       "       'Humidity(%)', 'Pressure(in)', 'Visibility(mi)', 'Wind_Direction',\n",
       "       'Wind_Speed(mph)', 'Precipitation(in)', 'Weather_Condition', 'Amenity',\n",
       "       'Bump', 'Crossing', 'Give_Way', 'Junction', 'No_Exit', 'Railway',\n",
       "       'Roundabout', 'Station', 'Stop', 'Traffic_Calming', 'Traffic_Signal',\n",
       "       'Turning_Loop', 'Sunrise_Sunset', 'Civil_Twilight', 'Nautical_Twilight',\n",
       "       'Astronomical_Twilight'],\n",
       "      dtype='object')"
      ]
     },
     "execution_count": 96,
     "metadata": {},
     "output_type": "execute_result"
    }
   ],
   "source": [
    "df.columns"
   ]
  },
  {
   "cell_type": "code",
   "execution_count": 97,
   "metadata": {},
   "outputs": [
    {
     "data": {
      "text/plain": [
       "0                Dayton\n",
       "1          Reynoldsburg\n",
       "2          Williamsburg\n",
       "3                Dayton\n",
       "4                Dayton\n",
       "               ...     \n",
       "7728389       Riverside\n",
       "7728390       San Diego\n",
       "7728391          Orange\n",
       "7728392     Culver City\n",
       "7728393        Highland\n",
       "Name: City, Length: 7728394, dtype: object"
      ]
     },
     "execution_count": 97,
     "metadata": {},
     "output_type": "execute_result"
    }
   ],
   "source": [
    "df.City"
   ]
  },
  {
   "cell_type": "code",
   "execution_count": 98,
   "metadata": {},
   "outputs": [
    {
     "data": {
      "text/plain": [
       "13679"
      ]
     },
     "execution_count": 98,
     "metadata": {},
     "output_type": "execute_result"
    }
   ],
   "source": [
    "Cities = df.City.unique()\n",
    "len(Cities)"
   ]
  },
  {
   "cell_type": "code",
   "execution_count": 99,
   "metadata": {},
   "outputs": [
    {
     "data": {
      "text/plain": [
       "City\n",
       "Miami                           186917\n",
       "Houston                         169609\n",
       "Los Angeles                     156491\n",
       "Charlotte                       138652\n",
       "Dallas                          130939\n",
       "                                 ...  \n",
       "Benkelman                            1\n",
       "Old Appleton                         1\n",
       "Wildrose                             1\n",
       "Mc Nabb                              1\n",
       "American Fork-Pleasant Grove         1\n",
       "Name: count, Length: 13678, dtype: int64"
      ]
     },
     "execution_count": 99,
     "metadata": {},
     "output_type": "execute_result"
    }
   ],
   "source": [
    "cities_by_accidents = df.City.value_counts()\n",
    "cities_by_accidents"
   ]
  },
  {
   "cell_type": "code",
   "execution_count": 100,
   "metadata": {},
   "outputs": [
    {
     "data": {
      "text/plain": [
       "City\n",
       "Miami            186917\n",
       "Houston          169609\n",
       "Los Angeles      156491\n",
       "Charlotte        138652\n",
       "Dallas           130939\n",
       "Orlando          109733\n",
       "Austin            97359\n",
       "Raleigh           86079\n",
       "Nashville         72930\n",
       "Baton Rouge       71588\n",
       "Atlanta           68186\n",
       "Sacramento        66264\n",
       "San Diego         55504\n",
       "Phoenix           53974\n",
       "Minneapolis       51488\n",
       "Richmond          48845\n",
       "Oklahoma City     46092\n",
       "Jacksonville      42447\n",
       "Tucson            39304\n",
       "Columbia          38178\n",
       "Name: count, dtype: int64"
      ]
     },
     "execution_count": 100,
     "metadata": {},
     "output_type": "execute_result"
    }
   ],
   "source": [
    "cities_by_accidents[:20]"
   ]
  },
  {
   "cell_type": "code",
   "execution_count": 101,
   "metadata": {},
   "outputs": [
    {
     "data": {
      "text/plain": [
       "False"
      ]
     },
     "execution_count": 101,
     "metadata": {},
     "output_type": "execute_result"
    }
   ],
   "source": [
    "'New York' in df.City"
   ]
  },
  {
   "cell_type": "code",
   "execution_count": 102,
   "metadata": {},
   "outputs": [
    {
     "data": {
      "text/plain": [
       "False"
      ]
     },
     "execution_count": 102,
     "metadata": {},
     "output_type": "execute_result"
    }
   ],
   "source": [
    "'NY' in df.State"
   ]
  },
  {
   "cell_type": "code",
   "execution_count": 103,
   "metadata": {},
   "outputs": [
    {
     "data": {
      "text/plain": [
       "Text(0.5, 1.0, 'Cities vs No of Accidents')"
      ]
     },
     "execution_count": 103,
     "metadata": {},
     "output_type": "execute_result"
    },
    {
     "data": {
      "image/png": "[encoded data removed]",
      "text/plain": [
       "<Figure size 640x480 with 1 Axes>"
      ]
     },
     "metadata": {},
     "output_type": "display_data"
    }
   ],
   "source": [
    "x = cities_by_accidents[:20].plot(kind='barh')\n",
    "x.set_xlabel('no of Accidents')\n",
    "x.set_title('Cities vs No of Accidents')"
   ]
  },
  {
   "cell_type": "code",
   "execution_count": 104,
   "metadata": {},
   "outputs": [],
   "source": [
    "import seaborn as sns\n",
    "sns.set_style('darkgrid')"
   ]
  },
  {
   "cell_type": "code",
   "execution_count": 105,
   "metadata": {},
   "outputs": [
    {
     "name": "stderr",
     "output_type": "stream",
     "text": [
      "C:\\Users\\Asus\\AppData\\Local\\Temp\\ipykernel_19528\\1083794035.py:1: UserWarning: \n",
      "\n",
      "`distplot` is a deprecated function and will be removed in seaborn v0.14.0.\n",
      "\n",
      "Please adapt your code to use either `displot` (a figure-level function with\n",
      "similar flexibility) or `histplot` (an axes-level function for histograms).\n",
      "\n",
      "For a guide to updating your code to use the new functions, please see\n",
      "https://gist.github.com/mwaskom/de44147ed2974457ad6372750bbe5751\n",
      "\n",
      "  sns.distplot(cities_by_accidents)\n"
     ]
    },
    {
     "data": {
      "text/plain": [
       "<Axes: xlabel='count', ylabel='Density'>"
      ]
     },
     "execution_count": 105,
     "metadata": {},
     "output_type": "execute_result"
    },
    {
     "data": {
      "image/png": "[encoded data removed]",
      "text/plain": [
       "<Figure size 640x480 with 1 Axes>"
      ]
     },
     "metadata": {},
     "output_type": "display_data"
    }
   ],
   "source": [
    "sns.distplot(cities_by_accidents)"
   ]
  },
  {
   "cell_type": "code",
   "execution_count": 106,
   "metadata": {},
   "outputs": [],
   "source": [
    "high_accident_cities = cities_by_accidents[cities_by_accidents>=1000]\n",
    "low_accident_cities = cities_by_accidents[cities_by_accidents<1000]"
   ]
  },
  {
   "cell_type": "code",
   "execution_count": 107,
   "metadata": {},
   "outputs": [
    {
     "data": {
      "text/plain": [
       "0.08904159660793917"
      ]
     },
     "execution_count": 107,
     "metadata": {},
     "output_type": "execute_result"
    }
   ],
   "source": [
    "len(high_accident_cities)/len(Cities)"
   ]
  },
  {
   "cell_type": "code",
   "execution_count": 108,
   "metadata": {},
   "outputs": [
    {
     "name": "stderr",
     "output_type": "stream",
     "text": [
      "C:\\Users\\Asus\\AppData\\Local\\Temp\\ipykernel_19528\\2843252471.py:1: UserWarning: \n",
      "\n",
      "`distplot` is a deprecated function and will be removed in seaborn v0.14.0.\n",
      "\n",
      "Please adapt your code to use either `displot` (a figure-level function with\n",
      "similar flexibility) or `histplot` (an axes-level function for histograms).\n",
      "\n",
      "For a guide to updating your code to use the new functions, please see\n",
      "https://gist.github.com/mwaskom/de44147ed2974457ad6372750bbe5751\n",
      "\n",
      "  sns.distplot(high_accident_cities)\n"
     ]
    },
    {
     "data": {
      "text/plain": [
       "<Axes: xlabel='count', ylabel='Density'>"
      ]
     },
     "execution_count": 108,
     "metadata": {},
     "output_type": "execute_result"
    },
    {
     "data": {
      "image/png": "[encoded data removed]",
      "text/plain": [
       "<Figure size 640x480 with 1 Axes>"
      ]
     },
     "metadata": {},
     "output_type": "display_data"
    }
   ],
   "source": [
    "sns.distplot(high_accident_cities)"
   ]
  },
  {
   "cell_type": "code",
   "execution_count": 109,
   "metadata": {},
   "outputs": [
    {
     "name": "stderr",
     "output_type": "stream",
     "text": [
      "C:\\Users\\Asus\\AppData\\Local\\Temp\\ipykernel_19528\\469555131.py:1: UserWarning: \n",
      "\n",
      "`distplot` is a deprecated function and will be removed in seaborn v0.14.0.\n",
      "\n",
      "Please adapt your code to use either `displot` (a figure-level function with\n",
      "similar flexibility) or `histplot` (an axes-level function for histograms).\n",
      "\n",
      "For a guide to updating your code to use the new functions, please see\n",
      "https://gist.github.com/mwaskom/de44147ed2974457ad6372750bbe5751\n",
      "\n",
      "  sns.distplot(low_accident_cities)\n"
     ]
    },
    {
     "data": {
      "text/plain": [
       "<Axes: xlabel='count', ylabel='Density'>"
      ]
     },
     "execution_count": 109,
     "metadata": {},
     "output_type": "execute_result"
    },
    {
     "data": {
      "image/png": "[encoded data removed]",
      "text/plain": [
       "<Figure size 640x480 with 1 Axes>"
      ]
     },
     "metadata": {},
     "output_type": "display_data"
    }
   ],
   "source": [
    "sns.distplot(low_accident_cities)"
   ]
  },
  {
   "cell_type": "markdown",
   "metadata": {},
   "source": [
    "Insights\n",
    "- NO data for New York\n",
    "- the number of accidents per city decreases exponentially\n",
    "- Less than 8% of cities have more than 1000 yearly accidents\n",
    "- Over 1000 cities have reported 1 accident only(need to investigate)"
   ]
  },
  {
   "cell_type": "code",
   "execution_count": 110,
   "metadata": {},
   "outputs": [
    {
     "data": {
      "text/plain": [
       "<Axes: xlabel='count', ylabel='Count'>"
      ]
     },
     "execution_count": 110,
     "metadata": {},
     "output_type": "execute_result"
    },
    {
     "data": {
      "image/png": "[encoded data removed]",
      "text/plain": [
       "<Figure size 640x480 with 1 Axes>"
      ]
     },
     "metadata": {},
     "output_type": "display_data"
    }
   ],
   "source": [
    "sns.histplot(cities_by_accidents,log_scale=True)"
   ]
  },
  {
   "cell_type": "code",
   "execution_count": 111,
   "metadata": {},
   "outputs": [
    {
     "data": {
      "text/plain": [
       "City\n",
       "Lake Andes                      1\n",
       "Catoctin                        1\n",
       "Duck Hill                       1\n",
       "Westbrookville                  1\n",
       "Saint Croix                     1\n",
       "                               ..\n",
       "Benkelman                       1\n",
       "Old Appleton                    1\n",
       "Wildrose                        1\n",
       "Mc Nabb                         1\n",
       "American Fork-Pleasant Grove    1\n",
       "Name: count, Length: 1023, dtype: int64"
      ]
     },
     "execution_count": 111,
     "metadata": {},
     "output_type": "execute_result"
    }
   ],
   "source": [
    "cities_by_accidents[cities_by_accidents == 1]"
   ]
  },
  {
   "cell_type": "markdown",
   "metadata": {},
   "source": [
    "START TIME"
   ]
  },
  {
   "cell_type": "code",
   "execution_count": 112,
   "metadata": {},
   "outputs": [
    {
     "data": {
      "text/plain": [
       "Index(['ID', 'Source', 'Severity', 'Start_Time', 'End_Time', 'Start_Lat',\n",
       "       'Start_Lng', 'End_Lat', 'End_Lng', 'Distance(mi)', 'Description',\n",
       "       'Street', 'City', 'County', 'State', 'Zipcode', 'Country', 'Timezone',\n",
       "       'Airport_Code', 'Weather_Timestamp', 'Temperature(F)', 'Wind_Chill(F)',\n",
       "       'Humidity(%)', 'Pressure(in)', 'Visibility(mi)', 'Wind_Direction',\n",
       "       'Wind_Speed(mph)', 'Precipitation(in)', 'Weather_Condition', 'Amenity',\n",
       "       'Bump', 'Crossing', 'Give_Way', 'Junction', 'No_Exit', 'Railway',\n",
       "       'Roundabout', 'Station', 'Stop', 'Traffic_Calming', 'Traffic_Signal',\n",
       "       'Turning_Loop', 'Sunrise_Sunset', 'Civil_Twilight', 'Nautical_Twilight',\n",
       "       'Astronomical_Twilight'],\n",
       "      dtype='object')"
      ]
     },
     "execution_count": 112,
     "metadata": {},
     "output_type": "execute_result"
    }
   ],
   "source": [
    "df.columns"
   ]
  },
  {
   "cell_type": "code",
   "execution_count": 113,
   "metadata": {},
   "outputs": [
    {
     "data": {
      "text/plain": [
       "0          2016-02-08 05:46:00\n",
       "1          2016-02-08 06:07:59\n",
       "2          2016-02-08 06:49:27\n",
       "3          2016-02-08 07:23:34\n",
       "4          2016-02-08 07:39:07\n",
       "                  ...         \n",
       "7728389    2019-08-23 18:03:25\n",
       "7728390    2019-08-23 19:11:30\n",
       "7728391    2019-08-23 19:00:21\n",
       "7728392    2019-08-23 19:00:21\n",
       "7728393    2019-08-23 18:52:06\n",
       "Name: Start_Time, Length: 7728394, dtype: object"
      ]
     },
     "execution_count": 113,
     "metadata": {},
     "output_type": "execute_result"
    }
   ],
   "source": [
    "df.Start_Time"
   ]
  },
  {
   "cell_type": "code",
   "execution_count": 114,
   "metadata": {},
   "outputs": [],
   "source": [
    "df['Start_Time'] = pd.to_datetime(df['Start_Time'],errors='coerce')\n"
   ]
  },
  {
   "cell_type": "code",
   "execution_count": 115,
   "metadata": {},
   "outputs": [
    {
     "data": {
      "text/plain": [
       "0         2016-02-08 05:46:00\n",
       "1         2016-02-08 06:07:59\n",
       "2         2016-02-08 06:49:27\n",
       "3         2016-02-08 07:23:34\n",
       "4         2016-02-08 07:39:07\n",
       "                  ...        \n",
       "7728389   2019-08-23 18:03:25\n",
       "7728390   2019-08-23 19:11:30\n",
       "7728391   2019-08-23 19:00:21\n",
       "7728392   2019-08-23 19:00:21\n",
       "7728393   2019-08-23 18:52:06\n",
       "Name: Start_Time, Length: 7728394, dtype: datetime64[ns]"
      ]
     },
     "execution_count": 115,
     "metadata": {},
     "output_type": "execute_result"
    }
   ],
   "source": [
    "df.Start_Time"
   ]
  },
  {
   "cell_type": "code",
   "execution_count": 116,
   "metadata": {},
   "outputs": [
    {
     "data": {
      "text/plain": [
       "Timestamp('2016-02-08 05:46:00')"
      ]
     },
     "execution_count": 116,
     "metadata": {},
     "output_type": "execute_result"
    }
   ],
   "source": [
    "df.Start_Time[0]"
   ]
  },
  {
   "cell_type": "code",
   "execution_count": 117,
   "metadata": {},
   "outputs": [
    {
     "ename": "IntCastingNaNError",
     "evalue": "Cannot convert non-finite values (NA or inf) to integer",
     "output_type": "error",
     "traceback": [
      "\u001b[1;31m---------------------------------------------------------------------------\u001b[0m",
      "\u001b[1;31mIntCastingNaNError\u001b[0m                        Traceback (most recent call last)",
      "Cell \u001b[1;32mIn[117], line 1\u001b[0m\n\u001b[1;32m----> 1\u001b[0m df\u001b[38;5;241m.\u001b[39mStart_Time\u001b[38;5;241m.\u001b[39mdt\u001b[38;5;241m.\u001b[39mhour\u001b[38;5;241m.\u001b[39mastype(\u001b[38;5;124m'\u001b[39m\u001b[38;5;124mint\u001b[39m\u001b[38;5;124m'\u001b[39m)\n",
      "File \u001b[1;32mc:\\Users\\Asus\\anaconda3\\Lib\\site-packages\\pandas\\core\\generic.py:6324\u001b[0m, in \u001b[0;36mNDFrame.astype\u001b[1;34m(self, dtype, copy, errors)\u001b[0m\n\u001b[0;32m   6317\u001b[0m     results \u001b[38;5;241m=\u001b[39m [\n\u001b[0;32m   6318\u001b[0m         \u001b[38;5;28mself\u001b[39m\u001b[38;5;241m.\u001b[39miloc[:, i]\u001b[38;5;241m.\u001b[39mastype(dtype, copy\u001b[38;5;241m=\u001b[39mcopy)\n\u001b[0;32m   6319\u001b[0m         \u001b[38;5;28;01mfor\u001b[39;00m i \u001b[38;5;129;01min\u001b[39;00m \u001b[38;5;28mrange\u001b[39m(\u001b[38;5;28mlen\u001b[39m(\u001b[38;5;28mself\u001b[39m\u001b[38;5;241m.\u001b[39mcolumns))\n\u001b[0;32m   6320\u001b[0m     ]\n\u001b[0;32m   6322\u001b[0m \u001b[38;5;28;01melse\u001b[39;00m:\n\u001b[0;32m   6323\u001b[0m     \u001b[38;5;66;03m# else, only a single dtype is given\u001b[39;00m\n\u001b[1;32m-> 6324\u001b[0m     new_data \u001b[38;5;241m=\u001b[39m \u001b[38;5;28mself\u001b[39m\u001b[38;5;241m.\u001b[39m_mgr\u001b[38;5;241m.\u001b[39mastype(dtype\u001b[38;5;241m=\u001b[39mdtype, copy\u001b[38;5;241m=\u001b[39mcopy, errors\u001b[38;5;241m=\u001b[39merrors)\n\u001b[0;32m   6325\u001b[0m     \u001b[38;5;28;01mreturn\u001b[39;00m \u001b[38;5;28mself\u001b[39m\u001b[38;5;241m.\u001b[39m_constructor(new_data)\u001b[38;5;241m.\u001b[39m__finalize__(\u001b[38;5;28mself\u001b[39m, method\u001b[38;5;241m=\u001b[39m\u001b[38;5;124m\"\u001b[39m\u001b[38;5;124mastype\u001b[39m\u001b[38;5;124m\"\u001b[39m)\n\u001b[0;32m   6327\u001b[0m \u001b[38;5;66;03m# GH 33113: handle empty frame or series\u001b[39;00m\n",
      "File \u001b[1;32mc:\\Users\\Asus\\anaconda3\\Lib\\site-packages\\pandas\\core\\internals\\managers.py:451\u001b[0m, in \u001b[0;36mBaseBlockManager.astype\u001b[1;34m(self, dtype, copy, errors)\u001b[0m\n\u001b[0;32m    448\u001b[0m \u001b[38;5;28;01melif\u001b[39;00m using_copy_on_write():\n\u001b[0;32m    449\u001b[0m     copy \u001b[38;5;241m=\u001b[39m \u001b[38;5;28;01mFalse\u001b[39;00m\n\u001b[1;32m--> 451\u001b[0m \u001b[38;5;28;01mreturn\u001b[39;00m \u001b[38;5;28mself\u001b[39m\u001b[38;5;241m.\u001b[39mapply(\n\u001b[0;32m    452\u001b[0m     \u001b[38;5;124m\"\u001b[39m\u001b[38;5;124mastype\u001b[39m\u001b[38;5;124m\"\u001b[39m,\n\u001b[0;32m    453\u001b[0m     dtype\u001b[38;5;241m=\u001b[39mdtype,\n\u001b[0;32m    454\u001b[0m     copy\u001b[38;5;241m=\u001b[39mcopy,\n\u001b[0;32m    455\u001b[0m     errors\u001b[38;5;241m=\u001b[39merrors,\n\u001b[0;32m    456\u001b[0m     using_cow\u001b[38;5;241m=\u001b[39musing_copy_on_write(),\n\u001b[0;32m    457\u001b[0m )\n",
      "File \u001b[1;32mc:\\Users\\Asus\\anaconda3\\Lib\\site-packages\\pandas\\core\\internals\\managers.py:352\u001b[0m, in \u001b[0;36mBaseBlockManager.apply\u001b[1;34m(self, f, align_keys, **kwargs)\u001b[0m\n\u001b[0;32m    350\u001b[0m         applied \u001b[38;5;241m=\u001b[39m b\u001b[38;5;241m.\u001b[39mapply(f, \u001b[38;5;241m*\u001b[39m\u001b[38;5;241m*\u001b[39mkwargs)\n\u001b[0;32m    351\u001b[0m     \u001b[38;5;28;01melse\u001b[39;00m:\n\u001b[1;32m--> 352\u001b[0m         applied \u001b[38;5;241m=\u001b[39m \u001b[38;5;28mgetattr\u001b[39m(b, f)(\u001b[38;5;241m*\u001b[39m\u001b[38;5;241m*\u001b[39mkwargs)\n\u001b[0;32m    353\u001b[0m     result_blocks \u001b[38;5;241m=\u001b[39m extend_blocks(applied, result_blocks)\n\u001b[0;32m    355\u001b[0m out \u001b[38;5;241m=\u001b[39m \u001b[38;5;28mtype\u001b[39m(\u001b[38;5;28mself\u001b[39m)\u001b[38;5;241m.\u001b[39mfrom_blocks(result_blocks, \u001b[38;5;28mself\u001b[39m\u001b[38;5;241m.\u001b[39maxes)\n",
      "File \u001b[1;32mc:\\Users\\Asus\\anaconda3\\Lib\\site-packages\\pandas\\core\\internals\\blocks.py:511\u001b[0m, in \u001b[0;36mBlock.astype\u001b[1;34m(self, dtype, copy, errors, using_cow)\u001b[0m\n\u001b[0;32m    491\u001b[0m \u001b[38;5;250m\u001b[39m\u001b[38;5;124;03m\"\"\"\u001b[39;00m\n\u001b[0;32m    492\u001b[0m \u001b[38;5;124;03mCoerce to the new dtype.\u001b[39;00m\n\u001b[0;32m    493\u001b[0m \n\u001b[1;32m   (...)\u001b[0m\n\u001b[0;32m    507\u001b[0m \u001b[38;5;124;03mBlock\u001b[39;00m\n\u001b[0;32m    508\u001b[0m \u001b[38;5;124;03m\"\"\"\u001b[39;00m\n\u001b[0;32m    509\u001b[0m values \u001b[38;5;241m=\u001b[39m \u001b[38;5;28mself\u001b[39m\u001b[38;5;241m.\u001b[39mvalues\n\u001b[1;32m--> 511\u001b[0m new_values \u001b[38;5;241m=\u001b[39m astype_array_safe(values, dtype, copy\u001b[38;5;241m=\u001b[39mcopy, errors\u001b[38;5;241m=\u001b[39merrors)\n\u001b[0;32m    513\u001b[0m new_values \u001b[38;5;241m=\u001b[39m maybe_coerce_values(new_values)\n\u001b[0;32m    515\u001b[0m refs \u001b[38;5;241m=\u001b[39m \u001b[38;5;28;01mNone\u001b[39;00m\n",
      "File \u001b[1;32mc:\\Users\\Asus\\anaconda3\\Lib\\site-packages\\pandas\\core\\dtypes\\astype.py:242\u001b[0m, in \u001b[0;36mastype_array_safe\u001b[1;34m(values, dtype, copy, errors)\u001b[0m\n\u001b[0;32m    239\u001b[0m     dtype \u001b[38;5;241m=\u001b[39m dtype\u001b[38;5;241m.\u001b[39mnumpy_dtype\n\u001b[0;32m    241\u001b[0m \u001b[38;5;28;01mtry\u001b[39;00m:\n\u001b[1;32m--> 242\u001b[0m     new_values \u001b[38;5;241m=\u001b[39m astype_array(values, dtype, copy\u001b[38;5;241m=\u001b[39mcopy)\n\u001b[0;32m    243\u001b[0m \u001b[38;5;28;01mexcept\u001b[39;00m (\u001b[38;5;167;01mValueError\u001b[39;00m, \u001b[38;5;167;01mTypeError\u001b[39;00m):\n\u001b[0;32m    244\u001b[0m     \u001b[38;5;66;03m# e.g. _astype_nansafe can fail on object-dtype of strings\u001b[39;00m\n\u001b[0;32m    245\u001b[0m     \u001b[38;5;66;03m#  trying to convert to float\u001b[39;00m\n\u001b[0;32m    246\u001b[0m     \u001b[38;5;28;01mif\u001b[39;00m errors \u001b[38;5;241m==\u001b[39m \u001b[38;5;124m\"\u001b[39m\u001b[38;5;124mignore\u001b[39m\u001b[38;5;124m\"\u001b[39m:\n",
      "File \u001b[1;32mc:\\Users\\Asus\\anaconda3\\Lib\\site-packages\\pandas\\core\\dtypes\\astype.py:187\u001b[0m, in \u001b[0;36mastype_array\u001b[1;34m(values, dtype, copy)\u001b[0m\n\u001b[0;32m    184\u001b[0m     values \u001b[38;5;241m=\u001b[39m values\u001b[38;5;241m.\u001b[39mastype(dtype, copy\u001b[38;5;241m=\u001b[39mcopy)\n\u001b[0;32m    186\u001b[0m \u001b[38;5;28;01melse\u001b[39;00m:\n\u001b[1;32m--> 187\u001b[0m     values \u001b[38;5;241m=\u001b[39m _astype_nansafe(values, dtype, copy\u001b[38;5;241m=\u001b[39mcopy)\n\u001b[0;32m    189\u001b[0m \u001b[38;5;66;03m# in pandas we don't store numpy str dtypes, so convert to object\u001b[39;00m\n\u001b[0;32m    190\u001b[0m \u001b[38;5;28;01mif\u001b[39;00m \u001b[38;5;28misinstance\u001b[39m(dtype, np\u001b[38;5;241m.\u001b[39mdtype) \u001b[38;5;129;01mand\u001b[39;00m \u001b[38;5;28missubclass\u001b[39m(values\u001b[38;5;241m.\u001b[39mdtype\u001b[38;5;241m.\u001b[39mtype, \u001b[38;5;28mstr\u001b[39m):\n",
      "File \u001b[1;32mc:\\Users\\Asus\\anaconda3\\Lib\\site-packages\\pandas\\core\\dtypes\\astype.py:105\u001b[0m, in \u001b[0;36m_astype_nansafe\u001b[1;34m(arr, dtype, copy, skipna)\u001b[0m\n\u001b[0;32m    100\u001b[0m     \u001b[38;5;28;01mreturn\u001b[39;00m lib\u001b[38;5;241m.\u001b[39mensure_string_array(\n\u001b[0;32m    101\u001b[0m         arr, skipna\u001b[38;5;241m=\u001b[39mskipna, convert_na_value\u001b[38;5;241m=\u001b[39m\u001b[38;5;28;01mFalse\u001b[39;00m\n\u001b[0;32m    102\u001b[0m     )\u001b[38;5;241m.\u001b[39mreshape(shape)\n\u001b[0;32m    104\u001b[0m \u001b[38;5;28;01melif\u001b[39;00m np\u001b[38;5;241m.\u001b[39missubdtype(arr\u001b[38;5;241m.\u001b[39mdtype, np\u001b[38;5;241m.\u001b[39mfloating) \u001b[38;5;129;01mand\u001b[39;00m is_integer_dtype(dtype):\n\u001b[1;32m--> 105\u001b[0m     \u001b[38;5;28;01mreturn\u001b[39;00m _astype_float_to_int_nansafe(arr, dtype, copy)\n\u001b[0;32m    107\u001b[0m \u001b[38;5;28;01melif\u001b[39;00m is_object_dtype(arr\u001b[38;5;241m.\u001b[39mdtype):\n\u001b[0;32m    108\u001b[0m     \u001b[38;5;66;03m# if we have a datetime/timedelta array of objects\u001b[39;00m\n\u001b[0;32m    109\u001b[0m     \u001b[38;5;66;03m# then coerce to datetime64[ns] and use DatetimeArray.astype\u001b[39;00m\n\u001b[0;32m    111\u001b[0m     \u001b[38;5;28;01mif\u001b[39;00m is_datetime64_dtype(dtype):\n",
      "File \u001b[1;32mc:\\Users\\Asus\\anaconda3\\Lib\\site-packages\\pandas\\core\\dtypes\\astype.py:150\u001b[0m, in \u001b[0;36m_astype_float_to_int_nansafe\u001b[1;34m(values, dtype, copy)\u001b[0m\n\u001b[0;32m    146\u001b[0m \u001b[38;5;250m\u001b[39m\u001b[38;5;124;03m\"\"\"\u001b[39;00m\n\u001b[0;32m    147\u001b[0m \u001b[38;5;124;03mastype with a check preventing converting NaN to an meaningless integer value.\u001b[39;00m\n\u001b[0;32m    148\u001b[0m \u001b[38;5;124;03m\"\"\"\u001b[39;00m\n\u001b[0;32m    149\u001b[0m \u001b[38;5;28;01mif\u001b[39;00m \u001b[38;5;129;01mnot\u001b[39;00m np\u001b[38;5;241m.\u001b[39misfinite(values)\u001b[38;5;241m.\u001b[39mall():\n\u001b[1;32m--> 150\u001b[0m     \u001b[38;5;28;01mraise\u001b[39;00m IntCastingNaNError(\n\u001b[0;32m    151\u001b[0m         \u001b[38;5;124m\"\u001b[39m\u001b[38;5;124mCannot convert non-finite values (NA or inf) to integer\u001b[39m\u001b[38;5;124m\"\u001b[39m\n\u001b[0;32m    152\u001b[0m     )\n\u001b[0;32m    153\u001b[0m \u001b[38;5;28;01mif\u001b[39;00m dtype\u001b[38;5;241m.\u001b[39mkind \u001b[38;5;241m==\u001b[39m \u001b[38;5;124m\"\u001b[39m\u001b[38;5;124mu\u001b[39m\u001b[38;5;124m\"\u001b[39m:\n\u001b[0;32m    154\u001b[0m     \u001b[38;5;66;03m# GH#45151\u001b[39;00m\n\u001b[0;32m    155\u001b[0m     \u001b[38;5;28;01mif\u001b[39;00m \u001b[38;5;129;01mnot\u001b[39;00m (values \u001b[38;5;241m>\u001b[39m\u001b[38;5;241m=\u001b[39m \u001b[38;5;241m0\u001b[39m)\u001b[38;5;241m.\u001b[39mall():\n",
      "\u001b[1;31mIntCastingNaNError\u001b[0m: Cannot convert non-finite values (NA or inf) to integer"
     ]
    }
   ],
   "source": [
    "df.Start_Time.dt.hour.astype('int')"
   ]
  },
  {
   "cell_type": "code",
   "execution_count": 118,
   "metadata": {},
   "outputs": [
    {
     "data": {
      "text/plain": [
       "<Axes: xlabel='Start_Time', ylabel='Count'>"
      ]
     },
     "execution_count": 118,
     "metadata": {},
     "output_type": "execute_result"
    },
    {
     "data": {
      "image/png": "[encoded data removed]",
      "text/plain": [
       "<Figure size 640x480 with 1 Axes>"
      ]
     },
     "metadata": {},
     "output_type": "display_data"
    }
   ],
   "source": [
    "sns.histplot(df.Start_Time.dt.hour,bins=24)"
   ]
  },
  {
   "cell_type": "code",
   "execution_count": 119,
   "metadata": {},
   "outputs": [
    {
     "name": "stderr",
     "output_type": "stream",
     "text": [
      "C:\\Users\\Asus\\AppData\\Local\\Temp\\ipykernel_19528\\3767267363.py:1: UserWarning: \n",
      "\n",
      "`distplot` is a deprecated function and will be removed in seaborn v0.14.0.\n",
      "\n",
      "Please adapt your code to use either `displot` (a figure-level function with\n",
      "similar flexibility) or `histplot` (an axes-level function for histograms).\n",
      "\n",
      "For a guide to updating your code to use the new functions, please see\n",
      "https://gist.github.com/mwaskom/de44147ed2974457ad6372750bbe5751\n",
      "\n",
      "  sns.distplot(df.Start_Time.dt.hour,bins=24,norm_hist=True,kde=False)\n"
     ]
    },
    {
     "data": {
      "text/plain": [
       "<Axes: xlabel='Start_Time'>"
      ]
     },
     "execution_count": 119,
     "metadata": {},
     "output_type": "execute_result"
    },
    {
     "data": {
      "image/png": "[encoded data removed]",
      "text/plain": [
       "<Figure size 640x480 with 1 Axes>"
      ]
     },
     "metadata": {},
     "output_type": "display_data"
    }
   ],
   "source": [
    "sns.distplot(df.Start_Time.dt.hour,bins=24,norm_hist=True,kde=False)"
   ]
  },
  {
   "cell_type": "code",
   "execution_count": 120,
   "metadata": {},
   "outputs": [
    {
     "name": "stderr",
     "output_type": "stream",
     "text": [
      "C:\\Users\\Asus\\AppData\\Local\\Temp\\ipykernel_19528\\3140682705.py:1: UserWarning: \n",
      "\n",
      "`distplot` is a deprecated function and will be removed in seaborn v0.14.0.\n",
      "\n",
      "Please adapt your code to use either `displot` (a figure-level function with\n",
      "similar flexibility) or `histplot` (an axes-level function for histograms).\n",
      "\n",
      "For a guide to updating your code to use the new functions, please see\n",
      "https://gist.github.com/mwaskom/de44147ed2974457ad6372750bbe5751\n",
      "\n",
      "  sns.distplot(df.Start_Time.dt.day_of_week,bins=7,norm_hist=True,kde=False)\n"
     ]
    },
    {
     "data": {
      "text/plain": [
       "<Axes: xlabel='Start_Time'>"
      ]
     },
     "execution_count": 120,
     "metadata": {},
     "output_type": "execute_result"
    },
    {
     "data": {
      "image/png": "[encoded data removed]",
      "text/plain": [
       "<Figure size 640x480 with 1 Axes>"
      ]
     },
     "metadata": {},
     "output_type": "display_data"
    }
   ],
   "source": [
    "sns.distplot(df.Start_Time.dt.day_of_week,bins=7,norm_hist=True,kde=False)"
   ]
  },
  {
   "cell_type": "markdown",
   "metadata": {},
   "source": [
    "10. Is the distribution of accident by hours are the same on weekends as on weekdays"
   ]
  },
  {
   "cell_type": "code",
   "execution_count": 121,
   "metadata": {},
   "outputs": [],
   "source": [
    "sunday_start_time = df.Start_Time[df.Start_Time.dt.dayofweek==6]"
   ]
  },
  {
   "cell_type": "code",
   "execution_count": 122,
   "metadata": {},
   "outputs": [
    {
     "data": {
      "text/plain": [
       "<Axes: xlabel='Start_Time', ylabel='Count'>"
      ]
     },
     "execution_count": 122,
     "metadata": {},
     "output_type": "execute_result"
    },
    {
     "data": {
      "image/png": "[encoded data removed]",
      "text/plain": [
       "<Figure size 640x480 with 1 Axes>"
      ]
     },
     "metadata": {},
     "output_type": "display_data"
    }
   ],
   "source": [
    "sns.histplot(sunday_start_time.dt.hour, bins=24,kde=False)"
   ]
  },
  {
   "cell_type": "code",
   "execution_count": 123,
   "metadata": {},
   "outputs": [
    {
     "data": {
      "text/plain": [
       "<Axes: xlabel='Start_Time', ylabel='Count'>"
      ]
     },
     "execution_count": 123,
     "metadata": {},
     "output_type": "execute_result"
    },
    {
     "data": {
      "image/png": "[encoded data removed]",
      "text/plain": [
       "<Figure size 640x480 with 1 Axes>"
      ]
     },
     "metadata": {},
     "output_type": "display_data"
    }
   ],
   "source": [
    "monday_start_time = df.Start_Time[df.Start_Time.dt.dayofweek==0]\n",
    "sns.histplot(monday_start_time.dt.hour, bins=24,kde=False)"
   ]
  },
  {
   "cell_type": "code",
   "execution_count": 124,
   "metadata": {},
   "outputs": [
    {
     "data": {
      "text/plain": [
       "<Axes: xlabel='Start_Time', ylabel='Count'>"
      ]
     },
     "execution_count": 124,
     "metadata": {},
     "output_type": "execute_result"
    },
    {
     "data": {
      "image/png": "[encoded data removed]",
      "text/plain": [
       "<Figure size 640x480 with 1 Axes>"
      ]
     },
     "metadata": {},
     "output_type": "display_data"
    }
   ],
   "source": [
    "sns.histplot(monday_start_time.dt.month, bins=12,kde=False)"
   ]
  },
  {
   "cell_type": "markdown",
   "metadata": {},
   "source": [
    "monthly wise trends"
   ]
  },
  {
   "cell_type": "code",
   "execution_count": 125,
   "metadata": {},
   "outputs": [
    {
     "data": {
      "text/plain": [
       "<Axes: xlabel='Start_Time', ylabel='Count'>"
      ]
     },
     "execution_count": 125,
     "metadata": {},
     "output_type": "execute_result"
    },
    {
     "data": {
      "image/png": "[encoded data removed]",
      "text/plain": [
       "<Figure size 640x480 with 1 Axes>"
      ]
     },
     "metadata": {},
     "output_type": "display_data"
    }
   ],
   "source": [
    "sns.histplot(df.Start_Time.dt.month, bins=12,kde=False)"
   ]
  },
  {
   "cell_type": "code",
   "execution_count": 126,
   "metadata": {},
   "outputs": [
    {
     "data": {
      "text/plain": [
       "0          2016.0\n",
       "1          2016.0\n",
       "2          2016.0\n",
       "3          2016.0\n",
       "4          2016.0\n",
       "            ...  \n",
       "7728389    2019.0\n",
       "7728390    2019.0\n",
       "7728391    2019.0\n",
       "7728392    2019.0\n",
       "7728393    2019.0\n",
       "Name: Start_Time, Length: 7728394, dtype: float64"
      ]
     },
     "execution_count": 126,
     "metadata": {},
     "output_type": "execute_result"
    }
   ],
   "source": [
    "df.Start_Time.dt.year"
   ]
  },
  {
   "cell_type": "code",
   "execution_count": 127,
   "metadata": {},
   "outputs": [
    {
     "data": {
      "text/plain": [
       "<Axes: xlabel='Start_Time', ylabel='Count'>"
      ]
     },
     "execution_count": 127,
     "metadata": {},
     "output_type": "execute_result"
    },
    {
     "data": {
      "image/png": "[encoded data removed]",
      "text/plain": [
       "<Figure size 640x480 with 1 Axes>"
      ]
     },
     "metadata": {},
     "output_type": "display_data"
    }
   ],
   "source": [
    "df_2019 = df[df.Start_Time.dt.year == 2019]\n",
    "sns.histplot(df_2019.Start_Time.dt.month, bins=12,kde=False)"
   ]
  },
  {
   "cell_type": "markdown",
   "metadata": {},
   "source": [
    "data missing in years of data"
   ]
  },
  {
   "cell_type": "code",
   "execution_count": 128,
   "metadata": {},
   "outputs": [
    {
     "data": {
      "text/plain": [
       "array(['Source2', 'Source3', 'Source1'], dtype=object)"
      ]
     },
     "execution_count": 128,
     "metadata": {},
     "output_type": "execute_result"
    }
   ],
   "source": [
    "df.Source.unique()"
   ]
  },
  {
   "cell_type": "code",
   "execution_count": 129,
   "metadata": {},
   "outputs": [
    {
     "data": {
      "text/plain": [
       "<Axes: ylabel='count'>"
      ]
     },
     "execution_count": 129,
     "metadata": {},
     "output_type": "execute_result"
    },
    {
     "data": {
      "image/png": "[encoded data removed]",
      "text/plain": [
       "<Figure size 640x480 with 1 Axes>"
      ]
     },
     "metadata": {},
     "output_type": "display_data"
    }
   ],
   "source": [
    "df.Source.value_counts().plot(kind='pie')"
   ]
  },
  {
   "cell_type": "markdown",
   "metadata": {},
   "source": [
    "consider excluding source 3 data,seems to have issues"
   ]
  },
  {
   "cell_type": "code",
   "execution_count": 130,
   "metadata": {},
   "outputs": [],
   "source": [
    "### Start Latitude & Longitude\n"
   ]
  },
  {
   "cell_type": "code",
   "execution_count": 131,
   "metadata": {},
   "outputs": [
    {
     "data": {
      "text/plain": [
       "Index(['ID', 'Source', 'Severity', 'Start_Time', 'End_Time', 'Start_Lat',\n",
       "       'Start_Lng', 'End_Lat', 'End_Lng', 'Distance(mi)', 'Description',\n",
       "       'Street', 'City', 'County', 'State', 'Zipcode', 'Country', 'Timezone',\n",
       "       'Airport_Code', 'Weather_Timestamp', 'Temperature(F)', 'Wind_Chill(F)',\n",
       "       'Humidity(%)', 'Pressure(in)', 'Visibility(mi)', 'Wind_Direction',\n",
       "       'Wind_Speed(mph)', 'Precipitation(in)', 'Weather_Condition', 'Amenity',\n",
       "       'Bump', 'Crossing', 'Give_Way', 'Junction', 'No_Exit', 'Railway',\n",
       "       'Roundabout', 'Station', 'Stop', 'Traffic_Calming', 'Traffic_Signal',\n",
       "       'Turning_Loop', 'Sunrise_Sunset', 'Civil_Twilight', 'Nautical_Twilight',\n",
       "       'Astronomical_Twilight'],\n",
       "      dtype='object')"
      ]
     },
     "execution_count": 131,
     "metadata": {},
     "output_type": "execute_result"
    }
   ],
   "source": [
    "df.columns"
   ]
  },
  {
   "cell_type": "code",
   "execution_count": 132,
   "metadata": {},
   "outputs": [
    {
     "data": {
      "text/plain": [
       "0          39.865147\n",
       "1          39.928059\n",
       "2          39.063148\n",
       "3          39.747753\n",
       "4          39.627781\n",
       "             ...    \n",
       "7728389    34.002480\n",
       "7728390    32.766960\n",
       "7728391    33.775450\n",
       "7728392    33.992460\n",
       "7728393    34.133930\n",
       "Name: Start_Lat, Length: 7728394, dtype: float64"
      ]
     },
     "execution_count": 132,
     "metadata": {},
     "output_type": "execute_result"
    }
   ],
   "source": [
    "df.Start_Lat"
   ]
  },
  {
   "cell_type": "code",
   "execution_count": 133,
   "metadata": {},
   "outputs": [
    {
     "data": {
      "text/plain": [
       "0          -84.058723\n",
       "1          -82.831184\n",
       "2          -84.032608\n",
       "3          -84.205582\n",
       "4          -84.188354\n",
       "              ...    \n",
       "7728389   -117.379360\n",
       "7728390   -117.148060\n",
       "7728391   -117.847790\n",
       "7728392   -118.403020\n",
       "7728393   -117.230920\n",
       "Name: Start_Lng, Length: 7728394, dtype: float64"
      ]
     },
     "execution_count": 133,
     "metadata": {},
     "output_type": "execute_result"
    }
   ],
   "source": [
    "df.Start_Lng"
   ]
  },
  {
   "cell_type": "code",
   "execution_count": null,
   "metadata": {},
   "outputs": [],
   "source": []
  },
  {
   "cell_type": "code",
   "execution_count": 134,
   "metadata": {},
   "outputs": [
    {
     "data": {
      "text/plain": [
       "<Axes: xlabel='Start_Lng', ylabel='Start_Lat'>"
      ]
     },
     "execution_count": 134,
     "metadata": {},
     "output_type": "execute_result"
    },
    {
     "name": "stdout",
     "output_type": "stream",
     "text": [
      "Error in callback <function flush_figures at 0x000002C6E10EB560> (for post_execute):\n"
     ]
    },
    {
     "ename": "KeyboardInterrupt",
     "evalue": "",
     "output_type": "error",
     "traceback": [
      "\u001b[1;31m---------------------------------------------------------------------------\u001b[0m",
      "\u001b[1;31mKeyboardInterrupt\u001b[0m                         Traceback (most recent call last)",
      "File \u001b[1;32mc:\\Users\\Asus\\anaconda3\\Lib\\site-packages\\matplotlib_inline\\backend_inline.py:126\u001b[0m, in \u001b[0;36mflush_figures\u001b[1;34m()\u001b[0m\n\u001b[0;32m    123\u001b[0m \u001b[38;5;28;01mif\u001b[39;00m InlineBackend\u001b[38;5;241m.\u001b[39minstance()\u001b[38;5;241m.\u001b[39mclose_figures:\n\u001b[0;32m    124\u001b[0m     \u001b[38;5;66;03m# ignore the tracking, just draw and close all figures\u001b[39;00m\n\u001b[0;32m    125\u001b[0m     \u001b[38;5;28;01mtry\u001b[39;00m:\n\u001b[1;32m--> 126\u001b[0m         \u001b[38;5;28;01mreturn\u001b[39;00m show(\u001b[38;5;28;01mTrue\u001b[39;00m)\n\u001b[0;32m    127\u001b[0m     \u001b[38;5;28;01mexcept\u001b[39;00m \u001b[38;5;167;01mException\u001b[39;00m \u001b[38;5;28;01mas\u001b[39;00m e:\n\u001b[0;32m    128\u001b[0m         \u001b[38;5;66;03m# safely show traceback if in IPython, else raise\u001b[39;00m\n\u001b[0;32m    129\u001b[0m         ip \u001b[38;5;241m=\u001b[39m get_ipython()\n",
      "File \u001b[1;32mc:\\Users\\Asus\\anaconda3\\Lib\\site-packages\\matplotlib_inline\\backend_inline.py:90\u001b[0m, in \u001b[0;36mshow\u001b[1;34m(close, block)\u001b[0m\n\u001b[0;32m     88\u001b[0m \u001b[38;5;28;01mtry\u001b[39;00m:\n\u001b[0;32m     89\u001b[0m     \u001b[38;5;28;01mfor\u001b[39;00m figure_manager \u001b[38;5;129;01min\u001b[39;00m Gcf\u001b[38;5;241m.\u001b[39mget_all_fig_managers():\n\u001b[1;32m---> 90\u001b[0m         display(\n\u001b[0;32m     91\u001b[0m             figure_manager\u001b[38;5;241m.\u001b[39mcanvas\u001b[38;5;241m.\u001b[39mfigure,\n\u001b[0;32m     92\u001b[0m             metadata\u001b[38;5;241m=\u001b[39m_fetch_figure_metadata(figure_manager\u001b[38;5;241m.\u001b[39mcanvas\u001b[38;5;241m.\u001b[39mfigure)\n\u001b[0;32m     93\u001b[0m         )\n\u001b[0;32m     94\u001b[0m \u001b[38;5;28;01mfinally\u001b[39;00m:\n\u001b[0;32m     95\u001b[0m     show\u001b[38;5;241m.\u001b[39m_to_draw \u001b[38;5;241m=\u001b[39m []\n",
      "File \u001b[1;32mc:\\Users\\Asus\\anaconda3\\Lib\\site-packages\\IPython\\core\\display_functions.py:298\u001b[0m, in \u001b[0;36mdisplay\u001b[1;34m(include, exclude, metadata, transient, display_id, raw, clear, *objs, **kwargs)\u001b[0m\n\u001b[0;32m    296\u001b[0m     publish_display_data(data\u001b[38;5;241m=\u001b[39mobj, metadata\u001b[38;5;241m=\u001b[39mmetadata, \u001b[38;5;241m*\u001b[39m\u001b[38;5;241m*\u001b[39mkwargs)\n\u001b[0;32m    297\u001b[0m \u001b[38;5;28;01melse\u001b[39;00m:\n\u001b[1;32m--> 298\u001b[0m     format_dict, md_dict \u001b[38;5;241m=\u001b[39m \u001b[38;5;28mformat\u001b[39m(obj, include\u001b[38;5;241m=\u001b[39minclude, exclude\u001b[38;5;241m=\u001b[39mexclude)\n\u001b[0;32m    299\u001b[0m     \u001b[38;5;28;01mif\u001b[39;00m \u001b[38;5;129;01mnot\u001b[39;00m format_dict:\n\u001b[0;32m    300\u001b[0m         \u001b[38;5;66;03m# nothing to display (e.g. _ipython_display_ took over)\u001b[39;00m\n\u001b[0;32m    301\u001b[0m         \u001b[38;5;28;01mcontinue\u001b[39;00m\n",
      "File \u001b[1;32mc:\\Users\\Asus\\anaconda3\\Lib\\site-packages\\IPython\\core\\formatters.py:179\u001b[0m, in \u001b[0;36mDisplayFormatter.format\u001b[1;34m(self, obj, include, exclude)\u001b[0m\n\u001b[0;32m    177\u001b[0m md \u001b[38;5;241m=\u001b[39m \u001b[38;5;28;01mNone\u001b[39;00m\n\u001b[0;32m    178\u001b[0m \u001b[38;5;28;01mtry\u001b[39;00m:\n\u001b[1;32m--> 179\u001b[0m     data \u001b[38;5;241m=\u001b[39m formatter(obj)\n\u001b[0;32m    180\u001b[0m \u001b[38;5;28;01mexcept\u001b[39;00m:\n\u001b[0;32m    181\u001b[0m     \u001b[38;5;66;03m# FIXME: log the exception\u001b[39;00m\n\u001b[0;32m    182\u001b[0m     \u001b[38;5;28;01mraise\u001b[39;00m\n",
      "File \u001b[1;32mc:\\Users\\Asus\\anaconda3\\Lib\\site-packages\\decorator.py:232\u001b[0m, in \u001b[0;36mdecorate.<locals>.fun\u001b[1;34m(*args, **kw)\u001b[0m\n\u001b[0;32m    230\u001b[0m \u001b[38;5;28;01mif\u001b[39;00m \u001b[38;5;129;01mnot\u001b[39;00m kwsyntax:\n\u001b[0;32m    231\u001b[0m     args, kw \u001b[38;5;241m=\u001b[39m fix(args, kw, sig)\n\u001b[1;32m--> 232\u001b[0m \u001b[38;5;28;01mreturn\u001b[39;00m caller(func, \u001b[38;5;241m*\u001b[39m(extras \u001b[38;5;241m+\u001b[39m args), \u001b[38;5;241m*\u001b[39m\u001b[38;5;241m*\u001b[39mkw)\n",
      "File \u001b[1;32mc:\\Users\\Asus\\anaconda3\\Lib\\site-packages\\IPython\\core\\formatters.py:223\u001b[0m, in \u001b[0;36mcatch_format_error\u001b[1;34m(method, self, *args, **kwargs)\u001b[0m\n\u001b[0;32m    221\u001b[0m \u001b[38;5;250m\u001b[39m\u001b[38;5;124;03m\"\"\"show traceback on failed format call\"\"\"\u001b[39;00m\n\u001b[0;32m    222\u001b[0m \u001b[38;5;28;01mtry\u001b[39;00m:\n\u001b[1;32m--> 223\u001b[0m     r \u001b[38;5;241m=\u001b[39m method(\u001b[38;5;28mself\u001b[39m, \u001b[38;5;241m*\u001b[39margs, \u001b[38;5;241m*\u001b[39m\u001b[38;5;241m*\u001b[39mkwargs)\n\u001b[0;32m    224\u001b[0m \u001b[38;5;28;01mexcept\u001b[39;00m \u001b[38;5;167;01mNotImplementedError\u001b[39;00m:\n\u001b[0;32m    225\u001b[0m     \u001b[38;5;66;03m# don't warn on NotImplementedErrors\u001b[39;00m\n\u001b[0;32m    226\u001b[0m     \u001b[38;5;28;01mreturn\u001b[39;00m \u001b[38;5;28mself\u001b[39m\u001b[38;5;241m.\u001b[39m_check_return(\u001b[38;5;28;01mNone\u001b[39;00m, args[\u001b[38;5;241m0\u001b[39m])\n",
      "File \u001b[1;32mc:\\Users\\Asus\\anaconda3\\Lib\\site-packages\\IPython\\core\\formatters.py:340\u001b[0m, in \u001b[0;36mBaseFormatter.__call__\u001b[1;34m(self, obj)\u001b[0m\n\u001b[0;32m    338\u001b[0m     \u001b[38;5;28;01mpass\u001b[39;00m\n\u001b[0;32m    339\u001b[0m \u001b[38;5;28;01melse\u001b[39;00m:\n\u001b[1;32m--> 340\u001b[0m     \u001b[38;5;28;01mreturn\u001b[39;00m printer(obj)\n\u001b[0;32m    341\u001b[0m \u001b[38;5;66;03m# Finally look for special method names\u001b[39;00m\n\u001b[0;32m    342\u001b[0m method \u001b[38;5;241m=\u001b[39m get_real_method(obj, \u001b[38;5;28mself\u001b[39m\u001b[38;5;241m.\u001b[39mprint_method)\n",
      "File \u001b[1;32mc:\\Users\\Asus\\anaconda3\\Lib\\site-packages\\IPython\\core\\pylabtools.py:152\u001b[0m, in \u001b[0;36mprint_figure\u001b[1;34m(fig, fmt, bbox_inches, base64, **kwargs)\u001b[0m\n\u001b[0;32m    149\u001b[0m     \u001b[38;5;28;01mfrom\u001b[39;00m \u001b[38;5;21;01mmatplotlib\u001b[39;00m\u001b[38;5;21;01m.\u001b[39;00m\u001b[38;5;21;01mbackend_bases\u001b[39;00m \u001b[38;5;28;01mimport\u001b[39;00m FigureCanvasBase\n\u001b[0;32m    150\u001b[0m     FigureCanvasBase(fig)\n\u001b[1;32m--> 152\u001b[0m fig\u001b[38;5;241m.\u001b[39mcanvas\u001b[38;5;241m.\u001b[39mprint_figure(bytes_io, \u001b[38;5;241m*\u001b[39m\u001b[38;5;241m*\u001b[39mkw)\n\u001b[0;32m    153\u001b[0m data \u001b[38;5;241m=\u001b[39m bytes_io\u001b[38;5;241m.\u001b[39mgetvalue()\n\u001b[0;32m    154\u001b[0m \u001b[38;5;28;01mif\u001b[39;00m fmt \u001b[38;5;241m==\u001b[39m \u001b[38;5;124m'\u001b[39m\u001b[38;5;124msvg\u001b[39m\u001b[38;5;124m'\u001b[39m:\n",
      "File \u001b[1;32mc:\\Users\\Asus\\anaconda3\\Lib\\site-packages\\matplotlib\\backend_bases.py:2366\u001b[0m, in \u001b[0;36mFigureCanvasBase.print_figure\u001b[1;34m(self, filename, dpi, facecolor, edgecolor, orientation, format, bbox_inches, pad_inches, bbox_extra_artists, backend, **kwargs)\u001b[0m\n\u001b[0;32m   2362\u001b[0m \u001b[38;5;28;01mtry\u001b[39;00m:\n\u001b[0;32m   2363\u001b[0m     \u001b[38;5;66;03m# _get_renderer may change the figure dpi (as vector formats\u001b[39;00m\n\u001b[0;32m   2364\u001b[0m     \u001b[38;5;66;03m# force the figure dpi to 72), so we need to set it again here.\u001b[39;00m\n\u001b[0;32m   2365\u001b[0m     \u001b[38;5;28;01mwith\u001b[39;00m cbook\u001b[38;5;241m.\u001b[39m_setattr_cm(\u001b[38;5;28mself\u001b[39m\u001b[38;5;241m.\u001b[39mfigure, dpi\u001b[38;5;241m=\u001b[39mdpi):\n\u001b[1;32m-> 2366\u001b[0m         result \u001b[38;5;241m=\u001b[39m print_method(\n\u001b[0;32m   2367\u001b[0m             filename,\n\u001b[0;32m   2368\u001b[0m             facecolor\u001b[38;5;241m=\u001b[39mfacecolor,\n\u001b[0;32m   2369\u001b[0m             edgecolor\u001b[38;5;241m=\u001b[39medgecolor,\n\u001b[0;32m   2370\u001b[0m             orientation\u001b[38;5;241m=\u001b[39morientation,\n\u001b[0;32m   2371\u001b[0m             bbox_inches_restore\u001b[38;5;241m=\u001b[39m_bbox_inches_restore,\n\u001b[0;32m   2372\u001b[0m             \u001b[38;5;241m*\u001b[39m\u001b[38;5;241m*\u001b[39mkwargs)\n\u001b[0;32m   2373\u001b[0m \u001b[38;5;28;01mfinally\u001b[39;00m:\n\u001b[0;32m   2374\u001b[0m     \u001b[38;5;28;01mif\u001b[39;00m bbox_inches \u001b[38;5;129;01mand\u001b[39;00m restore_bbox:\n",
      "File \u001b[1;32mc:\\Users\\Asus\\anaconda3\\Lib\\site-packages\\matplotlib\\backend_bases.py:2232\u001b[0m, in \u001b[0;36mFigureCanvasBase._switch_canvas_and_return_print_method.<locals>.<lambda>\u001b[1;34m(*args, **kwargs)\u001b[0m\n\u001b[0;32m   2228\u001b[0m     optional_kws \u001b[38;5;241m=\u001b[39m {  \u001b[38;5;66;03m# Passed by print_figure for other renderers.\u001b[39;00m\n\u001b[0;32m   2229\u001b[0m         \u001b[38;5;124m\"\u001b[39m\u001b[38;5;124mdpi\u001b[39m\u001b[38;5;124m\"\u001b[39m, \u001b[38;5;124m\"\u001b[39m\u001b[38;5;124mfacecolor\u001b[39m\u001b[38;5;124m\"\u001b[39m, \u001b[38;5;124m\"\u001b[39m\u001b[38;5;124medgecolor\u001b[39m\u001b[38;5;124m\"\u001b[39m, \u001b[38;5;124m\"\u001b[39m\u001b[38;5;124morientation\u001b[39m\u001b[38;5;124m\"\u001b[39m,\n\u001b[0;32m   2230\u001b[0m         \u001b[38;5;124m\"\u001b[39m\u001b[38;5;124mbbox_inches_restore\u001b[39m\u001b[38;5;124m\"\u001b[39m}\n\u001b[0;32m   2231\u001b[0m     skip \u001b[38;5;241m=\u001b[39m optional_kws \u001b[38;5;241m-\u001b[39m {\u001b[38;5;241m*\u001b[39minspect\u001b[38;5;241m.\u001b[39msignature(meth)\u001b[38;5;241m.\u001b[39mparameters}\n\u001b[1;32m-> 2232\u001b[0m     print_method \u001b[38;5;241m=\u001b[39m functools\u001b[38;5;241m.\u001b[39mwraps(meth)(\u001b[38;5;28;01mlambda\u001b[39;00m \u001b[38;5;241m*\u001b[39margs, \u001b[38;5;241m*\u001b[39m\u001b[38;5;241m*\u001b[39mkwargs: meth(\n\u001b[0;32m   2233\u001b[0m         \u001b[38;5;241m*\u001b[39margs, \u001b[38;5;241m*\u001b[39m\u001b[38;5;241m*\u001b[39m{k: v \u001b[38;5;28;01mfor\u001b[39;00m k, v \u001b[38;5;129;01min\u001b[39;00m kwargs\u001b[38;5;241m.\u001b[39mitems() \u001b[38;5;28;01mif\u001b[39;00m k \u001b[38;5;129;01mnot\u001b[39;00m \u001b[38;5;129;01min\u001b[39;00m skip}))\n\u001b[0;32m   2234\u001b[0m \u001b[38;5;28;01melse\u001b[39;00m:  \u001b[38;5;66;03m# Let third-parties do as they see fit.\u001b[39;00m\n\u001b[0;32m   2235\u001b[0m     print_method \u001b[38;5;241m=\u001b[39m meth\n",
      "File \u001b[1;32mc:\\Users\\Asus\\anaconda3\\Lib\\site-packages\\matplotlib\\backends\\backend_agg.py:509\u001b[0m, in \u001b[0;36mFigureCanvasAgg.print_png\u001b[1;34m(self, filename_or_obj, metadata, pil_kwargs)\u001b[0m\n\u001b[0;32m    462\u001b[0m \u001b[38;5;28;01mdef\u001b[39;00m \u001b[38;5;21mprint_png\u001b[39m(\u001b[38;5;28mself\u001b[39m, filename_or_obj, \u001b[38;5;241m*\u001b[39m, metadata\u001b[38;5;241m=\u001b[39m\u001b[38;5;28;01mNone\u001b[39;00m, pil_kwargs\u001b[38;5;241m=\u001b[39m\u001b[38;5;28;01mNone\u001b[39;00m):\n\u001b[0;32m    463\u001b[0m \u001b[38;5;250m    \u001b[39m\u001b[38;5;124;03m\"\"\"\u001b[39;00m\n\u001b[0;32m    464\u001b[0m \u001b[38;5;124;03m    Write the figure to a PNG file.\u001b[39;00m\n\u001b[0;32m    465\u001b[0m \n\u001b[1;32m   (...)\u001b[0m\n\u001b[0;32m    507\u001b[0m \u001b[38;5;124;03m        *metadata*, including the default 'Software' key.\u001b[39;00m\n\u001b[0;32m    508\u001b[0m \u001b[38;5;124;03m    \"\"\"\u001b[39;00m\n\u001b[1;32m--> 509\u001b[0m     \u001b[38;5;28mself\u001b[39m\u001b[38;5;241m.\u001b[39m_print_pil(filename_or_obj, \u001b[38;5;124m\"\u001b[39m\u001b[38;5;124mpng\u001b[39m\u001b[38;5;124m\"\u001b[39m, pil_kwargs, metadata)\n",
      "File \u001b[1;32mc:\\Users\\Asus\\anaconda3\\Lib\\site-packages\\matplotlib\\backends\\backend_agg.py:457\u001b[0m, in \u001b[0;36mFigureCanvasAgg._print_pil\u001b[1;34m(self, filename_or_obj, fmt, pil_kwargs, metadata)\u001b[0m\n\u001b[0;32m    452\u001b[0m \u001b[38;5;28;01mdef\u001b[39;00m \u001b[38;5;21m_print_pil\u001b[39m(\u001b[38;5;28mself\u001b[39m, filename_or_obj, fmt, pil_kwargs, metadata\u001b[38;5;241m=\u001b[39m\u001b[38;5;28;01mNone\u001b[39;00m):\n\u001b[0;32m    453\u001b[0m \u001b[38;5;250m    \u001b[39m\u001b[38;5;124;03m\"\"\"\u001b[39;00m\n\u001b[0;32m    454\u001b[0m \u001b[38;5;124;03m    Draw the canvas, then save it using `.image.imsave` (to which\u001b[39;00m\n\u001b[0;32m    455\u001b[0m \u001b[38;5;124;03m    *pil_kwargs* and *metadata* are forwarded).\u001b[39;00m\n\u001b[0;32m    456\u001b[0m \u001b[38;5;124;03m    \"\"\"\u001b[39;00m\n\u001b[1;32m--> 457\u001b[0m     FigureCanvasAgg\u001b[38;5;241m.\u001b[39mdraw(\u001b[38;5;28mself\u001b[39m)\n\u001b[0;32m    458\u001b[0m     mpl\u001b[38;5;241m.\u001b[39mimage\u001b[38;5;241m.\u001b[39mimsave(\n\u001b[0;32m    459\u001b[0m         filename_or_obj, \u001b[38;5;28mself\u001b[39m\u001b[38;5;241m.\u001b[39mbuffer_rgba(), \u001b[38;5;28mformat\u001b[39m\u001b[38;5;241m=\u001b[39mfmt, origin\u001b[38;5;241m=\u001b[39m\u001b[38;5;124m\"\u001b[39m\u001b[38;5;124mupper\u001b[39m\u001b[38;5;124m\"\u001b[39m,\n\u001b[0;32m    460\u001b[0m         dpi\u001b[38;5;241m=\u001b[39m\u001b[38;5;28mself\u001b[39m\u001b[38;5;241m.\u001b[39mfigure\u001b[38;5;241m.\u001b[39mdpi, metadata\u001b[38;5;241m=\u001b[39mmetadata, pil_kwargs\u001b[38;5;241m=\u001b[39mpil_kwargs)\n",
      "File \u001b[1;32mc:\\Users\\Asus\\anaconda3\\Lib\\site-packages\\matplotlib\\backends\\backend_agg.py:400\u001b[0m, in \u001b[0;36mFigureCanvasAgg.draw\u001b[1;34m(self)\u001b[0m\n\u001b[0;32m    396\u001b[0m \u001b[38;5;66;03m# Acquire a lock on the shared font cache.\u001b[39;00m\n\u001b[0;32m    397\u001b[0m \u001b[38;5;28;01mwith\u001b[39;00m RendererAgg\u001b[38;5;241m.\u001b[39mlock, \\\n\u001b[0;32m    398\u001b[0m      (\u001b[38;5;28mself\u001b[39m\u001b[38;5;241m.\u001b[39mtoolbar\u001b[38;5;241m.\u001b[39m_wait_cursor_for_draw_cm() \u001b[38;5;28;01mif\u001b[39;00m \u001b[38;5;28mself\u001b[39m\u001b[38;5;241m.\u001b[39mtoolbar\n\u001b[0;32m    399\u001b[0m       \u001b[38;5;28;01melse\u001b[39;00m nullcontext()):\n\u001b[1;32m--> 400\u001b[0m     \u001b[38;5;28mself\u001b[39m\u001b[38;5;241m.\u001b[39mfigure\u001b[38;5;241m.\u001b[39mdraw(\u001b[38;5;28mself\u001b[39m\u001b[38;5;241m.\u001b[39mrenderer)\n\u001b[0;32m    401\u001b[0m     \u001b[38;5;66;03m# A GUI class may be need to update a window using this draw, so\u001b[39;00m\n\u001b[0;32m    402\u001b[0m     \u001b[38;5;66;03m# don't forget to call the superclass.\u001b[39;00m\n\u001b[0;32m    403\u001b[0m     \u001b[38;5;28msuper\u001b[39m()\u001b[38;5;241m.\u001b[39mdraw()\n",
      "File \u001b[1;32mc:\\Users\\Asus\\anaconda3\\Lib\\site-packages\\matplotlib\\artist.py:95\u001b[0m, in \u001b[0;36m_finalize_rasterization.<locals>.draw_wrapper\u001b[1;34m(artist, renderer, *args, **kwargs)\u001b[0m\n\u001b[0;32m     93\u001b[0m \u001b[38;5;129m@wraps\u001b[39m(draw)\n\u001b[0;32m     94\u001b[0m \u001b[38;5;28;01mdef\u001b[39;00m \u001b[38;5;21mdraw_wrapper\u001b[39m(artist, renderer, \u001b[38;5;241m*\u001b[39margs, \u001b[38;5;241m*\u001b[39m\u001b[38;5;241m*\u001b[39mkwargs):\n\u001b[1;32m---> 95\u001b[0m     result \u001b[38;5;241m=\u001b[39m draw(artist, renderer, \u001b[38;5;241m*\u001b[39margs, \u001b[38;5;241m*\u001b[39m\u001b[38;5;241m*\u001b[39mkwargs)\n\u001b[0;32m     96\u001b[0m     \u001b[38;5;28;01mif\u001b[39;00m renderer\u001b[38;5;241m.\u001b[39m_rasterizing:\n\u001b[0;32m     97\u001b[0m         renderer\u001b[38;5;241m.\u001b[39mstop_rasterizing()\n",
      "File \u001b[1;32mc:\\Users\\Asus\\anaconda3\\Lib\\site-packages\\matplotlib\\artist.py:72\u001b[0m, in \u001b[0;36mallow_rasterization.<locals>.draw_wrapper\u001b[1;34m(artist, renderer)\u001b[0m\n\u001b[0;32m     69\u001b[0m     \u001b[38;5;28;01mif\u001b[39;00m artist\u001b[38;5;241m.\u001b[39mget_agg_filter() \u001b[38;5;129;01mis\u001b[39;00m \u001b[38;5;129;01mnot\u001b[39;00m \u001b[38;5;28;01mNone\u001b[39;00m:\n\u001b[0;32m     70\u001b[0m         renderer\u001b[38;5;241m.\u001b[39mstart_filter()\n\u001b[1;32m---> 72\u001b[0m     \u001b[38;5;28;01mreturn\u001b[39;00m draw(artist, renderer)\n\u001b[0;32m     73\u001b[0m \u001b[38;5;28;01mfinally\u001b[39;00m:\n\u001b[0;32m     74\u001b[0m     \u001b[38;5;28;01mif\u001b[39;00m artist\u001b[38;5;241m.\u001b[39mget_agg_filter() \u001b[38;5;129;01mis\u001b[39;00m \u001b[38;5;129;01mnot\u001b[39;00m \u001b[38;5;28;01mNone\u001b[39;00m:\n",
      "File \u001b[1;32mc:\\Users\\Asus\\anaconda3\\Lib\\site-packages\\matplotlib\\figure.py:3175\u001b[0m, in \u001b[0;36mFigure.draw\u001b[1;34m(self, renderer)\u001b[0m\n\u001b[0;32m   3172\u001b[0m         \u001b[38;5;66;03m# ValueError can occur when resizing a window.\u001b[39;00m\n\u001b[0;32m   3174\u001b[0m \u001b[38;5;28mself\u001b[39m\u001b[38;5;241m.\u001b[39mpatch\u001b[38;5;241m.\u001b[39mdraw(renderer)\n\u001b[1;32m-> 3175\u001b[0m mimage\u001b[38;5;241m.\u001b[39m_draw_list_compositing_images(\n\u001b[0;32m   3176\u001b[0m     renderer, \u001b[38;5;28mself\u001b[39m, artists, \u001b[38;5;28mself\u001b[39m\u001b[38;5;241m.\u001b[39msuppressComposite)\n\u001b[0;32m   3178\u001b[0m \u001b[38;5;28;01mfor\u001b[39;00m sfig \u001b[38;5;129;01min\u001b[39;00m \u001b[38;5;28mself\u001b[39m\u001b[38;5;241m.\u001b[39msubfigs:\n\u001b[0;32m   3179\u001b[0m     sfig\u001b[38;5;241m.\u001b[39mdraw(renderer)\n",
      "File \u001b[1;32mc:\\Users\\Asus\\anaconda3\\Lib\\site-packages\\matplotlib\\image.py:131\u001b[0m, in \u001b[0;36m_draw_list_compositing_images\u001b[1;34m(renderer, parent, artists, suppress_composite)\u001b[0m\n\u001b[0;32m    129\u001b[0m \u001b[38;5;28;01mif\u001b[39;00m not_composite \u001b[38;5;129;01mor\u001b[39;00m \u001b[38;5;129;01mnot\u001b[39;00m has_images:\n\u001b[0;32m    130\u001b[0m     \u001b[38;5;28;01mfor\u001b[39;00m a \u001b[38;5;129;01min\u001b[39;00m artists:\n\u001b[1;32m--> 131\u001b[0m         a\u001b[38;5;241m.\u001b[39mdraw(renderer)\n\u001b[0;32m    132\u001b[0m \u001b[38;5;28;01melse\u001b[39;00m:\n\u001b[0;32m    133\u001b[0m     \u001b[38;5;66;03m# Composite any adjacent images together\u001b[39;00m\n\u001b[0;32m    134\u001b[0m     image_group \u001b[38;5;241m=\u001b[39m []\n",
      "File \u001b[1;32mc:\\Users\\Asus\\anaconda3\\Lib\\site-packages\\matplotlib\\artist.py:72\u001b[0m, in \u001b[0;36mallow_rasterization.<locals>.draw_wrapper\u001b[1;34m(artist, renderer)\u001b[0m\n\u001b[0;32m     69\u001b[0m     \u001b[38;5;28;01mif\u001b[39;00m artist\u001b[38;5;241m.\u001b[39mget_agg_filter() \u001b[38;5;129;01mis\u001b[39;00m \u001b[38;5;129;01mnot\u001b[39;00m \u001b[38;5;28;01mNone\u001b[39;00m:\n\u001b[0;32m     70\u001b[0m         renderer\u001b[38;5;241m.\u001b[39mstart_filter()\n\u001b[1;32m---> 72\u001b[0m     \u001b[38;5;28;01mreturn\u001b[39;00m draw(artist, renderer)\n\u001b[0;32m     73\u001b[0m \u001b[38;5;28;01mfinally\u001b[39;00m:\n\u001b[0;32m     74\u001b[0m     \u001b[38;5;28;01mif\u001b[39;00m artist\u001b[38;5;241m.\u001b[39mget_agg_filter() \u001b[38;5;129;01mis\u001b[39;00m \u001b[38;5;129;01mnot\u001b[39;00m \u001b[38;5;28;01mNone\u001b[39;00m:\n",
      "File \u001b[1;32mc:\\Users\\Asus\\anaconda3\\Lib\\site-packages\\matplotlib\\axes\\_base.py:3064\u001b[0m, in \u001b[0;36m_AxesBase.draw\u001b[1;34m(self, renderer)\u001b[0m\n\u001b[0;32m   3061\u001b[0m \u001b[38;5;28;01mif\u001b[39;00m artists_rasterized:\n\u001b[0;32m   3062\u001b[0m     _draw_rasterized(\u001b[38;5;28mself\u001b[39m\u001b[38;5;241m.\u001b[39mfigure, artists_rasterized, renderer)\n\u001b[1;32m-> 3064\u001b[0m mimage\u001b[38;5;241m.\u001b[39m_draw_list_compositing_images(\n\u001b[0;32m   3065\u001b[0m     renderer, \u001b[38;5;28mself\u001b[39m, artists, \u001b[38;5;28mself\u001b[39m\u001b[38;5;241m.\u001b[39mfigure\u001b[38;5;241m.\u001b[39msuppressComposite)\n\u001b[0;32m   3067\u001b[0m renderer\u001b[38;5;241m.\u001b[39mclose_group(\u001b[38;5;124m'\u001b[39m\u001b[38;5;124maxes\u001b[39m\u001b[38;5;124m'\u001b[39m)\n\u001b[0;32m   3068\u001b[0m \u001b[38;5;28mself\u001b[39m\u001b[38;5;241m.\u001b[39mstale \u001b[38;5;241m=\u001b[39m \u001b[38;5;28;01mFalse\u001b[39;00m\n",
      "File \u001b[1;32mc:\\Users\\Asus\\anaconda3\\Lib\\site-packages\\matplotlib\\image.py:131\u001b[0m, in \u001b[0;36m_draw_list_compositing_images\u001b[1;34m(renderer, parent, artists, suppress_composite)\u001b[0m\n\u001b[0;32m    129\u001b[0m \u001b[38;5;28;01mif\u001b[39;00m not_composite \u001b[38;5;129;01mor\u001b[39;00m \u001b[38;5;129;01mnot\u001b[39;00m has_images:\n\u001b[0;32m    130\u001b[0m     \u001b[38;5;28;01mfor\u001b[39;00m a \u001b[38;5;129;01min\u001b[39;00m artists:\n\u001b[1;32m--> 131\u001b[0m         a\u001b[38;5;241m.\u001b[39mdraw(renderer)\n\u001b[0;32m    132\u001b[0m \u001b[38;5;28;01melse\u001b[39;00m:\n\u001b[0;32m    133\u001b[0m     \u001b[38;5;66;03m# Composite any adjacent images together\u001b[39;00m\n\u001b[0;32m    134\u001b[0m     image_group \u001b[38;5;241m=\u001b[39m []\n",
      "File \u001b[1;32mc:\\Users\\Asus\\anaconda3\\Lib\\site-packages\\matplotlib\\artist.py:72\u001b[0m, in \u001b[0;36mallow_rasterization.<locals>.draw_wrapper\u001b[1;34m(artist, renderer)\u001b[0m\n\u001b[0;32m     69\u001b[0m     \u001b[38;5;28;01mif\u001b[39;00m artist\u001b[38;5;241m.\u001b[39mget_agg_filter() \u001b[38;5;129;01mis\u001b[39;00m \u001b[38;5;129;01mnot\u001b[39;00m \u001b[38;5;28;01mNone\u001b[39;00m:\n\u001b[0;32m     70\u001b[0m         renderer\u001b[38;5;241m.\u001b[39mstart_filter()\n\u001b[1;32m---> 72\u001b[0m     \u001b[38;5;28;01mreturn\u001b[39;00m draw(artist, renderer)\n\u001b[0;32m     73\u001b[0m \u001b[38;5;28;01mfinally\u001b[39;00m:\n\u001b[0;32m     74\u001b[0m     \u001b[38;5;28;01mif\u001b[39;00m artist\u001b[38;5;241m.\u001b[39mget_agg_filter() \u001b[38;5;129;01mis\u001b[39;00m \u001b[38;5;129;01mnot\u001b[39;00m \u001b[38;5;28;01mNone\u001b[39;00m:\n",
      "File \u001b[1;32mc:\\Users\\Asus\\anaconda3\\Lib\\site-packages\\matplotlib\\collections.py:972\u001b[0m, in \u001b[0;36m_CollectionWithSizes.draw\u001b[1;34m(self, renderer)\u001b[0m\n\u001b[0;32m    969\u001b[0m \u001b[38;5;129m@artist\u001b[39m\u001b[38;5;241m.\u001b[39mallow_rasterization\n\u001b[0;32m    970\u001b[0m \u001b[38;5;28;01mdef\u001b[39;00m \u001b[38;5;21mdraw\u001b[39m(\u001b[38;5;28mself\u001b[39m, renderer):\n\u001b[0;32m    971\u001b[0m     \u001b[38;5;28mself\u001b[39m\u001b[38;5;241m.\u001b[39mset_sizes(\u001b[38;5;28mself\u001b[39m\u001b[38;5;241m.\u001b[39m_sizes, \u001b[38;5;28mself\u001b[39m\u001b[38;5;241m.\u001b[39mfigure\u001b[38;5;241m.\u001b[39mdpi)\n\u001b[1;32m--> 972\u001b[0m     \u001b[38;5;28msuper\u001b[39m()\u001b[38;5;241m.\u001b[39mdraw(renderer)\n",
      "File \u001b[1;32mc:\\Users\\Asus\\anaconda3\\Lib\\site-packages\\matplotlib\\artist.py:72\u001b[0m, in \u001b[0;36mallow_rasterization.<locals>.draw_wrapper\u001b[1;34m(artist, renderer)\u001b[0m\n\u001b[0;32m     69\u001b[0m     \u001b[38;5;28;01mif\u001b[39;00m artist\u001b[38;5;241m.\u001b[39mget_agg_filter() \u001b[38;5;129;01mis\u001b[39;00m \u001b[38;5;129;01mnot\u001b[39;00m \u001b[38;5;28;01mNone\u001b[39;00m:\n\u001b[0;32m     70\u001b[0m         renderer\u001b[38;5;241m.\u001b[39mstart_filter()\n\u001b[1;32m---> 72\u001b[0m     \u001b[38;5;28;01mreturn\u001b[39;00m draw(artist, renderer)\n\u001b[0;32m     73\u001b[0m \u001b[38;5;28;01mfinally\u001b[39;00m:\n\u001b[0;32m     74\u001b[0m     \u001b[38;5;28;01mif\u001b[39;00m artist\u001b[38;5;241m.\u001b[39mget_agg_filter() \u001b[38;5;129;01mis\u001b[39;00m \u001b[38;5;129;01mnot\u001b[39;00m \u001b[38;5;28;01mNone\u001b[39;00m:\n",
      "File \u001b[1;32mc:\\Users\\Asus\\anaconda3\\Lib\\site-packages\\matplotlib\\collections.py:409\u001b[0m, in \u001b[0;36mCollection.draw\u001b[1;34m(self, renderer)\u001b[0m\n\u001b[0;32m    405\u001b[0m     renderer\u001b[38;5;241m.\u001b[39mdraw_markers(\n\u001b[0;32m    406\u001b[0m         gc, paths[\u001b[38;5;241m0\u001b[39m], combined_transform\u001b[38;5;241m.\u001b[39mfrozen(),\n\u001b[0;32m    407\u001b[0m         mpath\u001b[38;5;241m.\u001b[39mPath(offsets), offset_trf, \u001b[38;5;28mtuple\u001b[39m(facecolors[\u001b[38;5;241m0\u001b[39m]))\n\u001b[0;32m    408\u001b[0m \u001b[38;5;28;01melse\u001b[39;00m:\n\u001b[1;32m--> 409\u001b[0m     renderer\u001b[38;5;241m.\u001b[39mdraw_path_collection(\n\u001b[0;32m    410\u001b[0m         gc, transform\u001b[38;5;241m.\u001b[39mfrozen(), paths,\n\u001b[0;32m    411\u001b[0m         \u001b[38;5;28mself\u001b[39m\u001b[38;5;241m.\u001b[39mget_transforms(), offsets, offset_trf,\n\u001b[0;32m    412\u001b[0m         \u001b[38;5;28mself\u001b[39m\u001b[38;5;241m.\u001b[39mget_facecolor(), \u001b[38;5;28mself\u001b[39m\u001b[38;5;241m.\u001b[39mget_edgecolor(),\n\u001b[0;32m    413\u001b[0m         \u001b[38;5;28mself\u001b[39m\u001b[38;5;241m.\u001b[39m_linewidths, \u001b[38;5;28mself\u001b[39m\u001b[38;5;241m.\u001b[39m_linestyles,\n\u001b[0;32m    414\u001b[0m         \u001b[38;5;28mself\u001b[39m\u001b[38;5;241m.\u001b[39m_antialiaseds, \u001b[38;5;28mself\u001b[39m\u001b[38;5;241m.\u001b[39m_urls,\n\u001b[0;32m    415\u001b[0m         \u001b[38;5;124m\"\u001b[39m\u001b[38;5;124mscreen\u001b[39m\u001b[38;5;124m\"\u001b[39m)  \u001b[38;5;66;03m# offset_position, kept for backcompat.\u001b[39;00m\n\u001b[0;32m    417\u001b[0m gc\u001b[38;5;241m.\u001b[39mrestore()\n\u001b[0;32m    418\u001b[0m renderer\u001b[38;5;241m.\u001b[39mclose_group(\u001b[38;5;28mself\u001b[39m\u001b[38;5;241m.\u001b[39m\u001b[38;5;18m__class__\u001b[39m\u001b[38;5;241m.\u001b[39m\u001b[38;5;18m__name__\u001b[39m)\n",
      "File \u001b[1;32mc:\\Users\\Asus\\anaconda3\\Lib\\site-packages\\matplotlib\\path.py:211\u001b[0m, in \u001b[0;36mPath.vertices\u001b[1;34m(self)\u001b[0m\n\u001b[0;32m    203\u001b[0m     \u001b[38;5;28mself\u001b[39m\u001b[38;5;241m.\u001b[39m_simplify_threshold \u001b[38;5;241m=\u001b[39m mpl\u001b[38;5;241m.\u001b[39mrcParams[\u001b[38;5;124m'\u001b[39m\u001b[38;5;124mpath.simplify_threshold\u001b[39m\u001b[38;5;124m'\u001b[39m]\n\u001b[0;32m    204\u001b[0m     \u001b[38;5;28mself\u001b[39m\u001b[38;5;241m.\u001b[39m_should_simplify \u001b[38;5;241m=\u001b[39m (\n\u001b[0;32m    205\u001b[0m         \u001b[38;5;28mself\u001b[39m\u001b[38;5;241m.\u001b[39m_simplify_threshold \u001b[38;5;241m>\u001b[39m \u001b[38;5;241m0\u001b[39m \u001b[38;5;129;01mand\u001b[39;00m\n\u001b[0;32m    206\u001b[0m         mpl\u001b[38;5;241m.\u001b[39mrcParams[\u001b[38;5;124m'\u001b[39m\u001b[38;5;124mpath.simplify\u001b[39m\u001b[38;5;124m'\u001b[39m] \u001b[38;5;129;01mand\u001b[39;00m\n\u001b[0;32m    207\u001b[0m         \u001b[38;5;28mlen\u001b[39m(\u001b[38;5;28mself\u001b[39m\u001b[38;5;241m.\u001b[39m_vertices) \u001b[38;5;241m>\u001b[39m\u001b[38;5;241m=\u001b[39m \u001b[38;5;241m128\u001b[39m \u001b[38;5;129;01mand\u001b[39;00m\n\u001b[0;32m    208\u001b[0m         (\u001b[38;5;28mself\u001b[39m\u001b[38;5;241m.\u001b[39m_codes \u001b[38;5;129;01mis\u001b[39;00m \u001b[38;5;28;01mNone\u001b[39;00m \u001b[38;5;129;01mor\u001b[39;00m np\u001b[38;5;241m.\u001b[39mall(\u001b[38;5;28mself\u001b[39m\u001b[38;5;241m.\u001b[39m_codes \u001b[38;5;241m<\u001b[39m\u001b[38;5;241m=\u001b[39m Path\u001b[38;5;241m.\u001b[39mLINETO))\n\u001b[0;32m    209\u001b[0m     )\n\u001b[1;32m--> 211\u001b[0m \u001b[38;5;129m@property\u001b[39m\n\u001b[0;32m    212\u001b[0m \u001b[38;5;28;01mdef\u001b[39;00m \u001b[38;5;21mvertices\u001b[39m(\u001b[38;5;28mself\u001b[39m):\n\u001b[0;32m    213\u001b[0m \u001b[38;5;250m    \u001b[39m\u001b[38;5;124;03m\"\"\"\u001b[39;00m\n\u001b[0;32m    214\u001b[0m \u001b[38;5;124;03m    The list of vertices in the `Path` as an Nx2 numpy array.\u001b[39;00m\n\u001b[0;32m    215\u001b[0m \u001b[38;5;124;03m    \"\"\"\u001b[39;00m\n\u001b[0;32m    216\u001b[0m     \u001b[38;5;28;01mreturn\u001b[39;00m \u001b[38;5;28mself\u001b[39m\u001b[38;5;241m.\u001b[39m_vertices\n",
      "\u001b[1;31mKeyboardInterrupt\u001b[0m: "
     ]
    }
   ],
   "source": [
    "sns.scatterplot(x=df.Start_Lng,y=df.Start_Lat,size=0.001)"
   ]
  },
  {
   "cell_type": "code",
   "execution_count": 135,
   "metadata": {},
   "outputs": [],
   "source": [
    "sample_df = df.sample(int(0.1*len(df)))"
   ]
  },
  {
   "cell_type": "code",
   "execution_count": 136,
   "metadata": {},
   "outputs": [
    {
     "data": {
      "text/plain": [
       "772839"
      ]
     },
     "execution_count": 136,
     "metadata": {},
     "output_type": "execute_result"
    }
   ],
   "source": [
    "len(sample_df)"
   ]
  },
  {
   "cell_type": "code",
   "execution_count": null,
   "metadata": {},
   "outputs": [],
   "source": [
    "sns.scatterplot(x=sample_df.Start_Lng,y=sample_df.Start_Lat,size=0.01)"
   ]
  },
  {
   "cell_type": "code",
   "execution_count": 137,
   "metadata": {},
   "outputs": [
    {
     "name": "stdout",
     "output_type": "stream",
     "text": [
      "Requirement already satisfied: folium in c:\\users\\asus\\anaconda3\\lib\\site-packages (0.17.0)\n",
      "Requirement already satisfied: branca>=0.6.0 in c:\\users\\asus\\anaconda3\\lib\\site-packages (from folium) (0.7.2)\n",
      "Requirement already satisfied: jinja2>=2.9 in c:\\users\\asus\\anaconda3\\lib\\site-packages (from folium) (3.1.2)\n",
      "Requirement already satisfied: numpy in c:\\users\\asus\\anaconda3\\lib\\site-packages (from folium) (1.24.3)\n",
      "Requirement already satisfied: requests in c:\\users\\asus\\anaconda3\\lib\\site-packages (from folium) (2.31.0)\n",
      "Requirement already satisfied: xyzservices in c:\\users\\asus\\anaconda3\\lib\\site-packages (from folium) (2022.9.0)\n",
      "Requirement already satisfied: MarkupSafe>=2.0 in c:\\users\\asus\\anaconda3\\lib\\site-packages (from jinja2>=2.9->folium) (2.1.1)\n",
      "Requirement already satisfied: charset-normalizer<4,>=2 in c:\\users\\asus\\anaconda3\\lib\\site-packages (from requests->folium) (2.0.4)\n",
      "Requirement already satisfied: idna<4,>=2.5 in c:\\users\\asus\\anaconda3\\lib\\site-packages (from requests->folium) (3.4)\n",
      "Requirement already satisfied: urllib3<3,>=1.21.1 in c:\\users\\asus\\anaconda3\\lib\\site-packages (from requests->folium) (1.26.16)\n",
      "Requirement already satisfied: certifi>=2017.4.17 in c:\\users\\asus\\anaconda3\\lib\\site-packages (from requests->folium) (2023.7.22)\n",
      "Note: you may need to restart the kernel to use updated packages.\n"
     ]
    }
   ],
   "source": [
    "pip install folium\n"
   ]
  },
  {
   "cell_type": "code",
   "execution_count": 138,
   "metadata": {},
   "outputs": [],
   "source": [
    "import folium"
   ]
  },
  {
   "cell_type": "code",
   "execution_count": 151,
   "metadata": {},
   "outputs": [
    {
     "ename": "AttributeError",
     "evalue": "'DataFrame' object has no attribute 'Start_lng'",
     "output_type": "error",
     "traceback": [
      "\u001b[1;31m---------------------------------------------------------------------------\u001b[0m",
      "\u001b[1;31mAttributeError\u001b[0m                            Traceback (most recent call last)",
      "\u001b[1;32m~\\AppData\\Local\\Temp\\ipykernel_19528\\1764627162.py\u001b[0m in \u001b[0;36m?\u001b[1;34m()\u001b[0m\n\u001b[1;32m----> 1\u001b[1;33m \u001b[0mlat\u001b[0m\u001b[1;33m,\u001b[0m\u001b[0mlan\u001b[0m \u001b[1;33m=\u001b[0m \u001b[0mdf\u001b[0m\u001b[1;33m.\u001b[0m\u001b[0mStart_Lat\u001b[0m\u001b[1;33m[\u001b[0m\u001b[1;36m0\u001b[0m\u001b[1;33m]\u001b[0m\u001b[1;33m,\u001b[0m\u001b[0mdf\u001b[0m\u001b[1;33m.\u001b[0m\u001b[0mStart_lng\u001b[0m\u001b[1;33m[\u001b[0m\u001b[1;36m0\u001b[0m\u001b[1;33m]\u001b[0m\u001b[1;33m\u001b[0m\u001b[1;33m\u001b[0m\u001b[0m\n\u001b[0m\u001b[0;32m      2\u001b[0m \u001b[0mmap\u001b[0m \u001b[1;33m=\u001b[0m \u001b[0mfolium\u001b[0m\u001b[1;33m.\u001b[0m\u001b[0mMap\u001b[0m\u001b[1;33m(\u001b[0m\u001b[1;33m)\u001b[0m\u001b[1;33m\u001b[0m\u001b[1;33m\u001b[0m\u001b[0m\n",
      "\u001b[1;32mc:\\Users\\Asus\\anaconda3\\Lib\\site-packages\\pandas\\core\\generic.py\u001b[0m in \u001b[0;36m?\u001b[1;34m(self, name)\u001b[0m\n\u001b[0;32m   5985\u001b[0m             \u001b[1;32mand\u001b[0m \u001b[0mname\u001b[0m \u001b[1;32mnot\u001b[0m \u001b[1;32min\u001b[0m \u001b[0mself\u001b[0m\u001b[1;33m.\u001b[0m\u001b[0m_accessors\u001b[0m\u001b[1;33m\u001b[0m\u001b[1;33m\u001b[0m\u001b[0m\n\u001b[0;32m   5986\u001b[0m             \u001b[1;32mand\u001b[0m \u001b[0mself\u001b[0m\u001b[1;33m.\u001b[0m\u001b[0m_info_axis\u001b[0m\u001b[1;33m.\u001b[0m\u001b[0m_can_hold_identifiers_and_holds_name\u001b[0m\u001b[1;33m(\u001b[0m\u001b[0mname\u001b[0m\u001b[1;33m)\u001b[0m\u001b[1;33m\u001b[0m\u001b[1;33m\u001b[0m\u001b[0m\n\u001b[0;32m   5987\u001b[0m         ):\n\u001b[0;32m   5988\u001b[0m             \u001b[1;32mreturn\u001b[0m \u001b[0mself\u001b[0m\u001b[1;33m[\u001b[0m\u001b[0mname\u001b[0m\u001b[1;33m]\u001b[0m\u001b[1;33m\u001b[0m\u001b[1;33m\u001b[0m\u001b[0m\n\u001b[1;32m-> 5989\u001b[1;33m         \u001b[1;32mreturn\u001b[0m \u001b[0mobject\u001b[0m\u001b[1;33m.\u001b[0m\u001b[0m__getattribute__\u001b[0m\u001b[1;33m(\u001b[0m\u001b[0mself\u001b[0m\u001b[1;33m,\u001b[0m \u001b[0mname\u001b[0m\u001b[1;33m)\u001b[0m\u001b[1;33m\u001b[0m\u001b[1;33m\u001b[0m\u001b[0m\n\u001b[0m",
      "\u001b[1;31mAttributeError\u001b[0m: 'DataFrame' object has no attribute 'Start_lng'"
     ]
    }
   ],
   "source": [
    "lat,lan = df.Start_Lat[0],df.Start_lng[0]\n",
    "map = folium.Map()\n"
   ]
  },
  {
   "cell_type": "code",
   "execution_count": null,
   "metadata": {},
   "outputs": [],
   "source": [
    "\n",
    "folium.Map()"
   ]
  },
  {
   "cell_type": "code",
   "execution_count": 140,
   "metadata": {},
   "outputs": [
    {
     "name": "stdout",
     "output_type": "stream",
     "text": [
      "(2364076, Start_Lat    30.504787\n",
      "Start_Lng   -87.267303\n",
      "Name: 2364076, dtype: float64)\n",
      "(6976219, Start_Lat     35.642166\n",
      "Start_Lng   -119.218781\n",
      "Name: 6976219, dtype: float64)\n",
      "(5210511, Start_Lat    39.046314\n",
      "Start_Lng   -75.827013\n",
      "Name: 5210511, dtype: float64)\n",
      "(530036, Start_Lat    25.854055\n",
      "Start_Lng   -80.322479\n",
      "Name: 530036, dtype: float64)\n",
      "(1820063, Start_Lat    28.030090\n",
      "Start_Lng   -80.660873\n",
      "Name: 1820063, dtype: float64)\n",
      "(5630408, Start_Lat    33.032612\n",
      "Start_Lng   -80.114280\n",
      "Name: 5630408, dtype: float64)\n",
      "(3247681, Start_Lat    35.997379\n",
      "Start_Lng   -79.864655\n",
      "Name: 3247681, dtype: float64)\n",
      "(3345025, Start_Lat    30.261003\n",
      "Start_Lng   -97.758369\n",
      "Name: 3345025, dtype: float64)\n",
      "(7236623, Start_Lat     37.836427\n",
      "Start_Lng   -122.011894\n",
      "Name: 7236623, dtype: float64)\n",
      "(3372518, Start_Lat    42.869835\n",
      "Start_Lng   -83.592773\n",
      "Name: 3372518, dtype: float64)\n",
      "(5773220, Start_Lat    27.816418\n",
      "Start_Lng   -82.736762\n",
      "Name: 5773220, dtype: float64)\n",
      "(7660912, Start_Lat    40.69421\n",
      "Start_Lng   -73.42347\n",
      "Name: 7660912, dtype: float64)\n",
      "(5724366, Start_Lat    26.529985\n",
      "Start_Lng   -81.871144\n",
      "Name: 5724366, dtype: float64)\n",
      "(5748072, Start_Lat    34.255372\n",
      "Start_Lng   -79.781566\n",
      "Name: 5748072, dtype: float64)\n",
      "(6491544, Start_Lat    38.562210\n",
      "Start_Lng   -78.603128\n",
      "Name: 6491544, dtype: float64)\n",
      "(575070, Start_Lat    27.462435\n",
      "Start_Lng   -82.587608\n",
      "Name: 575070, dtype: float64)\n",
      "(6612830, Start_Lat    35.162882\n",
      "Start_Lng   -80.876029\n",
      "Name: 6612830, dtype: float64)\n",
      "(5207939, Start_Lat     37.794691\n",
      "Start_Lng   -122.381547\n",
      "Name: 5207939, dtype: float64)\n",
      "(7506551, Start_Lat    38.855781\n",
      "Start_Lng   -77.112567\n",
      "Name: 7506551, dtype: float64)\n",
      "(2633315, Start_Lat    36.157349\n",
      "Start_Lng   -95.993149\n",
      "Name: 2633315, dtype: float64)\n",
      "(6268873, Start_Lat     33.862152\n",
      "Start_Lng   -118.041894\n",
      "Name: 6268873, dtype: float64)\n",
      "(2844431, Start_Lat     37.740891\n",
      "Start_Lng   -121.505043\n",
      "Name: 2844431, dtype: float64)\n",
      "(7135891, Start_Lat    33.92737\n",
      "Start_Lng   -84.35776\n",
      "Name: 7135891, dtype: float64)\n",
      "(1553221, Start_Lat    40.667271\n",
      "Start_Lng   -73.660690\n",
      "Name: 1553221, dtype: float64)\n",
      "(6207889, Start_Lat    35.693303\n",
      "Start_Lng   -90.053569\n",
      "Name: 6207889, dtype: float64)\n",
      "(1880589, Start_Lat    30.231394\n",
      "Start_Lng   -97.735924\n",
      "Name: 1880589, dtype: float64)\n",
      "(5836624, Start_Lat    39.836566\n",
      "Start_Lng   -75.797671\n",
      "Name: 5836624, dtype: float64)\n",
      "(771852, Start_Lat    33.617012\n",
      "Start_Lng   -84.438004\n",
      "Name: 771852, dtype: float64)\n",
      "(596999, Start_Lat     33.456387\n",
      "Start_Lng   -111.976379\n",
      "Name: 596999, dtype: float64)\n",
      "(94127, Start_Lat     34.095539\n",
      "Start_Lng   -118.244049\n",
      "Name: 94127, dtype: float64)\n",
      "(2916346, Start_Lat    38.059589\n",
      "Start_Lng   -84.478271\n",
      "Name: 2916346, dtype: float64)\n",
      "(1788748, Start_Lat    37.547920\n",
      "Start_Lng   -77.441177\n",
      "Name: 1788748, dtype: float64)\n",
      "(4289927, Start_Lat     34.409431\n",
      "Start_Lng   -117.394020\n",
      "Name: 4289927, dtype: float64)\n",
      "(7592350, Start_Lat     33.38602\n",
      "Start_Lng   -111.81078\n",
      "Name: 7592350, dtype: float64)\n",
      "(3509594, Start_Lat    39.971387\n",
      "Start_Lng   -75.123605\n",
      "Name: 3509594, dtype: float64)\n",
      "(5982577, Start_Lat    29.796242\n",
      "Start_Lng   -95.563534\n",
      "Name: 5982577, dtype: float64)\n",
      "(7477318, Start_Lat    39.259251\n",
      "Start_Lng   -84.440980\n",
      "Name: 7477318, dtype: float64)\n",
      "(4840726, Start_Lat     33.872341\n",
      "Start_Lng   -118.250289\n",
      "Name: 4840726, dtype: float64)\n",
      "(4499998, Start_Lat     38.030871\n",
      "Start_Lng   -120.264124\n",
      "Name: 4499998, dtype: float64)\n",
      "(142146, Start_Lat    25.781733\n",
      "Start_Lng   -80.320648\n",
      "Name: 142146, dtype: float64)\n",
      "(5829803, Start_Lat    25.687938\n",
      "Start_Lng   -80.416440\n",
      "Name: 5829803, dtype: float64)\n",
      "(6395106, Start_Lat    28.428421\n",
      "Start_Lng   -81.406670\n",
      "Name: 6395106, dtype: float64)\n",
      "(3422871, Start_Lat    29.64401\n",
      "Start_Lng   -95.57599\n",
      "Name: 3422871, dtype: float64)\n",
      "(298810, Start_Lat    29.600374\n",
      "Start_Lng   -95.266586\n",
      "Name: 298810, dtype: float64)\n",
      "(536625, Start_Lat    36.150009\n",
      "Start_Lng   -86.765930\n",
      "Name: 536625, dtype: float64)\n",
      "(1704922, Start_Lat    44.579441\n",
      "Start_Lng   -92.972412\n",
      "Name: 1704922, dtype: float64)\n",
      "(2313745, Start_Lat    39.106369\n",
      "Start_Lng   -76.918716\n",
      "Name: 2313745, dtype: float64)\n",
      "(3743571, Start_Lat    33.640867\n",
      "Start_Lng   -83.985522\n",
      "Name: 3743571, dtype: float64)\n",
      "(1879948, Start_Lat    34.890789\n",
      "Start_Lng   -81.120102\n",
      "Name: 1879948, dtype: float64)\n",
      "(3621416, Start_Lat    34.23314\n",
      "Start_Lng   -79.79591\n",
      "Name: 3621416, dtype: float64)\n",
      "(389575, Start_Lat    29.742685\n",
      "Start_Lng   -95.378777\n",
      "Name: 389575, dtype: float64)\n",
      "(6791827, Start_Lat     38.636617\n",
      "Start_Lng   -121.312890\n",
      "Name: 6791827, dtype: float64)\n",
      "(5868147, Start_Lat    36.830667\n",
      "Start_Lng   -76.137432\n",
      "Name: 5868147, dtype: float64)\n",
      "(3088277, Start_Lat    38.624313\n",
      "Start_Lng   -90.164879\n",
      "Name: 3088277, dtype: float64)\n",
      "(5799540, Start_Lat    33.481189\n",
      "Start_Lng   -82.137791\n",
      "Name: 5799540, dtype: float64)\n",
      "(1620883, Start_Lat    30.581032\n",
      "Start_Lng   -88.170372\n",
      "Name: 1620883, dtype: float64)\n",
      "(3846262, Start_Lat    32.821024\n",
      "Start_Lng   -83.655952\n",
      "Name: 3846262, dtype: float64)\n",
      "(2309276, Start_Lat    43.004841\n",
      "Start_Lng   -78.947639\n",
      "Name: 2309276, dtype: float64)\n",
      "(5274071, Start_Lat     45.663798\n",
      "Start_Lng   -110.838273\n",
      "Name: 5274071, dtype: float64)\n",
      "(7672620, Start_Lat    37.250908\n",
      "Start_Lng   -76.640916\n",
      "Name: 7672620, dtype: float64)\n",
      "(6294362, Start_Lat    42.429771\n",
      "Start_Lng   -73.803989\n",
      "Name: 6294362, dtype: float64)\n",
      "(1501095, Start_Lat    32.461658\n",
      "Start_Lng   -93.763031\n",
      "Name: 1501095, dtype: float64)\n",
      "(803219, Start_Lat    35.738171\n",
      "Start_Lng   -78.788628\n",
      "Name: 803219, dtype: float64)\n",
      "(6432860, Start_Lat     33.792883\n",
      "Start_Lng   -117.879363\n",
      "Name: 6432860, dtype: float64)\n",
      "(719811, Start_Lat     47.578114\n",
      "Start_Lng   -122.206017\n",
      "Name: 719811, dtype: float64)\n",
      "(1475484, Start_Lat    42.986309\n",
      "Start_Lng   -78.914452\n",
      "Name: 1475484, dtype: float64)\n",
      "(2053500, Start_Lat    36.263210\n",
      "Start_Lng   -86.757278\n",
      "Name: 2053500, dtype: float64)\n",
      "(411567, Start_Lat    28.593122\n",
      "Start_Lng   -81.382034\n",
      "Name: 411567, dtype: float64)\n",
      "(5509814, Start_Lat     34.072367\n",
      "Start_Lng   -117.917226\n",
      "Name: 5509814, dtype: float64)\n",
      "(2309439, Start_Lat    35.838451\n",
      "Start_Lng   -78.674210\n",
      "Name: 2309439, dtype: float64)\n",
      "(1308082, Start_Lat    40.189590\n",
      "Start_Lng   -75.135651\n",
      "Name: 1308082, dtype: float64)\n",
      "(4467739, Start_Lat    41.148791\n",
      "Start_Lng   -73.825097\n",
      "Name: 4467739, dtype: float64)\n",
      "(5982944, Start_Lat     39.222408\n",
      "Start_Lng   -121.083306\n",
      "Name: 5982944, dtype: float64)\n",
      "(5242314, Start_Lat    45.444376\n",
      "Start_Lng   -94.559300\n",
      "Name: 5242314, dtype: float64)\n",
      "(6868881, Start_Lat    35.834997\n",
      "Start_Lng   -78.599626\n",
      "Name: 6868881, dtype: float64)\n",
      "(63088, Start_Lat     33.953514\n",
      "Start_Lng   -118.089821\n",
      "Name: 63088, dtype: float64)\n",
      "(2587009, Start_Lat    32.733734\n",
      "Start_Lng   -96.713127\n",
      "Name: 2587009, dtype: float64)\n",
      "(7114754, Start_Lat    30.46970\n",
      "Start_Lng   -84.23083\n",
      "Name: 7114754, dtype: float64)\n",
      "(476051, Start_Lat    40.739193\n",
      "Start_Lng   -73.817070\n",
      "Name: 476051, dtype: float64)\n",
      "(7698666, Start_Lat     33.83172\n",
      "Start_Lng   -117.53027\n",
      "Name: 7698666, dtype: float64)\n",
      "(447998, Start_Lat    41.130348\n",
      "Start_Lng   -73.814636\n",
      "Name: 447998, dtype: float64)\n",
      "(4063592, Start_Lat     32.719405\n",
      "Start_Lng   -117.148023\n",
      "Name: 4063592, dtype: float64)\n",
      "(2484740, Start_Lat    35.221008\n",
      "Start_Lng   -80.817039\n",
      "Name: 2484740, dtype: float64)\n",
      "(1110574, Start_Lat     33.434444\n",
      "Start_Lng   -117.617226\n",
      "Name: 1110574, dtype: float64)\n",
      "(6677853, Start_Lat    30.461626\n",
      "Start_Lng   -91.110548\n",
      "Name: 6677853, dtype: float64)\n",
      "(5629905, Start_Lat     33.849155\n",
      "Start_Lng   -117.851006\n",
      "Name: 5629905, dtype: float64)\n",
      "(1471484, Start_Lat     34.043114\n",
      "Start_Lng   -118.217155\n",
      "Name: 1471484, dtype: float64)\n",
      "(1639717, Start_Lat    35.391533\n",
      "Start_Lng   -97.523468\n",
      "Name: 1639717, dtype: float64)\n",
      "(3076909, Start_Lat    30.139606\n",
      "Start_Lng   -97.795822\n",
      "Name: 3076909, dtype: float64)\n",
      "(2138486, Start_Lat    30.441475\n",
      "Start_Lng   -97.692078\n",
      "Name: 2138486, dtype: float64)\n",
      "(3136527, Start_Lat    35.024853\n",
      "Start_Lng   -80.849922\n",
      "Name: 3136527, dtype: float64)\n",
      "(4314808, Start_Lat     34.003778\n",
      "Start_Lng   -118.280931\n",
      "Name: 4314808, dtype: float64)\n",
      "(4984241, Start_Lat     45.346903\n",
      "Start_Lng   -122.767072\n",
      "Name: 4984241, dtype: float64)\n",
      "(5070097, Start_Lat     34.047724\n",
      "Start_Lng   -118.167633\n",
      "Name: 5070097, dtype: float64)\n",
      "(5130817, Start_Lat     31.373853\n",
      "Start_Lng   -100.319952\n",
      "Name: 5130817, dtype: float64)\n",
      "(1135781, Start_Lat    40.788517\n",
      "Start_Lng   -73.788727\n",
      "Name: 1135781, dtype: float64)\n",
      "(7213975, Start_Lat     38.56472\n",
      "Start_Lng   -121.49775\n",
      "Name: 7213975, dtype: float64)\n",
      "(439174, Start_Lat     33.797306\n",
      "Start_Lng   -117.877701\n",
      "Name: 439174, dtype: float64)\n",
      "(5447373, Start_Lat     41.966537\n",
      "Start_Lng   -121.960444\n",
      "Name: 5447373, dtype: float64)\n",
      "(1078970, Start_Lat    29.373299\n",
      "Start_Lng   -98.515450\n",
      "Name: 1078970, dtype: float64)\n"
     ]
    }
   ],
   "source": [
    "for i in df[['Start_Lat','Start_Lng']].sample(100).iterrows():\n",
    "    print(i)"
   ]
  },
  {
   "cell_type": "code",
   "execution_count": 142,
   "metadata": {},
   "outputs": [
    {
     "data": {
      "text/plain": [
       "[(39.865147, -84.058723),\n",
       " (39.92805900000001, -82.831184),\n",
       " (39.063148, -84.032608),\n",
       " (39.747753, -84.20558199999998),\n",
       " (39.627781, -84.188354),\n",
       " (40.10059, -82.92519399999998),\n",
       " (39.758274, -84.23050699999997),\n",
       " (39.770382, -84.194901),\n",
       " (39.778061, -84.172005),\n",
       " (40.10059, -82.92519399999998),\n",
       " (39.952812, -83.119293),\n",
       " (39.932709, -82.83091),\n",
       " (39.737633, -84.14993299999998),\n",
       " (39.79076, -84.241547),\n",
       " (39.972038, -82.913521),\n",
       " (39.745888, -84.17041),\n",
       " (39.748329, -84.224007),\n",
       " (39.752174, -84.239952),\n",
       " (39.740669, -84.184135),\n",
       " (39.790703, -84.244461),\n",
       " (40.052509, -82.88233199999998),\n",
       " (39.773346, -84.224686),\n",
       " (39.628288, -84.226151),\n",
       " (40.023487, -82.994888),\n",
       " (39.761379, -84.25921600000002),\n",
       " (40.158024, -82.641762),\n",
       " (39.733219, -84.159653),\n",
       " (39.775303, -84.200523),\n",
       " (39.789322, -84.23910500000002),\n",
       " (39.75872, -84.183762),\n",
       " (40.081459, -83.122398),\n",
       " (39.83321, -84.112946),\n",
       " (40.042725, -82.99730699999998),\n",
       " (39.974415, -82.848854),\n",
       " (39.994766, -83.02449),\n",
       " (40.006477, -83.030991),\n",
       " (39.742062, -84.186996),\n",
       " (39.843521, -82.78157),\n",
       " (39.782578, -84.178688),\n",
       " (40.007626, -82.912155),\n",
       " (39.447502, -84.19120799999997),\n",
       " (39.787731, -84.173439),\n",
       " (39.426277, -83.624611),\n",
       " (39.978306, -82.852554),\n",
       " (39.84182, -84.18960600000003),\n",
       " (39.953625, -82.958954),\n",
       " (40.053082, -83.049644),\n",
       " (39.936874, -82.878723),\n",
       " (39.780643, -84.16349),\n",
       " (39.773193, -84.187454),\n",
       " (39.77858, -84.20468100000002),\n",
       " (39.792988, -84.20607),\n",
       " (39.770382, -84.194901),\n",
       " (39.976398, -83.119225),\n",
       " (39.6395, -84.23136099999998),\n",
       " (39.232578, -84.159286),\n",
       " (39.746593, -84.23912),\n",
       " (39.742783, -84.182472),\n",
       " (39.75452, -84.159279),\n",
       " (39.749916, -84.139359),\n",
       " (40.100903, -82.98410799999998),\n",
       " (39.77280800000001, -84.201851),\n",
       " (39.492485, -84.131798),\n",
       " (39.570904, -84.251724),\n",
       " (39.834282, -82.74382),\n",
       " (39.622787, -84.229858),\n",
       " (39.429871, -84.079666),\n",
       " (41.407391, -81.64676700000003),\n",
       " (41.424404, -81.57867399999998),\n",
       " (39.89217, -83.039169),\n",
       " (41.022358, -83.650345),\n",
       " (39.206806, -84.053253),\n",
       " (39.973797, -83.022285),\n",
       " (40.048008, -82.86421999999997),\n",
       " (39.814526, -84.021744),\n",
       " (40.151196, -84.22003199999997),\n",
       " (39.954617, -82.844238),\n",
       " (38.990551, -84.207497),\n",
       " (40.008995, -83.002678),\n",
       " (39.077332, -84.225014),\n",
       " (39.955452, -82.795845),\n",
       " (40.224586, -82.929085),\n",
       " (39.976398, -83.119225),\n",
       " (39.98560300000001, -82.939247),\n",
       " (41.040714, -81.61314399999998),\n",
       " (41.083679, -81.579002),\n",
       " (40.766891, -82.42411),\n",
       " (41.422199, -81.843018),\n",
       " (41.063995, -81.57294499999998),\n",
       " (39.747753, -84.20558199999998),\n",
       " (38.99408, -84.142021),\n",
       " (41.420818, -81.694008),\n",
       " (40.030342, -83.030197),\n",
       " (39.858089, -82.827904),\n",
       " (41.112324, -81.60992399999998),\n",
       " (39.994061, -82.729416),\n",
       " (41.355396, -81.81926700000002),\n",
       " (39.687389, -84.23796800000002),\n",
       " (39.751038, -84.214325),\n",
       " (39.749916, -84.139359),\n",
       " (39.97509, -82.88460500000002),\n",
       " (40.11195, -83.016663),\n",
       " (41.424313, -81.57914),\n",
       " (39.691864, -84.211166),\n",
       " (39.769173, -84.20728299999998),\n",
       " (39.75452, -84.159279),\n",
       " (39.874947, -83.003937),\n",
       " (39.769596, -84.176964),\n",
       " (39.776417, -84.23026999999998),\n",
       " (39.64185, -84.227455),\n",
       " (39.76028400000001, -84.196434),\n",
       " (39.802528, -84.220093),\n",
       " (39.828781, -84.19839499999998),\n",
       " (39.733337, -84.180359),\n",
       " (39.759426, -84.138367),\n",
       " (39.78361500000001, -84.227531),\n",
       " (39.74004, -84.194923),\n",
       " (39.735199, -84.204948),\n",
       " (39.749035, -84.20474200000002),\n",
       " (39.969223, -82.984131),\n",
       " (39.995369, -82.985085),\n",
       " (39.744873, -84.205025),\n",
       " (39.749786, -84.199493),\n",
       " (39.780331, -84.195076),\n",
       " (40.109928, -82.97820300000002),\n",
       " (40.11195, -83.016663),\n",
       " (40.112156, -83.035072),\n",
       " (39.871761, -82.933449),\n",
       " (39.934517, -82.86065699999997),\n",
       " (40.02404, -82.99479699999998),\n",
       " (41.014015, -81.932777),\n",
       " (40.575069, -82.528145),\n",
       " (39.996578, -84.21680500000002),\n",
       " (39.986324, -82.985458),\n",
       " (40.013062, -82.90213),\n",
       " (39.981709, -82.98436),\n",
       " (39.953022, -82.99889399999998),\n",
       " (39.973812, -82.983162),\n",
       " (39.978306, -82.852554),\n",
       " (39.917412, -83.014236),\n",
       " (39.469582, -83.712799),\n",
       " (39.63958, -84.234818),\n",
       " (39.975986, -82.996307),\n",
       " (39.951401, -83.040161),\n",
       " (39.96888, -83.022263),\n",
       " (39.804295, -84.178917),\n",
       " (39.831444, -84.097267),\n",
       " (39.890587, -83.03538499999998),\n",
       " (39.770977, -84.183914),\n",
       " (39.808121, -84.173477),\n",
       " (41.410461, -81.725853),\n",
       " (39.747753, -84.20558199999998),\n",
       " (39.6395, -84.23136099999998),\n",
       " (39.94537, -82.88744399999999),\n",
       " (39.79813, -84.24479699999998),\n",
       " (40.081715, -82.89576),\n",
       " (41.111031, -81.550728),\n",
       " (40.082016, -82.937119),\n",
       " (39.763363, -84.15535),\n",
       " (39.740063, -84.191833),\n",
       " (39.99876, -82.625221),\n",
       " (39.740063, -84.191833),\n",
       " (39.99519, -82.86859100000002),\n",
       " (41.395805, -81.935562),\n",
       " (39.887058, -82.883263),\n",
       " (39.824703, -83.141228),\n",
       " (40.977516, -82.790749),\n",
       " (40.11195, -83.016663),\n",
       " (41.150993, -81.631393),\n",
       " (39.824703, -83.141228),\n",
       " (39.885872, -82.806198),\n",
       " (40.11195, -83.016663),\n",
       " (40.09917100000001, -83.134499),\n",
       " (40.012829, -83.109131),\n",
       " (40.048183, -82.945183),\n",
       " (39.77792, -84.246872),\n",
       " (39.917412, -83.014236),\n",
       " (41.313236, -81.810959),\n",
       " (39.691998, -84.043655),\n",
       " (39.852417, -82.93860600000002),\n",
       " (39.956909, -83.044914),\n",
       " (39.602947, -82.951836),\n",
       " (39.89188400000001, -83.087547),\n",
       " (39.78508400000001, -84.210564),\n",
       " (40.1105, -82.977524),\n",
       " (40.757088, -82.50975),\n",
       " (41.063995, -81.57294499999998),\n",
       " (40.004749, -82.867638),\n",
       " (40.033955, -83.000862),\n",
       " (38.929512, -83.495262),\n",
       " (39.973419, -83.081558),\n",
       " (39.797958, -84.255135),\n",
       " (40.057369, -82.903717),\n",
       " (39.847927, -82.848274),\n",
       " (40.051949, -83.03280600000002),\n",
       " (40.051949, -83.03280600000002),\n",
       " (39.772823, -84.135612),\n",
       " (39.673203, -84.221886),\n",
       " (39.76244000000001, -84.20506999999998),\n",
       " (39.79166, -84.169342),\n",
       " (39.72757, -84.13549),\n",
       " (40.09917100000001, -83.134499),\n",
       " (38.455898, -81.93562299999998),\n",
       " (39.764778, -84.177193),\n",
       " (40.016014, -82.903442),\n",
       " (39.686901, -83.911812),\n",
       " (39.74403, -84.214638),\n",
       " (39.955738, -83.002953),\n",
       " (38.98587, -84.052551),\n",
       " (41.12336, -81.652626),\n",
       " (41.403664, -82.13942),\n",
       " (39.719009, -84.21461500000002),\n",
       " (41.063995, -81.57294499999998),\n",
       " (39.741764, -84.209923),\n",
       " (39.933804, -82.78944399999997),\n",
       " (39.673203, -84.221886),\n",
       " (38.997852, -84.043739),\n",
       " (40.080402, -82.87745699999998),\n",
       " (41.04023, -81.608711),\n",
       " (39.749664, -84.201012),\n",
       " (39.749916, -84.139359),\n",
       " (41.039204, -81.631744),\n",
       " (40.993484, -82.03600300000002),\n",
       " (41.407391, -81.64676700000003),\n",
       " (39.732441, -84.224243),\n",
       " (39.773193, -84.187454),\n",
       " (39.792931, -84.215195),\n",
       " (39.948299, -82.047081),\n",
       " (39.67263, -84.216522),\n",
       " (41.172302, -83.64917),\n",
       " (39.615208, -84.22731800000003),\n",
       " (39.790604, -84.25140400000002),\n",
       " (39.968788, -83.003754),\n",
       " (39.905334, -82.968689),\n",
       " (39.855103, -84.183678),\n",
       " (41.414131, -81.632141),\n",
       " (39.933804, -82.78944399999997),\n",
       " (41.063995, -81.57294499999998),\n",
       " (39.75782, -83.303154),\n",
       " (41.42181, -81.734482),\n",
       " (41.422199, -81.843018),\n",
       " (39.819839, -84.189087),\n",
       " (39.745735, -84.120644),\n",
       " (40.004749, -82.867638),\n",
       " (39.626396, -84.20768699999998),\n",
       " (39.761005, -84.15855400000002),\n",
       " (39.765377, -84.155914),\n",
       " (39.936871, -82.936317),\n",
       " (41.420666, -81.81644399999998),\n",
       " (39.607605, -84.15598299999998),\n",
       " (39.819809, -84.18710300000002),\n",
       " (41.371895, -81.820786),\n",
       " (39.999187, -83.075813),\n",
       " (39.741695, -84.163101),\n",
       " (39.917412, -83.014236),\n",
       " (41.423275, -81.76001),\n",
       " (39.993843, -82.985054),\n",
       " (41.36974, -81.821457),\n",
       " (41.420506, -81.816078),\n",
       " (41.407391, -81.64676700000003),\n",
       " (39.869961, -84.137642),\n",
       " (39.75782, -83.303154),\n",
       " (39.84182, -84.18960600000003),\n",
       " (39.695045, -84.10419499999998),\n",
       " (39.754223, -84.224075),\n",
       " (39.759544, -84.191811),\n",
       " (39.755566, -84.180534),\n",
       " (39.960938, -84.189583),\n",
       " (39.609039, -84.155869),\n",
       " (39.953472, -82.960274),\n",
       " (40.106297, -83.036079),\n",
       " (39.812687, -84.22734799999998),\n",
       " (39.724258, -84.213142),\n",
       " (39.929554, -82.995773),\n",
       " (39.976398, -83.119225),\n",
       " (39.915928, -82.98246800000003),\n",
       " (39.009884, -84.173073),\n",
       " (39.737701, -84.134987),\n",
       " (39.974285, -82.961174),\n",
       " (40.152611, -82.686996),\n",
       " (39.786629, -84.18869000000002),\n",
       " (40.016937, -83.156601),\n",
       " (40.003746, -83.15389300000002),\n",
       " (39.736061, -84.093002),\n",
       " (41.375961, -83.647453),\n",
       " (39.953648, -82.960373),\n",
       " (39.767757, -84.231712),\n",
       " (39.800312, -84.218811),\n",
       " (39.754055, -84.17588),\n",
       " (39.712257, -84.201782),\n",
       " (39.759201, -84.149101),\n",
       " (39.759472, -84.243698),\n",
       " (39.797668, -84.217506),\n",
       " (39.763664, -84.193298),\n",
       " (39.758121, -84.191414),\n",
       " (40.266499, -82.927544),\n",
       " (40.099384, -83.155396),\n",
       " (39.981926, -83.046265),\n",
       " (39.786633, -84.170837),\n",
       " (39.765259, -84.13780200000002),\n",
       " (40.10564, -82.949692),\n",
       " (39.762531, -84.1427),\n",
       " (41.428753, -83.61036700000002),\n",
       " (39.985336, -82.78984100000002),\n",
       " (39.955517, -82.87687700000002),\n",
       " (39.858089, -82.827904),\n",
       " (39.763615, -84.142586),\n",
       " (39.933804, -82.78944399999997),\n",
       " (40.136345, -83.00573),\n",
       " (39.76516, -84.157234),\n",
       " (39.772438, -84.14218100000002),\n",
       " (39.981968, -83.008698),\n",
       " (39.232101, -84.16014100000002),\n",
       " (40.061661, -82.99807),\n",
       " (40.082397, -82.906921),\n",
       " (39.317173, -84.220894),\n",
       " (39.690781, -84.205147),\n",
       " (39.803726, -84.18514300000002),\n",
       " (39.838779, -84.25831600000002),\n",
       " (39.76144, -84.167038),\n",
       " (39.740906, -84.182121),\n",
       " (39.81963, -84.198273),\n",
       " (39.79969000000001, -84.186996),\n",
       " (39.72364, -84.1418),\n",
       " (39.754055, -84.13889300000002),\n",
       " (39.831997, -84.223694),\n",
       " (41.403744, -82.282776),\n",
       " (39.754055, -84.17588),\n",
       " (39.630444, -84.19626600000002),\n",
       " (39.801601, -84.194542),\n",
       " (39.752647, -84.189774),\n",
       " (39.933804, -82.78944399999997),\n",
       " (39.571163, -84.202606),\n",
       " (39.17505300000001, -84.236313),\n",
       " (39.977322, -83.02109499999997),\n",
       " (39.175728, -84.180763),\n",
       " (39.68865200000001, -84.127998),\n",
       " (39.628288, -84.226151),\n",
       " (39.96764, -83.06081400000002),\n",
       " (39.797958, -84.255135),\n",
       " (39.783669, -84.155045),\n",
       " (39.989044, -83.049088),\n",
       " (39.819721, -84.191528),\n",
       " (39.783089, -84.188911),\n",
       " (39.590527, -84.17076899999998),\n",
       " (41.40274, -81.817856),\n",
       " (40.039909, -82.99683399999998),\n",
       " (39.972336, -82.983917),\n",
       " (40.00164, -82.923073),\n",
       " (39.902088, -82.898178),\n",
       " (39.833824, -83.100853),\n",
       " (39.713467, -84.216095),\n",
       " (39.640202, -84.235283),\n",
       " (39.733723, -84.204971),\n",
       " (41.351006, -83.622826),\n",
       " (39.845287, -83.993217),\n",
       " (39.607788, -84.228088),\n",
       " (39.873238, -84.13720699999998),\n",
       " (40.058132, -82.922752),\n",
       " (41.420975, -81.689758),\n",
       " (39.788414, -84.183693),\n",
       " (39.836643, -84.060753),\n",
       " (41.039829, -81.662872),\n",
       " (38.581139, -82.00456199999998),\n",
       " (39.754055, -84.17588),\n",
       " (39.929844, -83.116486),\n",
       " (39.962147, -83.092667),\n",
       " (39.697266, -84.218781),\n",
       " (40.993092, -81.662689),\n",
       " (39.845287, -83.993217),\n",
       " (41.041447, -81.565163),\n",
       " (41.407391, -81.64676700000003),\n",
       " (41.037266, -81.583786),\n",
       " (39.59872100000001, -84.161491),\n",
       " (40.018669, -81.565704),\n",
       " (39.724251, -84.21315799999998),\n",
       " (39.758556, -84.177246),\n",
       " (39.790565, -84.25914),\n",
       " (39.753105, -84.15158100000002),\n",
       " (40.301411, -83.06575),\n",
       " (39.732567, -84.15900400000002),\n",
       " (39.800358, -82.708252),\n",
       " (41.351006, -83.622826),\n",
       " (39.790565, -84.25914),\n",
       " (39.753105, -84.15158100000002),\n",
       " (40.11195, -83.016663),\n",
       " (38.892097, -84.208702),\n",
       " (39.981602, -82.885704),\n",
       " (41.337879, -82.216049),\n",
       " (39.747112, -84.163826),\n",
       " (40.087536, -82.98741899999997),\n",
       " (39.782368, -84.203339),\n",
       " (39.87857800000001, -83.049774),\n",
       " (39.669388, -84.22225999999998),\n",
       " (39.626953, -84.212288),\n",
       " (39.812687, -84.22734799999998),\n",
       " (39.819839, -84.189087),\n",
       " (39.953262, -83.01795200000002),\n",
       " (39.739319, -84.157219),\n",
       " (39.91468, -83.01690699999997),\n",
       " (41.037647, -81.584183),\n",
       " (39.798611, -84.207466),\n",
       " (40.083206, -82.90679899999998),\n",
       " (39.749916, -84.139359),\n",
       " (39.752735, -84.145386),\n",
       " (39.689022, -84.220665),\n",
       " (39.778011, -84.20049300000002),\n",
       " (41.399147, -81.565674),\n",
       " (39.59670300000001, -84.238388),\n",
       " (39.973015, -83.014801),\n",
       " (39.777355, -84.19957),\n",
       " (41.139114, -81.597305),\n",
       " (39.64724, -84.224319),\n",
       " (39.745487, -84.16544300000002),\n",
       " (39.732552, -84.12197900000002),\n",
       " (39.778011, -84.20049300000002),\n",
       " (40.002552, -83.11835500000002),\n",
       " (39.780014, -84.162888),\n",
       " (39.643101, -84.209923),\n",
       " (39.767769, -84.17716999999998),\n",
       " (39.812687, -84.22734799999998),\n",
       " (39.986324, -82.985458),\n",
       " (40.109913, -84.223648),\n",
       " (39.83847, -84.246307),\n",
       " (39.627991, -84.17021899999997),\n",
       " (39.945835, -83.061295),\n",
       " (39.591389, -84.229485),\n",
       " (39.790302, -84.21390500000003),\n",
       " (39.927441, -83.056198),\n",
       " (39.946892, -82.91548900000002),\n",
       " (40.002552, -83.11835500000002),\n",
       " (39.79031, -84.029114),\n",
       " (39.087887, -84.236076),\n",
       " (39.188583, -84.258705),\n",
       " (39.012833, -83.797585),\n",
       " (40.151196, -84.22003199999997),\n",
       " (40.033405, -82.910225),\n",
       " (39.591389, -84.229485),\n",
       " (40.080338, -82.880074),\n",
       " (40.200333, -83.027435),\n",
       " (40.02504, -82.904129),\n",
       " (40.013062, -82.90213),\n",
       " (40.065559, -82.906418),\n",
       " (39.588413, -84.229774),\n",
       " (39.902195, -83.084763),\n",
       " (41.370506, -83.616997),\n",
       " (39.945427, -82.846558),\n",
       " (39.945751, -82.846252),\n",
       " (41.316475, -81.649101),\n",
       " (39.786633, -84.170837),\n",
       " (39.768337, -84.194244),\n",
       " (39.797005, -84.154556),\n",
       " (40.005947, -82.858887),\n",
       " (39.355782, -83.268311),\n",
       " (40.030914, -82.994598),\n",
       " (39.746147, -84.183167),\n",
       " (39.771233, -84.1763),\n",
       " (39.976398, -83.119225),\n",
       " (39.948391, -82.943558),\n",
       " (39.321606, -84.070908),\n",
       " (39.085529, -84.178314),\n",
       " (39.758556, -84.177246),\n",
       " (39.939571, -83.009911),\n",
       " (39.747753, -84.20558199999998),\n",
       " (39.815628, -84.093338),\n",
       " (39.635357, -84.216339),\n",
       " (39.757317, -84.151299),\n",
       " (39.768837, -84.20156899999998),\n",
       " (39.749916, -84.139359),\n",
       " (39.685413, -84.220871),\n",
       " (39.919437, -82.775238),\n",
       " (39.972076, -83.09818299999998),\n",
       " (39.791206, -84.206223),\n",
       " (39.778645, -84.20476500000002),\n",
       " (39.749916, -84.139359),\n",
       " (39.934155, -82.852524),\n",
       " (39.755344, -84.203598),\n",
       " (40.045822, -83.033424),\n",
       " (40.051949, -83.03280600000002),\n",
       " (39.943745, -83.073151),\n",
       " (39.89217, -83.039169),\n",
       " (41.113785, -81.611633),\n",
       " (39.948158, -83.036201),\n",
       " (39.819839, -84.189087),\n",
       " (39.788414, -84.183693),\n",
       " (39.747406, -84.239487),\n",
       " (39.747753, -84.20558199999998),\n",
       " (39.788414, -84.183693),\n",
       " (41.351006, -83.622826),\n",
       " (39.756203, -84.25322),\n",
       " (39.94365300000001, -83.060631),\n",
       " (39.985336, -82.78984100000002),\n",
       " (40.077419, -82.907898),\n",
       " (39.739037, -84.152107),\n",
       " (40.083298, -84.117058),\n",
       " (40.089439, -83.036194),\n",
       " (39.735844, -84.121658),\n",
       " (39.764576, -84.187706),\n",
       " (39.747974, -84.215065),\n",
       " (39.747753, -84.20558199999998),\n",
       " (39.95232, -83.03761300000002),\n",
       " (40.01757, -82.928978),\n",
       " (39.95652800000001, -83.018555),\n",
       " (39.939571, -83.009911),\n",
       " (39.749916, -84.139359),\n",
       " (41.137856, -83.65884399999999),\n",
       " (41.112324, -81.60992399999998),\n",
       " (40.109077, -83.091064),\n",
       " (39.779266, -84.23465),\n",
       " (41.420975, -81.689758),\n",
       " (39.59670300000001, -84.238388),\n",
       " (39.772823, -84.135612),\n",
       " (40.109497, -83.090813),\n",
       " (40.080402, -82.87745699999998),\n",
       " (39.741417, -84.18055),\n",
       " (39.760406, -84.195686),\n",
       " (39.627781, -84.188354),\n",
       " (39.706184, -84.217506),\n",
       " (39.812687, -84.22734799999998),\n",
       " (39.767471, -84.15786700000002),\n",
       " (39.902088, -82.898178),\n",
       " (40.699066, -84.089935),\n",
       " (39.811291, -84.235176),\n",
       " (39.811291, -84.235176),\n",
       " (39.872375, -84.055153),\n",
       " (39.916485, -82.897026),\n",
       " (39.019779, -84.20581800000002),\n",
       " (39.096836, -84.253273),\n",
       " (40.006477, -83.030991),\n",
       " (40.080402, -82.87745699999998),\n",
       " (39.748081, -84.13945799999998),\n",
       " (40.003059, -82.862289),\n",
       " (41.36795, -81.821655),\n",
       " (39.75777100000001, -84.142036),\n",
       " (39.749916, -84.139359),\n",
       " (39.106014, -84.147224),\n",
       " (39.603619, -84.228577),\n",
       " (39.636219, -84.21775799999998),\n",
       " (39.790596, -84.253807),\n",
       " (39.786629, -84.18869000000002),\n",
       " (40.112133, -83.016998),\n",
       " (39.753288, -84.191978),\n",
       " (39.770718, -84.211449),\n",
       " (39.995968, -83.024574),\n",
       " (40.131283, -83.089745),\n",
       " (40.103794, -83.13369),\n",
       " (40.047691, -82.997086),\n",
       " (39.93639, -82.881676),\n",
       " (40.827763, -83.975716),\n",
       " (39.67155800000001, -84.252678),\n",
       " (40.028641, -83.01509899999998),\n",
       " (40.02404, -82.99479699999998),\n",
       " (40.11182, -82.901276),\n",
       " (40.09917100000001, -83.134499),\n",
       " (40.059711, -82.419037),\n",
       " (39.801685, -84.253998),\n",
       " (39.798016, -84.25018299999998),\n",
       " (39.995106, -83.025337),\n",
       " (39.740906, -84.182121),\n",
       " (39.757221, -84.205894),\n",
       " (39.745384, -84.183006),\n",
       " (39.658932, -84.157677),\n",
       " (39.780712, -84.18723299999998),\n",
       " (39.754055, -84.17588),\n",
       " (39.828781, -84.19839499999998),\n",
       " (39.805809, -84.222435),\n",
       " (39.896893, -83.723129),\n",
       " (39.715988, -84.219238),\n",
       " (39.896893, -83.723129),\n",
       " (39.715988, -84.219238),\n",
       " (39.933804, -82.78944399999997),\n",
       " (39.668198, -84.147636),\n",
       " (39.781204, -84.20558199999998),\n",
       " (39.901142, -84.18789699999998),\n",
       " (39.903053, -83.162949),\n",
       " (39.783173, -84.117981),\n",
       " (39.085529, -84.178314),\n",
       " (40.111134, -82.992203),\n",
       " (39.948391, -82.943558),\n",
       " (39.786411, -84.25376899999998),\n",
       " (39.782368, -84.203339),\n",
       " (39.74688, -84.15986600000002),\n",
       " (39.596725, -84.231667),\n",
       " (39.784584, -84.15226700000002),\n",
       " (39.769596, -84.176964),\n",
       " (39.696461, -83.456673),\n",
       " (39.97847700000001, -83.119835),\n",
       " (39.773762, -84.14045),\n",
       " (39.956909, -83.044914),\n",
       " (39.788414, -84.183693),\n",
       " (38.843636, -82.216187),\n",
       " (39.741505, -84.16555),\n",
       " (39.978668, -82.974152),\n",
       " (39.59670300000001, -84.238388),\n",
       " (39.919376, -82.936417),\n",
       " (39.788647, -84.18390699999998),\n",
       " (39.858292, -83.003548),\n",
       " (39.832066, -83.000374),\n",
       " (39.965687, -83.009842),\n",
       " (39.974941, -83.10006),\n",
       " (41.403664, -82.13942),\n",
       " (41.323063, -82.616463),\n",
       " (41.420448, -81.828468),\n",
       " (39.816311, -84.130341),\n",
       " (39.798302, -84.235229),\n",
       " (39.767513, -84.194016),\n",
       " (39.671932, -84.210815),\n",
       " (39.781044, -84.242554),\n",
       " (39.774738, -84.174683),\n",
       " (39.767204, -84.162796),\n",
       " (39.95166, -83.017601),\n",
       " (39.950317, -83.01724200000002),\n",
       " (39.732437, -84.20874),\n",
       " (39.253136, -84.135544),\n",
       " (39.790283, -84.190063),\n",
       " (39.946922, -83.031151),\n",
       " (39.956467, -83.045815),\n",
       " (39.641197, -84.157799),\n",
       " (41.425308, -81.897865),\n",
       " (39.917412, -83.014236),\n",
       " (39.981674, -82.984566),\n",
       " (39.994205, -83.024689),\n",
       " (40.004406, -82.918137),\n",
       " (40.084126, -83.137772),\n",
       " (39.959778, -82.997467),\n",
       " (40.008327, -82.986023),\n",
       " (39.977394, -83.150467),\n",
       " (40.025917, -82.994576),\n",
       " (41.40752, -81.64746099999998),\n",
       " (41.060379, -81.554153),\n",
       " (40.10564, -82.949692),\n",
       " (39.732307, -84.240646),\n",
       " (38.892097, -84.208702),\n",
       " (39.536186, -84.235069),\n",
       " (39.805882, -84.21578199999998),\n",
       " (39.944817, -82.877861),\n",
       " (39.370232, -84.249039),\n",
       " (39.734035, -84.14502),\n",
       " (39.808914, -83.97833299999998),\n",
       " (39.735283, -84.161659),\n",
       " (39.820873, -84.237328),\n",
       " (40.105621, -83.091125),\n",
       " (39.050854, -84.07486),\n",
       " (39.751579, -84.239983),\n",
       " (41.404495, -82.116928),\n",
       " (39.625694, -84.200005),\n",
       " (41.383537, -83.641235),\n",
       " (39.76926, -84.236465),\n",
       " (39.592564, -84.155518),\n",
       " (39.788414, -84.183693),\n",
       " (39.800083, -84.21869699999998),\n",
       " (39.733723, -84.204971),\n",
       " (39.738392, -84.140419),\n",
       " (39.645313, -84.232414),\n",
       " (39.651726, -84.233627),\n",
       " (39.945255, -82.600075),\n",
       " (39.783661, -84.166382),\n",
       " (40.082298, -82.896858),\n",
       " (39.75125900000001, -84.167778),\n",
       " (39.748081, -84.13945799999998),\n",
       " (39.943745, -83.073151),\n",
       " (41.407391, -81.64676700000003),\n",
       " (39.802471, -84.235107),\n",
       " (39.787209, -84.205185),\n",
       " (39.731812, -84.15831),\n",
       " (39.733723, -84.204971),\n",
       " (39.812775, -84.220001),\n",
       " (39.794266, -84.215851),\n",
       " (39.764576, -84.187706),\n",
       " (39.819523, -84.20468100000002),\n",
       " (39.788414, -84.183693),\n",
       " (39.980274, -82.83625),\n",
       " (39.773193, -84.187454),\n",
       " (39.941711, -83.978874),\n",
       " (39.737404, -84.185776),\n",
       " (40.082397, -82.906921),\n",
       " (39.184589, -84.235176),\n",
       " (39.923038, -82.784538),\n",
       " (39.745384, -84.183006),\n",
       " (39.870964, -82.855354),\n",
       " (39.981812, -83.118767),\n",
       " (39.997391, -83.118156),\n",
       " (39.632637, -84.20303299999998),\n",
       " (39.9767, -83.045517),\n",
       " (39.72419, -84.152336),\n",
       " (39.770382, -84.194901),\n",
       " (40.266563, -82.928535),\n",
       " (41.42202800000001, -81.877464),\n",
       " (39.820084, -84.16755699999999),\n",
       " (39.754055, -84.17588),\n",
       " (39.122822, -84.135796),\n",
       " (39.803738, -84.22461700000002),\n",
       " (39.596882, -84.117653),\n",
       " (39.615669, -84.135452),\n",
       " (39.973015, -83.014801),\n",
       " (39.949711, -82.970123),\n",
       " (39.949711, -82.970123),\n",
       " (39.733723, -84.204971),\n",
       " (39.74773, -84.172325),\n",
       " (39.740417, -84.186539),\n",
       " (39.625694, -84.200005),\n",
       " (39.785046, -84.236137),\n",
       " (39.749626, -84.178291),\n",
       " (39.783344, -84.253738),\n",
       " (39.820084, -84.16755699999999),\n",
       " (39.739201, -84.230324),\n",
       " (39.790916, -84.235085),\n",
       " (39.80933, -84.235146),\n",
       " (39.904541, -83.02684),\n",
       " (39.982506, -82.98451999999997),\n",
       " (39.75777100000001, -84.142036),\n",
       " (39.736004, -84.14344799999998),\n",
       " (39.59872100000001, -84.161491),\n",
       " (39.74004, -84.194923),\n",
       " (39.77626, -84.243752),\n",
       " (39.62394000000001, -84.194153),\n",
       " (39.73232700000001, -84.163055),\n",
       " (39.772064, -84.253517),\n",
       " (39.772064, -84.253517),\n",
       " (40.263664, -82.927452),\n",
       " (39.658939, -84.223244),\n",
       " (39.67889, -84.221413),\n",
       " (39.749786, -84.199493),\n",
       " (39.745384, -84.183006),\n",
       " (39.625694, -84.200005),\n",
       " (40.120651, -82.973045),\n",
       " (41.128685, -81.652153),\n",
       " (39.959805, -83.370483),\n",
       " (38.0853, -122.233017),\n",
       " (37.631813, -122.084167),\n",
       " (37.896564, -122.070717),\n",
       " (37.334255, -122.032471),\n",
       " (37.250729, -121.910713),\n",
       " (37.701584, -121.906929),\n",
       " (37.328312, -121.871811),\n",
       " (37.719162, -122.448273),\n",
       " (37.868114, -122.19593),\n",
       " (37.700951, -121.80175),\n",
       " (38.321342, -122.713707),\n",
       " (38.005135, -122.037445),\n",
       " (37.70071400000001, -121.773895),\n",
       " (37.395771, -122.012772),\n",
       " (37.701576, -121.872177),\n",
       " (38.481682, -121.408768),\n",
       " (38.682713, -121.33628799999998),\n",
       " (37.391258, -121.995895),\n",
       " (37.775215, -122.220863),\n",
       " (37.418728, -121.970436),\n",
       " (37.38237, -121.904358),\n",
       " (37.701363, -121.849533),\n",
       " (37.131519, -121.633308),\n",
       " (38.303768, -122.708183),\n",
       " (38.026699, -122.113785),\n",
       " (38.220692, -122.607536),\n",
       " (37.613815, -122.396652),\n",
       " (38.646683, -121.376694),\n",
       " (37.66637, -122.107491),\n",
       " (37.70071400000001, -121.773895),\n",
       " (38.54702, -122.808311),\n",
       " (37.856171, -122.029907),\n",
       " (37.119289, -121.626114),\n",
       " (37.088932, -121.59922),\n",
       " (38.601768, -122.864983),\n",
       " (37.701061, -122.393188),\n",
       " (37.448879, -122.12313799999998),\n",
       " (37.732746, -122.404938),\n",
       " (37.749485, -122.403236),\n",
       " (37.454247, -121.923073),\n",
       " (37.401531, -121.908859),\n",
       " (38.563538, -121.637466),\n",
       " (37.825397, -122.304802),\n",
       " (37.8009, -122.228767),\n",
       " (37.31665, -121.945389),\n",
       " (38.36479600000001, -121.350449),\n",
       " (38.551689, -121.699516),\n",
       " (38.618011, -121.401459),\n",
       " (37.49221, -122.386093),\n",
       " (37.46876500000001, -122.155205),\n",
       " (38.452553, -121.37175),\n",
       " (37.741356, -121.580826),\n",
       " (38.668053, -121.31208),\n",
       " (37.78735, -122.247955),\n",
       " (38.781418, -121.145889),\n",
       " (37.608707, -122.068192),\n",
       " (38.547523, -121.717918),\n",
       " (37.977779, -122.06575),\n",
       " (37.339455, -121.852043),\n",
       " (37.553684, -122.296257),\n",
       " (37.731983, -122.415413),\n",
       " (37.854485, -122.219765),\n",
       " (37.992588, -122.039635),\n",
       " (38.58997, -121.26548),\n",
       " (39.328636, -121.11116),\n",
       " (38.481689, -121.396133),\n",
       " (37.462418, -122.144402),\n",
       " (38.404911, -121.912468),\n",
       " (38.744423, -121.247093),\n",
       " (38.203735, -121.556808),\n",
       " (38.671062, -121.591881),\n",
       " (38.566139, -121.336296),\n",
       " (38.846264, -121.299644),\n",
       " (38.564201, -121.513878),\n",
       " (38.682323, -120.847435),\n",
       " (37.923492, -122.513168),\n",
       " (37.692444, -122.140167),\n",
       " (37.804386, -121.989738),\n",
       " (37.252171, -121.95821399999998),\n",
       " (37.701649, -121.911278),\n",
       " (37.807072, -122.475616),\n",
       " (37.690559, -122.074669),\n",
       " (37.766987, -121.335495),\n",
       " (37.700043, -121.779655),\n",
       " (37.933292, -121.296669),\n",
       " (39.411289, -123.354477),\n",
       " (38.556145, -121.443192),\n",
       " (38.74008900000001, -121.273468),\n",
       " (38.74008900000001, -121.273468),\n",
       " (38.74398400000001, -121.226074),\n",
       " (38.477348, -122.73214),\n",
       " (37.364136, -122.124481),\n",
       " (37.314922, -121.910576),\n",
       " (37.955566, -122.370888),\n",
       " (38.501938, -121.789146),\n",
       " (38.714298, -121.540237),\n",
       " (37.69278, -122.101685),\n",
       " (39.267353, -121.02877),\n",
       " (39.098984, -122.804314),\n",
       " (37.785709, -122.244514),\n",
       " (37.996063, -121.785194),\n",
       " (38.558533, -122.447746),\n",
       " (37.926357, -122.060768),\n",
       " (37.352432, -121.837746),\n",
       " (37.301517, -121.876823),\n",
       " (37.808498, -122.366852),\n",
       " (37.674477, -122.100662),\n",
       " (37.549904, -122.025429),\n",
       " (38.176636, -122.594177),\n",
       " (37.590557, -122.36186200000002),\n",
       " (38.606236, -121.508064),\n",
       " (37.57436, -121.88523899999998),\n",
       " (38.692123, -120.886917),\n",
       " (38.242306, -122.08654),\n",
       " (37.036915, -122.042366),\n",
       " (37.708939, -121.723686),\n",
       " (38.094425, -120.944992),\n",
       " (37.359665, -121.995987),\n",
       " (37.986759, -122.31488),\n",
       " (37.997124, -122.286018),\n",
       " (37.488846, -122.212852),\n",
       " (38.578747, -121.307381),\n",
       " (37.598789, -122.060852),\n",
       " (38.005135, -122.037445),\n",
       " (37.701225, -121.92247),\n",
       " (38.686363, -121.33287),\n",
       " (37.506924, -122.341293),\n",
       " (36.666836, -121.684853),\n",
       " (37.798454, -122.274803),\n",
       " (38.522472, -121.521584),\n",
       " (38.069008, -122.53876499999998),\n",
       " (38.149895, -122.451241),\n",
       " (37.910786, -122.31713899999998),\n",
       " (37.861332, -122.210243),\n",
       " (36.992775, -121.957268),\n",
       " (36.609657, -121.898407),\n",
       " (37.700855, -121.81778),\n",
       " (36.676228, -121.701744),\n",
       " (38.100746, -122.229858),\n",
       " (37.495384, -121.923294),\n",
       " (37.434715, -121.888161),\n",
       " (37.588905, -121.870926),\n",
       " (38.022526, -122.262299),\n",
       " (37.740906, -122.196472),\n",
       " (38.02545900000001, -122.112236),\n",
       " (37.605614, -121.872658),\n",
       " (36.624298, -121.841774),\n",
       " (37.318287, -121.831551),\n",
       " (38.510151, -121.459702),\n",
       " (38.644184, -121.38831299999998),\n",
       " (38.559532, -121.373085),\n",
       " (37.74055900000001, -121.58578500000002),\n",
       " (37.997124, -122.286018),\n",
       " (37.337513, -122.059784),\n",
       " (37.276817, -122.007233),\n",
       " (38.494873, -121.45028700000002),\n",
       " (38.409306, -121.35331),\n",
       " (37.89658, -122.071281),\n",
       " (37.955479, -121.324814),\n",
       " (38.022526, -122.262299),\n",
       " (37.687485, -122.133484),\n",
       " (37.334255, -122.032471),\n",
       " (37.381866, -121.963829),\n",
       " (37.704407, -122.394241),\n",
       " (38.169338, -122.199928),\n",
       " (37.795124, -122.266594),\n",
       " (37.276817, -122.007233),\n",
       " (37.756107, -122.392464),\n",
       " (37.793484, -122.263992),\n",
       " (37.877388, -122.184158),\n",
       " (38.478897, -121.421066),\n",
       " (37.54932, -122.292496),\n",
       " (38.588772, -121.404259),\n",
       " (37.76329000000001, -122.216171),\n",
       " (37.994179, -122.074287),\n",
       " (38.641266, -121.473755),\n",
       " (38.631653, -121.397972),\n",
       " (37.560719, -122.035637),\n",
       " (38.343533, -121.335594),\n",
       " (38.546047, -121.509056),\n",
       " (38.026489, -121.960167),\n",
       " (39.202377, -121.062012),\n",
       " (36.988647, -121.982933),\n",
       " (37.539642, -121.923859),\n",
       " (38.116135, -121.395554),\n",
       " (38.23616, -122.461472),\n",
       " (38.676525, -121.359612),\n",
       " (37.784885, -122.39267),\n",
       " (37.351471, -121.91433700000002),\n",
       " (38.937412, -121.095352),\n",
       " (38.772587, -121.253479),\n",
       " (39.300751, -121.029884),\n",
       " (37.410072, -121.879219),\n",
       " (38.675251, -121.352432),\n",
       " (38.667656, -121.33844),\n",
       " (38.678547, -121.235008),\n",
       " (39.143547, -121.061333),\n",
       " (38.552616, -121.69381),\n",
       " (37.570854, -122.032478),\n",
       " (38.945255, -121.046089),\n",
       " (38.929756, -121.08866100000002),\n",
       " (37.31652800000001, -121.911858),\n",
       " (37.315025, -121.909073),\n",
       " (37.830669, -122.293343),\n",
       " (37.641117, -122.406021),\n",
       " (37.693237, -122.052116),\n",
       " (37.852394, -122.029083),\n",
       " (38.373032, -121.358482),\n",
       " (38.64341, -121.434265),\n",
       " (38.537041, -121.739067),\n",
       " (38.559505, -121.467201),\n",
       " (38.546028, -121.509315),\n",
       " (38.942398, -121.09426100000002),\n",
       " (38.618366, -121.529411),\n",
       " (37.779552, -121.314514),\n",
       " (37.851658, -121.282875),\n",
       " (38.64315, -121.434677),\n",
       " (38.658169, -120.969086),\n",
       " (37.638012, -121.324409),\n",
       " (37.31638, -121.951538),\n",
       " (38.767025, -121.253128),\n",
       " (39.233013, -121.03894),\n",
       " (38.651775, -121.382942),\n",
       " (37.634174, -122.414825),\n",
       " (37.581238, -122.049042),\n",
       " (38.601833, -121.382904),\n",
       " (38.236176, -122.461472),\n",
       " (37.785542, -122.39138),\n",
       " (37.62746, -120.99706299999998),\n",
       " (38.761791, -120.915413),\n",
       " (38.229401, -122.116844),\n",
       " (37.327499, -121.878082),\n",
       " (37.750488, -121.379982),\n",
       " (37.37682, -121.941536),\n",
       " (37.38965200000001, -122.163582),\n",
       " (37.70306, -122.07856),\n",
       " (37.323593, -121.940826),\n",
       " (37.690514, -121.918709),\n",
       " (37.656654, -121.901588),\n",
       " (37.753693, -122.151398),\n",
       " (38.227737, -122.120537),\n",
       " (37.769375, -122.405533),\n",
       " (37.696819, -122.071869),\n",
       " (37.8745, -122.306038),\n",
       " (37.752502, -122.403008),\n",
       " (37.7883, -121.300407),\n",
       " (38.860706, -121.300247),\n",
       " (37.86365900000001, -121.218956),\n",
       " (37.54723, -122.37265),\n",
       " (37.33442700000001, -121.936485),\n",
       " (36.950603, -121.523094),\n",
       " (38.660831, -121.337288),\n",
       " (38.222748, -122.12883),\n",
       " (37.343258, -121.846283),\n",
       " (37.777836, -121.317451),\n",
       " (38.722092, -121.22583799999998),\n",
       " (38.246796, -122.627808),\n",
       " (38.661053, -121.359779),\n",
       " (37.813274, -121.034325),\n",
       " (37.731277, -122.435219),\n",
       " (37.315239, -121.914902),\n",
       " (37.328579, -121.871277),\n",
       " (37.882004, -121.641479),\n",
       " (38.835583, -121.168533),\n",
       " (37.933201, -122.046196),\n",
       " (37.657974, -121.902954),\n",
       " (38.562939, -121.641922),\n",
       " (38.022778, -121.965698),\n",
       " (37.656654, -121.901588),\n",
       " (38.690273, -121.392136),\n",
       " (38.68111, -121.333244),\n",
       " (38.653061, -121.070541),\n",
       " ...]"
      ]
     },
     "execution_count": 142,
     "metadata": {},
     "output_type": "execute_result"
    }
   ],
   "source": [
    "list(zip(list(df.Start_Lat),list(df.Start_Lng)))"
   ]
  },
  {
   "cell_type": "code",
   "execution_count": 153,
   "metadata": {},
   "outputs": [],
   "source": [
    "from folium.plugins import HeatMap"
   ]
  },
  {
   "cell_type": "code",
   "execution_count": 154,
   "metadata": {},
   "outputs": [],
   "source": [
    "lat_long_pairs = list(zip(list(df.Start_Lat),list(df.Start_Lng)))"
   ]
  },
  {
   "cell_type": "code",
   "execution_count": null,
   "metadata": {},
   "outputs": [],
   "source": [
    "map = folium.Map()\n",
    "HeatMap(lat_long_pairs).add_to(map)\n",
    "map"
   ]
  },
  {
   "cell_type": "code",
   "execution_count": 156,
   "metadata": {},
   "outputs": [],
   "source": [
    "#temperature "
   ]
  },
  {
   "cell_type": "code",
   "execution_count": 157,
   "metadata": {},
   "outputs": [
    {
     "data": {
      "text/plain": [
       "Index(['ID', 'Source', 'Severity', 'Start_Time', 'End_Time', 'Start_Lat',\n",
       "       'Start_Lng', 'End_Lat', 'End_Lng', 'Distance(mi)', 'Description',\n",
       "       'Street', 'City', 'County', 'State', 'Zipcode', 'Country', 'Timezone',\n",
       "       'Airport_Code', 'Weather_Timestamp', 'Temperature(F)', 'Wind_Chill(F)',\n",
       "       'Humidity(%)', 'Pressure(in)', 'Visibility(mi)', 'Wind_Direction',\n",
       "       'Wind_Speed(mph)', 'Precipitation(in)', 'Weather_Condition', 'Amenity',\n",
       "       'Bump', 'Crossing', 'Give_Way', 'Junction', 'No_Exit', 'Railway',\n",
       "       'Roundabout', 'Station', 'Stop', 'Traffic_Calming', 'Traffic_Signal',\n",
       "       'Turning_Loop', 'Sunrise_Sunset', 'Civil_Twilight', 'Nautical_Twilight',\n",
       "       'Astronomical_Twilight'],\n",
       "      dtype='object')"
      ]
     },
     "execution_count": 157,
     "metadata": {},
     "output_type": "execute_result"
    }
   ],
   "source": [
    "df.columns"
   ]
  },
  {
   "cell_type": "code",
   "execution_count": 158,
   "metadata": {},
   "outputs": [
    {
     "data": {
      "text/plain": [
       "0             Light Rain\n",
       "1             Light Rain\n",
       "2               Overcast\n",
       "3          Mostly Cloudy\n",
       "4          Mostly Cloudy\n",
       "               ...      \n",
       "7728389             Fair\n",
       "7728390             Fair\n",
       "7728391    Partly Cloudy\n",
       "7728392             Fair\n",
       "7728393             Fair\n",
       "Name: Weather_Condition, Length: 7728394, dtype: object"
      ]
     },
     "execution_count": 158,
     "metadata": {},
     "output_type": "execute_result"
    }
   ],
   "source": [
    "df.Weather_Condition"
   ]
  },
  {
   "cell_type": "code",
   "execution_count": 162,
   "metadata": {},
   "outputs": [
    {
     "data": {
      "text/plain": [
       "144"
      ]
     },
     "execution_count": 162,
     "metadata": {},
     "output_type": "execute_result"
    }
   ],
   "source": [
    "df.Weather_Condition.nunique()"
   ]
  },
  {
   "cell_type": "code",
   "execution_count": 166,
   "metadata": {},
   "outputs": [
    {
     "data": {
      "text/plain": [
       "Weather_Condition\n",
       "Fair                         2560802\n",
       "Mostly Cloudy                1016195\n",
       "Cloudy                        817082\n",
       "Clear                         808743\n",
       "Partly Cloudy                 698972\n",
       "                              ...   \n",
       "Heavy Sleet / Windy                1\n",
       "Sand / Windy                       1\n",
       "Heavy Rain Shower / Windy          1\n",
       "Blowing Snow Nearby                1\n",
       "Drifting Snow                      1\n",
       "Name: count, Length: 144, dtype: int64"
      ]
     },
     "execution_count": 166,
     "metadata": {},
     "output_type": "execute_result"
    }
   ],
   "source": [
    "Weather = df.Weather_Condition.value_counts()\n",
    "Weather"
   ]
  },
  {
   "cell_type": "code",
   "execution_count": 170,
   "metadata": {},
   "outputs": [
    {
     "data": {
      "text/plain": [
       "<Axes: ylabel='count'>"
      ]
     },
     "execution_count": 170,
     "metadata": {},
     "output_type": "execute_result"
    },
    {
     "data": {
      "image/png": "[encoded data removed]",
      "text/plain": [
       "<Figure size 640x480 with 1 Axes>"
      ]
     },
     "metadata": {},
     "output_type": "display_data"
    }
   ],
   "source": [
    "df.Weather_Condition.value_counts().plot(kind='pie')"
   ]
  },
  {
   "cell_type": "code",
   "execution_count": 171,
   "metadata": {},
   "outputs": [
    {
     "data": {
      "text/plain": [
       "<Axes: ylabel='count'>"
      ]
     },
     "execution_count": 171,
     "metadata": {},
     "output_type": "execute_result"
    },
    {
     "data": {
      "image/png": "[encoded data removed]",
      "text/plain": [
       "<Figure size 640x480 with 1 Axes>"
      ]
     },
     "metadata": {},
     "output_type": "display_data"
    }
   ],
   "source": [
    "Weather[:10].plot(kind='pie')"
   ]
  },
  {
   "cell_type": "markdown",
   "metadata": {},
   "source": [
    "ASK AND ANSWER QUESTIONS\n",
    "1.Are there more accidents in warmer or colder areas?\n",
    "2.Which 5 states have the highest number of accidents? How about the per capita?\n",
    "3. Does New York show up in the data? If yes, why is the count lower if this the most populated city.\n",
    "4. among the top 100 cities in number of accidents, which states they do belong to?\n",
    "mention that this data does not contain information about new york\n",
    "5.What time of th e day are accidents most frequent in?\n",
    "most accidents are happened in 6am to 10am\n",
    "next highest is 3 to 6pm\n",
    "6.which days of the week have the most accidents\n",
    "7.which months have the most accidents?\n",
    "8. hat is the trend of accidents year over year(decreasing/increasing?)\n",
    "9. When is accidents per unit of traffic the highest\n",
    "10. Is the distribution of accident by hours are the same on weekends as on weekdays\n",
    "11. how weather conditions are affecting accidents\n",
    "12. how temperatue effects the accidents\n"
   ]
  },
  {
   "cell_type": "code",
   "execution_count": 174,
   "metadata": {},
   "outputs": [
    {
     "ename": "AttributeError",
     "evalue": "'DataFrame' object has no attribute 'Temperature'",
     "output_type": "error",
     "traceback": [
      "\u001b[1;31m---------------------------------------------------------------------------\u001b[0m",
      "\u001b[1;31mAttributeError\u001b[0m                            Traceback (most recent call last)",
      "\u001b[1;32m~\\AppData\\Local\\Temp\\ipykernel_19528\\2798941379.py\u001b[0m in \u001b[0;36m?\u001b[1;34m()\u001b[0m\n\u001b[1;32m----> 1\u001b[1;33m \u001b[0mdf\u001b[0m\u001b[1;33m.\u001b[0m\u001b[0mTemperature\u001b[0m\u001b[1;33m(\u001b[0m\u001b[0mF\u001b[0m\u001b[1;33m)\u001b[0m\u001b[1;33m\u001b[0m\u001b[1;33m\u001b[0m\u001b[0m\n\u001b[0m",
      "\u001b[1;32mc:\\Users\\Asus\\anaconda3\\Lib\\site-packages\\pandas\\core\\generic.py\u001b[0m in \u001b[0;36m?\u001b[1;34m(self, name)\u001b[0m\n\u001b[0;32m   5985\u001b[0m             \u001b[1;32mand\u001b[0m \u001b[0mname\u001b[0m \u001b[1;32mnot\u001b[0m \u001b[1;32min\u001b[0m \u001b[0mself\u001b[0m\u001b[1;33m.\u001b[0m\u001b[0m_accessors\u001b[0m\u001b[1;33m\u001b[0m\u001b[1;33m\u001b[0m\u001b[0m\n\u001b[0;32m   5986\u001b[0m             \u001b[1;32mand\u001b[0m \u001b[0mself\u001b[0m\u001b[1;33m.\u001b[0m\u001b[0m_info_axis\u001b[0m\u001b[1;33m.\u001b[0m\u001b[0m_can_hold_identifiers_and_holds_name\u001b[0m\u001b[1;33m(\u001b[0m\u001b[0mname\u001b[0m\u001b[1;33m)\u001b[0m\u001b[1;33m\u001b[0m\u001b[1;33m\u001b[0m\u001b[0m\n\u001b[0;32m   5987\u001b[0m         ):\n\u001b[0;32m   5988\u001b[0m             \u001b[1;32mreturn\u001b[0m \u001b[0mself\u001b[0m\u001b[1;33m[\u001b[0m\u001b[0mname\u001b[0m\u001b[1;33m]\u001b[0m\u001b[1;33m\u001b[0m\u001b[1;33m\u001b[0m\u001b[0m\n\u001b[1;32m-> 5989\u001b[1;33m         \u001b[1;32mreturn\u001b[0m \u001b[0mobject\u001b[0m\u001b[1;33m.\u001b[0m\u001b[0m__getattribute__\u001b[0m\u001b[1;33m(\u001b[0m\u001b[0mself\u001b[0m\u001b[1;33m,\u001b[0m \u001b[0mname\u001b[0m\u001b[1;33m)\u001b[0m\u001b[1;33m\u001b[0m\u001b[1;33m\u001b[0m\u001b[0m\n\u001b[0m",
      "\u001b[1;31mAttributeError\u001b[0m: 'DataFrame' object has no attribute 'Temperature'"
     ]
    }
   ],
   "source": [
    "df.Temperature(F)"
   ]
  },
  {
   "cell_type": "code",
   "execution_count": 176,
   "metadata": {},
   "outputs": [
    {
     "data": {
      "text/plain": [
       "0          36.9\n",
       "1          37.9\n",
       "2          36.0\n",
       "3          35.1\n",
       "4          36.0\n",
       "           ... \n",
       "7728389    86.0\n",
       "7728390    70.0\n",
       "7728391    73.0\n",
       "7728392    71.0\n",
       "7728393    79.0\n",
       "Name: Temperature(F), Length: 7728394, dtype: float64"
      ]
     },
     "execution_count": 176,
     "metadata": {},
     "output_type": "execute_result"
    }
   ],
   "source": [
    "df['Temperature(F)']"
   ]
  },
  {
   "cell_type": "code",
   "execution_count": 177,
   "metadata": {},
   "outputs": [
    {
     "data": {
      "text/plain": [
       "Index(['ID', 'Source', 'Severity', 'Start_Time', 'End_Time', 'Start_Lat',\n",
       "       'Start_Lng', 'End_Lat', 'End_Lng', 'Distance(mi)', 'Description',\n",
       "       'Street', 'City', 'County', 'State', 'Zipcode', 'Country', 'Timezone',\n",
       "       'Airport_Code', 'Weather_Timestamp', 'Temperature(F)', 'Wind_Chill(F)',\n",
       "       'Humidity(%)', 'Pressure(in)', 'Visibility(mi)', 'Wind_Direction',\n",
       "       'Wind_Speed(mph)', 'Precipitation(in)', 'Weather_Condition', 'Amenity',\n",
       "       'Bump', 'Crossing', 'Give_Way', 'Junction', 'No_Exit', 'Railway',\n",
       "       'Roundabout', 'Station', 'Stop', 'Traffic_Calming', 'Traffic_Signal',\n",
       "       'Turning_Loop', 'Sunrise_Sunset', 'Civil_Twilight', 'Nautical_Twilight',\n",
       "       'Astronomical_Twilight'],\n",
       "      dtype='object')"
      ]
     },
     "execution_count": 177,
     "metadata": {},
     "output_type": "execute_result"
    }
   ],
   "source": [
    "df.columns"
   ]
  },
  {
   "cell_type": "code",
   "execution_count": 179,
   "metadata": {},
   "outputs": [
    {
     "data": {
      "text/plain": [
       "<Axes: xlabel='Temperature(F)', ylabel='Severity'>"
      ]
     },
     "execution_count": 179,
     "metadata": {},
     "output_type": "execute_result"
    },
    {
     "data": {
      "image/png": "[encoded data removed]",
      "text/plain": [
       "<Figure size 640x480 with 1 Axes>"
      ]
     },
     "metadata": {},
     "output_type": "display_data"
    }
   ],
   "source": [
    "sns.scatterplot(x=df['Temperature(F)'],y=df['Severity'])"
   ]
  },
  {
   "cell_type": "markdown",
   "metadata": {},
   "source": [
    "The terms “severity 1,” “severity 2,” “severity 3,” and “severity 4” are often used to classify the impact of incidents or issues, including those related to temperature. Here’s a general breakdown:\n",
    "\n",
    "Severity 1 (SEV 1): This is the most critical level. It indicates a severe incident that affects a large number of users or critical systems. In the context of temperature, it could mean extremely high or low temperatures that pose immediate danger to health and safety.\n",
    "Severity 2 (SEV 2): This level is still serious but less critical than SEV 1. It might affect a significant portion of users or important systems. For temperature, it could mean conditions that are hazardous but not immediately life-threatening.\n",
    "Severity 3 (SEV 3): This level indicates moderate impact. It might cause inconvenience or minor issues for users. In terms of temperature, it could refer to uncomfortable but manageable conditions.\n",
    "Severity 4 (SEV 4): This is the least severe level. It usually involves minor issues that have little to no impact on users. For temperature, it could mean slight deviations from the norm that are easily tolerated12.\n",
    "These classifications help in prioritizing responses and managing resources effectively. If you have a specific context or scenario in mind, feel free to share more details!"
   ]
  },
  {
   "cell_type": "code",
   "execution_count": 180,
   "metadata": {},
   "outputs": [
    {
     "data": {
      "text/plain": [
       "<Axes: ylabel='count'>"
      ]
     },
     "execution_count": 180,
     "metadata": {},
     "output_type": "execute_result"
    },
    {
     "data": {
      "image/png": "[encoded data removed]",
      "text/plain": [
       "<Figure size 640x480 with 1 Axes>"
      ]
     },
     "metadata": {},
     "output_type": "display_data"
    }
   ],
   "source": [
    "df.Timezone.value_counts().plot(kind='pie')"
   ]
  },
  {
   "cell_type": "code",
   "execution_count": null,
   "metadata": {},
   "outputs": [],
   "source": []
  }
 ],
 "metadata": {
  "kernelspec": {
   "display_name": "base",
   "language": "python",
   "name": "python3"
  },
  "language_info": {
   "codemirror_mode": {
    "name": "ipython",
    "version": 3
   },
   "file_extension": ".py",
   "mimetype": "text/x-python",
   "name": "python",
   "nbconvert_exporter": "python",
   "pygments_lexer": "ipython3",
   "version": "3.11.5"
  }
 },
 "nbformat": 4,
 "nbformat_minor": 2
}
